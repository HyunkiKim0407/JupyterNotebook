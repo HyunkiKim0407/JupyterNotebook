{
 "cells": [
  {
   "cell_type": "code",
   "execution_count": 1,
   "id": "7698edd8",
   "metadata": {},
   "outputs": [],
   "source": [
    "class Car:\n",
    "    pass #비어있는 상태를 말하는 클래스\n",
    "\n",
    "bus = Car()\n"
   ]
  },
  {
   "cell_type": "code",
   "execution_count": 3,
   "id": "606a12ff",
   "metadata": {},
   "outputs": [
    {
     "name": "stdout",
     "output_type": "stream",
     "text": [
      "1000\n",
      "1000\n"
     ]
    }
   ],
   "source": [
    "class Car:\n",
    "    carid = 1000 #클래스 변수 == 공유변수?\n",
    "bus = Car()\n",
    "texi = Car()\n",
    "\n",
    "print(bus.carid)\n",
    "print(texi.carid)\n",
    "\n",
    "\n",
    "#객체생성과 상관없이 만들어진다.\n",
    "\n",
    "\n"
   ]
  },
  {
   "cell_type": "code",
   "execution_count": 6,
   "id": "ded0dca2",
   "metadata": {},
   "outputs": [
    {
     "name": "stdout",
     "output_type": "stream",
     "text": [
      "1000\n",
      "10\n"
     ]
    }
   ],
   "source": [
    "class Car:\n",
    "    #클래스명, 객체명\n",
    "    carid = 1000 #클래스 변수 == 공유변수?\n",
    "    def __init__(self): #생성자\n",
    "        self.a = 10 #인스턴스 변수\n",
    "print(Car.carid) \n",
    "\n",
    "bus = Car() #Car라는 클래스에 의해서 만들어진 인스턴스 bus\n",
    "print(bus.a)\n",
    "\n",
    "# texi = Car() \n",
    "\n",
    "# print(bus.carid)\n",
    "# print(texi.carid)\n",
    "\n",
    "\n",
    "#객체생성과 상관없이 만들어진다.\n",
    "\n"
   ]
  },
  {
   "cell_type": "code",
   "execution_count": 14,
   "id": "d2953be6",
   "metadata": {},
   "outputs": [
    {
     "name": "stdout",
     "output_type": "stream",
     "text": [
      "1000\n",
      "100\n",
      "1001\n",
      "50\n",
      "1002\n"
     ]
    }
   ],
   "source": [
    "class Car:\n",
    "    #클래스명, 객체명\n",
    "    carid = 1000 #클래스 변수 == 공유변수?\n",
    "    def __init__(self): #생성자\n",
    "        self.wheel = 50 #인스턴스 변수\n",
    "        Car.carid +=1 #버스 가 증가 , 택시 가 증가\n",
    "print(Car.carid) \n",
    "\n",
    "bus = Car() #Car라는 클래스에 의해서 만들어진 인스턴스 bus\n",
    "bus.wheel = 100 #인스턴스간에 독립적인 변수\n",
    "\n",
    "print(bus.wheel)\n",
    "print(Car.carid)\n",
    "\n",
    "texi = Car() \n",
    "print(texi.wheel)\n",
    "print(Car.carid)\n",
    "\n",
    "\n",
    "#객체생성과 상관없이 만들어진다.\n"
   ]
  },
  {
   "cell_type": "code",
   "execution_count": 15,
   "id": "159ba4e4",
   "metadata": {},
   "outputs": [
    {
     "name": "stdout",
     "output_type": "stream",
     "text": [
      "100\n",
      "500\n"
     ]
    }
   ],
   "source": [
    "class Car:\n",
    "\n",
    "    def __init__(self, wheel, power): #생성자, Car에 속한 맴버 메소드 self = bus \n",
    "        self.wheel = wheel #인스턴스 변수\n",
    "        self.power = power\n",
    "       \n",
    "bus = Car(100, 500) #bus를 만들 때 옵션\n",
    "print(bus.wheel)\n",
    "print(bus.power)\n",
    "\n"
   ]
  },
  {
   "cell_type": "code",
   "execution_count": 19,
   "id": "52d571ff",
   "metadata": {},
   "outputs": [
    {
     "name": "stdout",
     "output_type": "stream",
     "text": [
      "info 휠 : 100, 마력 : 500\n",
      "info 휠 : 50, 마력 : 200\n"
     ]
    }
   ],
   "source": [
    "class Car:\n",
    "\n",
    "    def __init__(self, wheel = 50, power = 200): #생성자, Car에 속한 맴버 메소드 self = bus \n",
    "        self.wheel = wheel #인스턴스 변수\n",
    "        self.power = power\n",
    "        \n",
    "    def display(self):\n",
    "        print(\"info 휠 : {}, 마력 : {}\".format(self.wheel, self.power))\n",
    "       \n",
    "bus = Car(100, 500) #bus를 만들 때 옵션\n",
    "\n",
    "bus.display()\n",
    "chev = Car()\n",
    "chev.display()"
   ]
  },
  {
   "cell_type": "code",
   "execution_count": 30,
   "id": "8bf32df0",
   "metadata": {},
   "outputs": [
    {
     "name": "stdout",
     "output_type": "stream",
     "text": [
      "info 휠 : 100, 마력 : 500\n",
      "info 휠 : 50, 마력 : 200\n",
      "차량이 1002대 생산됨\n",
      "사용법\n"
     ]
    }
   ],
   "source": [
    "class Car:\n",
    "    carid = 1000\n",
    "    def __init__(self, wheel = 50, power = 200): #생성자, Car에 속한 맴버 메소드 self = bus \n",
    "        self.wheel = wheel #인스턴스 변수\n",
    "        self.power = power\n",
    "        Car.carid += 1\n",
    "        \n",
    "    def display(self):\n",
    "        print(\"info 휠 : {}, 마력 : {}\".format(self.wheel, self.power))\n",
    "\n",
    "    @classmethod #클래스메소드\n",
    "    def check_carid_count(cls):\n",
    "        print(\"차량이 {}대 생산됨\".format(cls.carid))\n",
    "        \n",
    "    @staticmethod #정적메소드 클래스메소드보다 더 객체와 무관\n",
    "    def explain(): #자동차 설명서\n",
    "        print(\"사용법\")\n",
    "bus = Car(100, 500) #bus를 만들 때 옵션\n",
    "bus.display()\n",
    "\n",
    "chev = Car()\n",
    "chev.display()\n",
    "Car.check_carid_count()\n",
    "\n",
    "Car.explain()\n"
   ]
  },
  {
   "cell_type": "code",
   "execution_count": 1,
   "id": "624fa880",
   "metadata": {},
   "outputs": [
    {
     "name": "stdout",
     "output_type": "stream",
     "text": [
      "200\n"
     ]
    }
   ],
   "source": [
    "class Car:\n",
    "    carid = 1000\n",
    "    def __init__(self, wheel = 50, power = 200): #생성자, Car에 속한 맴버 메소드 self = bus \n",
    "        self.wheel = wheel #인스턴스 변수\n",
    "        self.power = power\n",
    "        self.__engine = 300 #__private변수 (비공개)\n",
    "        Car.carid += 1\n",
    "        \n",
    "        \n",
    "    def setEngine(self, engine): #setter\n",
    "        self.__engine = engine\n",
    "    def getEngine(self): #getter\n",
    "        # print(self.__engine)\n",
    "        return self.__engine\n",
    "        \n",
    "        \n",
    "        \n",
    "    def display(self):\n",
    "        print(\"info 휠 : {}, 마력 : {}\".format(self.wheel, self.power))\n",
    "\n",
    "    @classmethod #클래스메소드\n",
    "    def check_carid_count(cls):\n",
    "        print(\"차량이 {}대 생산됨\".format(cls.carid))\n",
    "        \n",
    "    @staticmethod #정적메소드 클래스메소드보다 더 객체와 무관\n",
    "    def explain(): #자동차 설명서\n",
    "        print(\"사용법\")\n",
    "bus = Car(100, 500) #bus를 만들 때 옵션\n",
    "bus.setEngine(200)\n",
    "print(bus.getEngine())\n",
    "# print(bus.__engine)\n",
    "# bus.engine = 200"
   ]
  },
  {
   "cell_type": "code",
   "execution_count": 2,
   "id": "3859664b",
   "metadata": {},
   "outputs": [
    {
     "name": "stdout",
     "output_type": "stream",
     "text": [
      "[<__main__.Car object at 0x104500790>, <__main__.Car object at 0x1040a2450>, <__main__.Car object at 0x1045277d0>]\n"
     ]
    }
   ],
   "source": [
    "lst = []\n",
    "for i in range(3):\n",
    "    lst.append(Car())\n",
    "    \n",
    "print(lst)"
   ]
  },
  {
   "cell_type": "code",
   "execution_count": 3,
   "id": "e5736cfd",
   "metadata": {},
   "outputs": [
    {
     "name": "stdout",
     "output_type": "stream",
     "text": [
      "300\n",
      "300\n",
      "300\n"
     ]
    }
   ],
   "source": [
    "for i in lst:\n",
    "    print(i.getEngine())"
   ]
  },
  {
   "cell_type": "code",
   "execution_count": 5,
   "id": "f1490ce9",
   "metadata": {},
   "outputs": [
    {
     "name": "stdout",
     "output_type": "stream",
     "text": [
      "info 휠 : 50, 마력 : 200\n",
      "info 휠 : 50, 마력 : 200\n",
      "info 휠 : 50, 마력 : 200\n"
     ]
    }
   ],
   "source": [
    "for i in lst:\n",
    "    i.display()"
   ]
  },
  {
   "cell_type": "code",
   "execution_count": 8,
   "id": "f206a105",
   "metadata": {},
   "outputs": [
    {
     "name": "stdout",
     "output_type": "stream",
     "text": [
      "안녕하세요\n",
      "None\n",
      "안녕하세요\n",
      "None\n",
      "안녕하세요\n",
      "None\n",
      "안녕하세요\n",
      "None\n"
     ]
    }
   ],
   "source": [
    "class Person:\n",
    "    def greeting(self):\n",
    "        print(\"안녕하세요\")\n",
    "\n",
    "class Person_list:\n",
    "    def __init__(self):\n",
    "        self.p_lst = []\n",
    "    def append_lst(self, person):\n",
    "        self.p_lst.append(person)\n",
    "        \n",
    "\n",
    "peoples = Person_list()#컨테이너 클래스\n",
    "\n",
    "for ele in range(4):\n",
    "    peoples.append_lst(Person())\n",
    "\n",
    "for ele in peoples.p_lst:\n",
    "    print(ele.greeting())"
   ]
  },
  {
   "cell_type": "code",
   "execution_count": 17,
   "id": "91cb140b",
   "metadata": {},
   "outputs": [
    {
     "name": "stdout",
     "output_type": "stream",
     "text": [
      "에휴\n",
      "안녕\n",
      "홍길동\n",
      "22\n",
      "홍길동  :  22\n"
     ]
    }
   ],
   "source": [
    "class Person:\n",
    "    def __init__(self):\n",
    "        self.name = '홍길동'\n",
    "        self.age = 22 \n",
    "    def display(self):\n",
    "        print(self.name, ' : ',self.age)\n",
    "    def say(self):\n",
    "        print('에휴')\n",
    "    \n",
    "\n",
    "class Korean(Person): #Person상속받는다.\n",
    "    def __init__(self):\n",
    "        super().__init__() #부모의 생성자 호출\n",
    "        self.lang = '한국어'\n",
    "        \n",
    "    def say(self): #부모의 기능을 무시하고 자식의 기능으로 활성화\n",
    "        super().say() #부모의 say()를 호출할때 \n",
    "        print(\"안녕\") #메소드 오버라이팅\n",
    "        \n",
    "k1 = Korean()\n",
    "k1.say() #자신이 가진 메소드\n",
    "\n",
    "print(k1.name) #상속된 멤버\n",
    "print(k1.age) #상속된 멤버변수\n",
    "k1.display()"
   ]
  },
  {
   "cell_type": "code",
   "execution_count": 9,
   "id": "929959ce",
   "metadata": {},
   "outputs": [
    {
     "name": "stdout",
     "output_type": "stream",
     "text": [
      "홍길동  :  26  :  중국어\n",
      "Ru  :  19  :  spanish\n"
     ]
    }
   ],
   "source": [
    "class Person:\n",
    "    def __init__(self, name, age):\n",
    "        self.name = name\n",
    "        self.age = age \n",
    "    def display(self):\n",
    "        print(self.name, ' : ',self.age)\n",
    "    def say(self):\n",
    "        print('에휴')\n",
    "    \n",
    "\n",
    "class Korean(Person): #Person상속받는다.\n",
    "    def __init__(self, name, age, lang):\n",
    "        super().__init__(name, age) #부모의 생성자 호출\n",
    "        self.lang = lang\n",
    "        \n",
    "    def say(self): #부모의 기능을 무시하고 자식의 기능으로 활성화\n",
    "        super().say() #부모의 say()를 호출할때 \n",
    "        print(\"안녕\") #메소드 오버라이팅\n",
    "        \n",
    "    def display(self):\n",
    "        print(self.name, ' : ',self.age,' : ',self.lang)\n",
    "\n",
    "class American(Person): #Person상속받는다.\n",
    "    def __init__(self, name, age, lang):\n",
    "        super().__init__(name, age) #부모의 생성자 호출\n",
    "        self.lang = lang\n",
    "        \n",
    "    def say(self): #부모의 기능을 무시하고 자식의 기능으로 활성화\n",
    "        print(\"Hello\") #메소드 오버라이팅\n",
    "        super.say()\n",
    "        \n",
    "    def display(self):\n",
    "        print(self.name, ' : ',self.age,' : ',self.lang)\n",
    "\n",
    "        \n",
    "\n",
    "k1 = Korean('홍길동', 26, '중국어') #생성자를 수정해보기 > display()\n",
    "a1 = American('Ru', 19, 'spanish')\n",
    "\n",
    "k1.display()\n",
    "\n",
    "a1.display()"
   ]
  },
  {
   "cell_type": "code",
   "execution_count": 10,
   "id": "69a3e3d2",
   "metadata": {},
   "outputs": [
    {
     "name": "stdout",
     "output_type": "stream",
     "text": [
      "홍길동  :  26  :  중국어\n",
      "Ru  :  19  :  spanish\n"
     ]
    }
   ],
   "source": [
    "lst = []\n",
    "lst.append(k1)\n",
    "lst.append(a1)\n",
    "\n",
    "for ele in lst:\n",
    "    ele.display()\n",
    "    "
   ]
  },
  {
   "cell_type": "code",
   "execution_count": 8,
   "id": "3598a24e",
   "metadata": {},
   "outputs": [
    {
     "name": "stdout",
     "output_type": "stream",
     "text": [
      "이름:elice, 시력 : 14,몸무게 : 16\n",
      "이름:dlice, 시력 : 11,몸무게 : 13\n",
      "이름:clice, 시력 : 8,몸무게 : 10\n",
      "이름:blice, 시력 : 1,몸무게 : 3\n",
      "이름:alice, 시력 : 5,몸무게 : 7\n"
     ]
    }
   ],
   "source": [
    "class Person:\n",
    "    def __init__(self, name, eyes, height, weight):\n",
    "        self.name = name\n",
    "        self.eyes = eyes\n",
    "        self.height = height\n",
    "        self.weight = weight\n",
    "        \n",
    "a = Person(\"alice\", 5, 6, 7)\n",
    "b = Person(\"blice\", 1, 2, 3)\n",
    "c = Person(\"clice\", 8, 9, 10)\n",
    "d = Person(\"dlice\", 11, 12, 13)\n",
    "e = Person(\"elice\", 14, 15, 16)\n",
    "\n",
    "lst = [a, b, c, d, e] #객체 리스트\n",
    "\n",
    "def sort_by(prs):\n",
    "    return prs.name\n",
    "\n",
    "sort_list = sorted(lst, key = sort_by, reverse = True) #sort_by = lambda x : x\n",
    "\n",
    "for ps in sort_list:\n",
    "    print(f\"이름:{ps.name}, 시력 : {ps.eyes},몸무게 : {ps. weight}\")\n",
    "\n",
    "        "
   ]
  },
  {
   "cell_type": "code",
   "execution_count": 10,
   "id": "885366e8",
   "metadata": {},
   "outputs": [
    {
     "name": "stdout",
     "output_type": "stream",
     "text": [
      "AAA 객체 입니다.\n"
     ]
    }
   ],
   "source": [
    "class AAA:\n",
    "    def __call__(self, *args, **kwargs):\n",
    "        print(\"AAA 객체 입니다.\")\n",
    "ob = AAA()\n",
    "ob()"
   ]
  },
  {
   "cell_type": "code",
   "execution_count": 11,
   "id": "923cf7b5",
   "metadata": {},
   "outputs": [
    {
     "name": "stdout",
     "output_type": "stream",
     "text": [
      "AAA\n"
     ]
    }
   ],
   "source": [
    "class AAA:\n",
    "    def __str__(self, *args, **kwargs):\n",
    "        return \"AAA\"\n",
    "ob = AAA()\n",
    "\n",
    "print(ob)"
   ]
  },
  {
   "cell_type": "code",
   "execution_count": 12,
   "id": "42192b56",
   "metadata": {},
   "outputs": [
    {
     "name": "stdout",
     "output_type": "stream",
     "text": [
      "AAA\n"
     ]
    }
   ],
   "source": [
    "class AAA:\n",
    "    def __repr__(self, *args, **kwargs):\n",
    "        return \"AAA\"\n",
    "ob = AAA()\n",
    "\n",
    "print(ob)"
   ]
  },
  {
   "cell_type": "code",
   "execution_count": 14,
   "id": "4c9dd953",
   "metadata": {},
   "outputs": [
    {
     "name": "stdout",
     "output_type": "stream",
     "text": [
      "AAA\n"
     ]
    }
   ],
   "source": [
    "class AAA:\n",
    "    def __str__(self, *args, **kwargs):\n",
    "        return \"AAA\"\n",
    "\n",
    "    def __repr__(self, *args, **kwargs):\n",
    "        return \"Abb\"\n",
    "ob = AAA()\n",
    "\n",
    "print(ob)"
   ]
  },
  {
   "cell_type": "code",
   "execution_count": 21,
   "id": "0f250d96",
   "metadata": {},
   "outputs": [
    {
     "name": "stdout",
     "output_type": "stream",
     "text": [
      "500도\n"
     ]
    }
   ],
   "source": [
    "from abc import *\n",
    "\n",
    "class Car(metaclass=ABCMeta):\n",
    "    @abstractmethod #추상클래스 오로지 상속용으로만 사용된다.\n",
    "    def bonnet(self):\n",
    "        pass\n",
    "    \n",
    "class Sportcar(Car):\n",
    "    def bonnet(self):\n",
    "        print(\"500도\")\n",
    "        \n",
    "s1 = Sportcar()\n",
    "s1.bonnet()"
   ]
  },
  {
   "cell_type": "code",
   "execution_count": 2,
   "id": "e643aeab",
   "metadata": {},
   "outputs": [
    {
     "data": {
      "text/plain": [
       "'/Users/ruben/Documents/workspace/JupyterNotebook'"
      ]
     },
     "execution_count": 2,
     "metadata": {},
     "output_type": "execute_result"
    }
   ],
   "source": [
    "%pwd"
   ]
  },
  {
   "cell_type": "code",
   "execution_count": 1,
   "id": "0e5cc3c3",
   "metadata": {},
   "outputs": [
    {
     "name": "stdout",
     "output_type": "stream",
     "text": [
      "/Users/ruben/Documents/workspace/JupyterNotebook/1.병원정보서비스.xlsx\r\n"
     ]
    }
   ],
   "source": [
    "ls /Users/ruben/Documents/workspace/JupyterNotebook/1.병원정보서비스.xlsx"
   ]
  },
  {
   "cell_type": "code",
   "execution_count": 2,
   "id": "593ac14b",
   "metadata": {},
   "outputs": [
    {
     "name": "stdout",
     "output_type": "stream",
     "text": [
      "[Errno 2] No such file or directory: '/Users/ruben/Documents/문서 - HYUNKI’s Laptop/workspace/JupyterNotebook/1.병원정보서비스.xlsx'\n",
      "/Users/ruben/Documents/workspace/JupyterNotebook\n"
     ]
    }
   ],
   "source": [
    "cd /Users/ruben/Documents/문서 - HYUNKI’s Laptop/workspace/JupyterNotebook/1.병원정보서비스.xlsx"
   ]
  },
  {
   "cell_type": "code",
   "execution_count": 3,
   "id": "71ccdf8f",
   "metadata": {},
   "outputs": [],
   "source": [
    "import pandas as pd \n",
    "df = pd.read_excel('1.병원정보서비스.xlsx')"
   ]
  },
  {
   "cell_type": "code",
   "execution_count": 4,
   "id": "d80ae640",
   "metadata": {},
   "outputs": [],
   "source": [
    "import csv\n",
    "df.to_csv('2.병원정보서비스.csv')"
   ]
  },
  {
   "cell_type": "code",
   "execution_count": 5,
   "id": "25eebf23",
   "metadata": {},
   "outputs": [
    {
     "name": "stdout",
     "output_type": "stream",
     "text": [
      "<class 'pandas.core.frame.DataFrame'>\n",
      "RangeIndex: 77001 entries, 0 to 77000\n",
      "Data columns (total 31 columns):\n",
      " #   Column      Non-Null Count  Dtype  \n",
      "---  ------      --------------  -----  \n",
      " 0   Unnamed: 0  77001 non-null  int64  \n",
      " 1   암호화요양기호     77001 non-null  object \n",
      " 2   요양기관명       77001 non-null  object \n",
      " 3   종별코드        77001 non-null  int64  \n",
      " 4   종별코드명       77001 non-null  object \n",
      " 5   시도코드        77001 non-null  int64  \n",
      " 6   시도코드명       77001 non-null  object \n",
      " 7   시군구코드       77001 non-null  int64  \n",
      " 8   시군구코드명      77001 non-null  object \n",
      " 9   읍면동         25513 non-null  object \n",
      " 10  우편번호        77001 non-null  int64  \n",
      " 11  주소          77001 non-null  object \n",
      " 12  전화번호        76597 non-null  object \n",
      " 13  병원홈페이지      0 non-null      float64\n",
      " 14  개설일자        76986 non-null  float64\n",
      " 15  총의사수        77001 non-null  int64  \n",
      " 16  의과일반의 인원수   77001 non-null  int64  \n",
      " 17  의과인턴 인원수    77001 non-null  int64  \n",
      " 18  의과레지던트 인원수  77001 non-null  int64  \n",
      " 19  의과전문의 인원수   77001 non-null  int64  \n",
      " 20  치과일반의 인원수   77001 non-null  int64  \n",
      " 21  치과인턴 인원수    77001 non-null  int64  \n",
      " 22  치과레지던트 인원수  77001 non-null  int64  \n",
      " 23  치과전문의 인원수   77001 non-null  int64  \n",
      " 24  한방일반의 인원수   77001 non-null  int64  \n",
      " 25  한방인턴 인원수    77001 non-null  int64  \n",
      " 26  한방레지던트 인원수  77001 non-null  int64  \n",
      " 27  한방전문의 인원수   77001 non-null  int64  \n",
      " 28  조산사 인원수     77001 non-null  int64  \n",
      " 29  좌표(X)       76484 non-null  float64\n",
      " 30  좌표(Y)       76484 non-null  float64\n",
      "dtypes: float64(4), int64(19), object(8)\n",
      "memory usage: 18.2+ MB\n"
     ]
    }
   ],
   "source": [
    "df2 = pd.read_csv('2.병원정보서비스.csv')\n",
    "df2.info()"
   ]
  },
  {
   "cell_type": "code",
   "execution_count": 7,
   "id": "e9e519f8",
   "metadata": {
    "scrolled": true
   },
   "outputs": [
    {
     "name": "stdout",
     "output_type": "stream",
     "text": [
      "<class 'pandas.core.frame.DataFrame'>\n",
      "RangeIndex: 77001 entries, 0 to 77000\n",
      "Data columns (total 30 columns):\n",
      " #   Column      Non-Null Count  Dtype  \n",
      "---  ------      --------------  -----  \n",
      " 0   암호화요양기호     77001 non-null  object \n",
      " 1   요양기관명       77001 non-null  object \n",
      " 2   종별코드        77001 non-null  int64  \n",
      " 3   종별코드명       77001 non-null  object \n",
      " 4   시도코드        77001 non-null  int64  \n",
      " 5   시도코드명       77001 non-null  object \n",
      " 6   시군구코드       77001 non-null  int64  \n",
      " 7   시군구코드명      77001 non-null  object \n",
      " 8   읍면동         25513 non-null  object \n",
      " 9   우편번호        77001 non-null  int64  \n",
      " 10  주소          77001 non-null  object \n",
      " 11  전화번호        76597 non-null  object \n",
      " 12  병원홈페이지      0 non-null      float64\n",
      " 13  개설일자        76986 non-null  float64\n",
      " 14  총의사수        77001 non-null  int64  \n",
      " 15  의과일반의 인원수   77001 non-null  int64  \n",
      " 16  의과인턴 인원수    77001 non-null  int64  \n",
      " 17  의과레지던트 인원수  77001 non-null  int64  \n",
      " 18  의과전문의 인원수   77001 non-null  int64  \n",
      " 19  치과일반의 인원수   77001 non-null  int64  \n",
      " 20  치과인턴 인원수    77001 non-null  int64  \n",
      " 21  치과레지던트 인원수  77001 non-null  int64  \n",
      " 22  치과전문의 인원수   77001 non-null  int64  \n",
      " 23  한방일반의 인원수   77001 non-null  int64  \n",
      " 24  한방인턴 인원수    77001 non-null  int64  \n",
      " 25  한방레지던트 인원수  77001 non-null  int64  \n",
      " 26  한방전문의 인원수   77001 non-null  int64  \n",
      " 27  조산사 인원수     77001 non-null  int64  \n",
      " 28  좌표(X)       76484 non-null  float64\n",
      " 29  좌표(Y)       76484 non-null  float64\n",
      "dtypes: float64(4), int64(18), object(8)\n",
      "memory usage: 17.6+ MB\n"
     ]
    },
    {
     "data": {
      "text/html": [
       "<div>\n",
       "<style scoped>\n",
       "    .dataframe tbody tr th:only-of-type {\n",
       "        vertical-align: middle;\n",
       "    }\n",
       "\n",
       "    .dataframe tbody tr th {\n",
       "        vertical-align: top;\n",
       "    }\n",
       "\n",
       "    .dataframe thead th {\n",
       "        text-align: right;\n",
       "    }\n",
       "</style>\n",
       "<table border=\"1\" class=\"dataframe\">\n",
       "  <thead>\n",
       "    <tr style=\"text-align: right;\">\n",
       "      <th></th>\n",
       "      <th>암호화요양기호</th>\n",
       "      <th>요양기관명</th>\n",
       "      <th>종별코드</th>\n",
       "      <th>종별코드명</th>\n",
       "      <th>시도코드</th>\n",
       "      <th>시도코드명</th>\n",
       "      <th>시군구코드</th>\n",
       "      <th>시군구코드명</th>\n",
       "      <th>읍면동</th>\n",
       "      <th>우편번호</th>\n",
       "      <th>...</th>\n",
       "      <th>치과인턴 인원수</th>\n",
       "      <th>치과레지던트 인원수</th>\n",
       "      <th>치과전문의 인원수</th>\n",
       "      <th>한방일반의 인원수</th>\n",
       "      <th>한방인턴 인원수</th>\n",
       "      <th>한방레지던트 인원수</th>\n",
       "      <th>한방전문의 인원수</th>\n",
       "      <th>조산사 인원수</th>\n",
       "      <th>좌표(X)</th>\n",
       "      <th>좌표(Y)</th>\n",
       "    </tr>\n",
       "  </thead>\n",
       "  <tbody>\n",
       "    <tr>\n",
       "      <th>0</th>\n",
       "      <td>JDQ4MTYyMiM1MSMkMSMkMCMkODkkMzgxMzUxIzExIyQxIy...</td>\n",
       "      <td>가톨릭대학교인천성모병원</td>\n",
       "      <td>1</td>\n",
       "      <td>상급종합</td>\n",
       "      <td>220000</td>\n",
       "      <td>인천</td>\n",
       "      <td>220003</td>\n",
       "      <td>인천부평구</td>\n",
       "      <td>부평동</td>\n",
       "      <td>21431</td>\n",
       "      <td>...</td>\n",
       "      <td>0</td>\n",
       "      <td>0</td>\n",
       "      <td>2</td>\n",
       "      <td>0</td>\n",
       "      <td>0</td>\n",
       "      <td>0</td>\n",
       "      <td>0</td>\n",
       "      <td>0</td>\n",
       "      <td>126.724899</td>\n",
       "      <td>37.484831</td>\n",
       "    </tr>\n",
       "    <tr>\n",
       "      <th>1</th>\n",
       "      <td>JDQ4MTYyMiM1MSMkMSMkNCMkODkkMzgxMzUxIzExIyQxIy...</td>\n",
       "      <td>강릉아산병원</td>\n",
       "      <td>1</td>\n",
       "      <td>상급종합</td>\n",
       "      <td>320000</td>\n",
       "      <td>강원</td>\n",
       "      <td>320100</td>\n",
       "      <td>강릉시</td>\n",
       "      <td>NaN</td>\n",
       "      <td>25440</td>\n",
       "      <td>...</td>\n",
       "      <td>0</td>\n",
       "      <td>0</td>\n",
       "      <td>2</td>\n",
       "      <td>0</td>\n",
       "      <td>0</td>\n",
       "      <td>0</td>\n",
       "      <td>0</td>\n",
       "      <td>0</td>\n",
       "      <td>128.857841</td>\n",
       "      <td>37.818433</td>\n",
       "    </tr>\n",
       "  </tbody>\n",
       "</table>\n",
       "<p>2 rows × 30 columns</p>\n",
       "</div>"
      ],
      "text/plain": [
       "                                             암호화요양기호         요양기관명  종별코드  \\\n",
       "0  JDQ4MTYyMiM1MSMkMSMkMCMkODkkMzgxMzUxIzExIyQxIy...  가톨릭대학교인천성모병원     1   \n",
       "1  JDQ4MTYyMiM1MSMkMSMkNCMkODkkMzgxMzUxIzExIyQxIy...        강릉아산병원     1   \n",
       "\n",
       "  종별코드명    시도코드 시도코드명   시군구코드 시군구코드명  읍면동   우편번호  ... 치과인턴 인원수 치과레지던트 인원수  \\\n",
       "0  상급종합  220000    인천  220003  인천부평구  부평동  21431  ...        0          0   \n",
       "1  상급종합  320000    강원  320100    강릉시  NaN  25440  ...        0          0   \n",
       "\n",
       "   치과전문의 인원수  한방일반의 인원수  한방인턴 인원수  한방레지던트 인원수  한방전문의 인원수  조산사 인원수       좌표(X)  \\\n",
       "0          2          0         0           0          0        0  126.724899   \n",
       "1          2          0         0           0          0        0  128.857841   \n",
       "\n",
       "       좌표(Y)  \n",
       "0  37.484831  \n",
       "1  37.818433  \n",
       "\n",
       "[2 rows x 30 columns]"
      ]
     },
     "execution_count": 7,
     "metadata": {},
     "output_type": "execute_result"
    }
   ],
   "source": [
    "df.info()\n",
    "df.head(2)"
   ]
  },
  {
   "cell_type": "code",
   "execution_count": null,
   "id": "610bb1fd",
   "metadata": {},
   "outputs": [],
   "source": []
  },
  {
   "cell_type": "code",
   "execution_count": null,
   "id": "5da1fb84",
   "metadata": {},
   "outputs": [],
   "source": []
  },
  {
   "cell_type": "code",
   "execution_count": null,
   "id": "ac2b64ec",
   "metadata": {},
   "outputs": [],
   "source": []
  },
  {
   "cell_type": "code",
   "execution_count": null,
   "id": "be6a665e",
   "metadata": {},
   "outputs": [],
   "source": []
  },
  {
   "cell_type": "code",
   "execution_count": null,
   "id": "67ce50f6",
   "metadata": {},
   "outputs": [],
   "source": []
  },
  {
   "cell_type": "code",
   "execution_count": null,
   "id": "fd9d18e6",
   "metadata": {},
   "outputs": [],
   "source": []
  }
 ],
 "metadata": {
  "kernelspec": {
   "display_name": "Python 3 (ipykernel)",
   "language": "python",
   "name": "python3"
  },
  "language_info": {
   "codemirror_mode": {
    "name": "ipython",
    "version": 3
   },
   "file_extension": ".py",
   "mimetype": "text/x-python",
   "name": "python",
   "nbconvert_exporter": "python",
   "pygments_lexer": "ipython3",
   "version": "3.11.5"
  }
 },
 "nbformat": 4,
 "nbformat_minor": 5
}
