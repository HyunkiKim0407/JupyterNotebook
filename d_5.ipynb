{
 "cells": [
  {
   "cell_type": "code",
   "execution_count": 4,
   "id": "359a2ace",
   "metadata": {},
   "outputs": [
    {
     "name": "stdout",
     "output_type": "stream",
     "text": [
      "Collecting qrcode\n",
      "  Downloading qrcode-7.4.2-py3-none-any.whl (46 kB)\n",
      "\u001b[2K     \u001b[90m━━━━━━━━━━━━━━━━━━━━━━━━━━━━━━━━━━━━━━━━\u001b[0m \u001b[32m46.2/46.2 kB\u001b[0m \u001b[31m1.0 MB/s\u001b[0m eta \u001b[36m0:00:00\u001b[0m\n",
      "\u001b[?25hRequirement already satisfied: typing-extensions in /Users/ruben/anaconda3/lib/python3.11/site-packages (from qrcode) (4.7.1)\n",
      "Collecting pypng (from qrcode)\n",
      "  Downloading pypng-0.20220715.0-py3-none-any.whl (58 kB)\n",
      "\u001b[2K     \u001b[90m━━━━━━━━━━━━━━━━━━━━━━━━━━━━━━━━━━━━━━━━\u001b[0m \u001b[32m58.1/58.1 kB\u001b[0m \u001b[31m4.5 MB/s\u001b[0m eta \u001b[36m0:00:00\u001b[0m\n",
      "\u001b[?25hInstalling collected packages: pypng, qrcode\n",
      "Successfully installed pypng-0.20220715.0 qrcode-7.4.2\n",
      "Note: you may need to restart the kernel to use updated packages.\n"
     ]
    }
   ],
   "source": [
    "pip install qrcode\n"
   ]
  },
  {
   "cell_type": "code",
   "execution_count": 1,
   "id": "3cf8ef28",
   "metadata": {},
   "outputs": [],
   "source": [
    "import json\n",
    "fruit_dict = {1: '사과', 2: '바나나', 3: '딸기', 4:'포도', 5:'수박'} "
   ]
  },
  {
   "cell_type": "code",
   "execution_count": 2,
   "id": "7a8f6afc",
   "metadata": {},
   "outputs": [],
   "source": [
    "with open('fruit_dict.json', 'w', encoding='utf-8') as file:\n",
    "    json.dump(fruit_dict, file, ensure_ascii = False)"
   ]
  },
  {
   "cell_type": "code",
   "execution_count": 3,
   "id": "eccdab2c",
   "metadata": {},
   "outputs": [
    {
     "ename": "UnsupportedOperation",
     "evalue": "not readable",
     "output_type": "error",
     "traceback": [
      "\u001b[0;31m---------------------------------------------------------------------------\u001b[0m",
      "\u001b[0;31mUnsupportedOperation\u001b[0m                      Traceback (most recent call last)",
      "Cell \u001b[0;32mIn[3], line 2\u001b[0m\n\u001b[1;32m      1\u001b[0m \u001b[38;5;28;01mwith\u001b[39;00m \u001b[38;5;28mopen\u001b[39m(\u001b[38;5;124m'\u001b[39m\u001b[38;5;124mfruit_dict.json\u001b[39m\u001b[38;5;124m'\u001b[39m, \u001b[38;5;124m'\u001b[39m\u001b[38;5;124mw\u001b[39m\u001b[38;5;124m'\u001b[39m, encoding\u001b[38;5;241m=\u001b[39m\u001b[38;5;124m'\u001b[39m\u001b[38;5;124mutf-8\u001b[39m\u001b[38;5;124m'\u001b[39m) \u001b[38;5;28;01mas\u001b[39;00m file:\n\u001b[0;32m----> 2\u001b[0m     loaded_dict \u001b[38;5;241m=\u001b[39m json\u001b[38;5;241m.\u001b[39mload(file)\n",
      "File \u001b[0;32m~/anaconda3/lib/python3.11/json/__init__.py:293\u001b[0m, in \u001b[0;36mload\u001b[0;34m(fp, cls, object_hook, parse_float, parse_int, parse_constant, object_pairs_hook, **kw)\u001b[0m\n\u001b[1;32m    274\u001b[0m \u001b[38;5;28;01mdef\u001b[39;00m \u001b[38;5;21mload\u001b[39m(fp, \u001b[38;5;241m*\u001b[39m, \u001b[38;5;28mcls\u001b[39m\u001b[38;5;241m=\u001b[39m\u001b[38;5;28;01mNone\u001b[39;00m, object_hook\u001b[38;5;241m=\u001b[39m\u001b[38;5;28;01mNone\u001b[39;00m, parse_float\u001b[38;5;241m=\u001b[39m\u001b[38;5;28;01mNone\u001b[39;00m,\n\u001b[1;32m    275\u001b[0m         parse_int\u001b[38;5;241m=\u001b[39m\u001b[38;5;28;01mNone\u001b[39;00m, parse_constant\u001b[38;5;241m=\u001b[39m\u001b[38;5;28;01mNone\u001b[39;00m, object_pairs_hook\u001b[38;5;241m=\u001b[39m\u001b[38;5;28;01mNone\u001b[39;00m, \u001b[38;5;241m*\u001b[39m\u001b[38;5;241m*\u001b[39mkw):\n\u001b[1;32m    276\u001b[0m \u001b[38;5;250m    \u001b[39m\u001b[38;5;124;03m\"\"\"Deserialize ``fp`` (a ``.read()``-supporting file-like object containing\u001b[39;00m\n\u001b[1;32m    277\u001b[0m \u001b[38;5;124;03m    a JSON document) to a Python object.\u001b[39;00m\n\u001b[1;32m    278\u001b[0m \n\u001b[0;32m   (...)\u001b[0m\n\u001b[1;32m    291\u001b[0m \u001b[38;5;124;03m    kwarg; otherwise ``JSONDecoder`` is used.\u001b[39;00m\n\u001b[1;32m    292\u001b[0m \u001b[38;5;124;03m    \"\"\"\u001b[39;00m\n\u001b[0;32m--> 293\u001b[0m     \u001b[38;5;28;01mreturn\u001b[39;00m loads(fp\u001b[38;5;241m.\u001b[39mread(),\n\u001b[1;32m    294\u001b[0m         \u001b[38;5;28mcls\u001b[39m\u001b[38;5;241m=\u001b[39m\u001b[38;5;28mcls\u001b[39m, object_hook\u001b[38;5;241m=\u001b[39mobject_hook,\n\u001b[1;32m    295\u001b[0m         parse_float\u001b[38;5;241m=\u001b[39mparse_float, parse_int\u001b[38;5;241m=\u001b[39mparse_int,\n\u001b[1;32m    296\u001b[0m         parse_constant\u001b[38;5;241m=\u001b[39mparse_constant, object_pairs_hook\u001b[38;5;241m=\u001b[39mobject_pairs_hook, \u001b[38;5;241m*\u001b[39m\u001b[38;5;241m*\u001b[39mkw)\n",
      "\u001b[0;31mUnsupportedOperation\u001b[0m: not readable"
     ]
    }
   ],
   "source": [
    "with open('fruit_dict.json', 'w', encoding='utf-8') as file:\n",
    "    loaded_dict = json.load(file)"
   ]
  },
  {
   "cell_type": "code",
   "execution_count": 4,
   "id": "c73f93f8",
   "metadata": {},
   "outputs": [],
   "source": [
    "import qrcode\n",
    "qr = qrcode.QRCode()\n",
    "qr.add_data('김현기')\n",
    "qr_img = qr.make_image()\n",
    "qr_img.save('friend.png')\n"
   ]
  },
  {
   "cell_type": "code",
   "execution_count": 5,
   "id": "01f4de5f",
   "metadata": {},
   "outputs": [],
   "source": [
    "reciept = {'a':1, 'b':2, 'c':3, 'd':4 }"
   ]
  },
  {
   "cell_type": "code",
   "execution_count": null,
   "id": "8423d473",
   "metadata": {},
   "outputs": [],
   "source": []
  },
  {
   "cell_type": "code",
   "execution_count": null,
   "id": "f8a0b61c",
   "metadata": {},
   "outputs": [],
   "source": []
  },
  {
   "cell_type": "code",
   "execution_count": null,
   "id": "ec3bbd23",
   "metadata": {},
   "outputs": [],
   "source": []
  },
  {
   "cell_type": "code",
   "execution_count": null,
   "id": "ab2ab043",
   "metadata": {},
   "outputs": [],
   "source": []
  },
  {
   "cell_type": "code",
   "execution_count": 13,
   "id": "bd016073",
   "metadata": {},
   "outputs": [
    {
     "name": "stdout",
     "output_type": "stream",
     "text": [
      "{'음료명': '에스프레소', '가격': 3000, '수량': 2, '매출': '가격수량'}\n"
     ]
    }
   ],
   "source": [
    "coffe = {'음료명':'에스프레소', '가격': 3000, '수량': 2, '매출':'가격' '수량'}\n",
    "print(coffe)"
   ]
  },
  {
   "cell_type": "code",
   "execution_count": 6,
   "id": "324162c4",
   "metadata": {},
   "outputs": [
    {
     "name": "stdout",
     "output_type": "stream",
     "text": [
      "음료명             가격         수량    매출        \n",
      "에스프레소 ['much'] ['many']\n",
      "카푸치노 ['much'] ['many']\n",
      "음료명             가격         수량    매출        \n",
      "에스프레소         3000          2    6000      \n",
      "카푸치노          4000          3    12000     \n"
     ]
    }
   ],
   "source": [
    "가격 = 3000\n",
    "수량 = 2\n",
    "매출 = 가격 * 수량\n",
    "\n",
    "coffee = [\n",
    "    {'name': '에스프레소', 'much': 3000, 'many':2},\n",
    "    {'name': '카푸치노', 'much': 4000, 'many':3}\n",
    "\n",
    "    \n",
    "    \n",
    "]\n",
    "print(\"{:<15} {:<10} {:<5} {:<10}\".format(\"음료명\", \"가격\", \"수량\", \"매출\"))\n",
    "for i in coffee:\n",
    "    print(i['name'],['much'],['many'])\n",
    "\n",
    "\n",
    "\n",
    "\n",
    "\n",
    "s1 = \"{:<15} {:<10} {:<5} {:<10}\".format(\"음료명\", \"가격\", \"수량\", \"매출\")\n",
    "\n",
    "s2 = \"{:<13} {:<13} {:<4} {:<10}\".format(\"에스프레소\", 3000, \"2\", 3000 * 2)\n",
    "\n",
    "s3 = \"{:<13} {:<13} {:<4} {:<10}\".format(\"카푸치노\", 4000, \"3\", 4000 * 3)\n",
    "\n",
    "\n",
    "\n",
    "print(s1)\n",
    "print(s2)\n",
    "print(s3)\n",
    "\n",
    "\n",
    "\n",
    "\n",
    "#s2 = \"{:<15} {:<10} {:<5} {:<10}\".format(\"에스프레소\", \"3000\", \"2\", \"\"))\n",
    "\n",
    "\n",
    "\n",
    "\n",
    "#esspreso = 0\n",
    "#capuchino = 0\n",
    "#americano = 0\n",
    "#sum = \n",
    "\n",
    "\n",
    "\n",
    "\n",
    "#s2 = '에스프레소 : {:24}'.format(esspreso)\n",
    "#s3 = '카푸치노 : {:24}'.format(capuchino)\n",
    "#s4 = '아메리카노 : {:24}'.format(americano)\n",
    "\n",
    "#print(s2)\n",
    "#print(s3)\n",
    "#print(s4)\n",
    "\n",
    "\n",
    "\n",
    "\n",
    "\n"
   ]
  },
  {
   "cell_type": "code",
   "execution_count": 7,
   "id": "f5009b46",
   "metadata": {},
   "outputs": [],
   "source": [
    "def starbuks_info(menu):\n",
    "\n",
    "    coffee = {\n",
    "    '에스프레소':{ \n",
    "        'much': 3000, \n",
    "        'many': 2\n",
    "        },\n",
    "    \n",
    "    '카푸치노': { \n",
    "        'much': 4000, \n",
    "        'many': 3\n",
    "        }\n",
    "\n",
    "    }\n",
    "    \n",
    "\n",
    "    \n",
    "    \n",
    "    for i in starbuks_info(menu):\n",
    "        if \n",
    "        \n",
    "            return i\n",
    "    \n",
    "        \n",
    "    \n",
    "\n",
    "\n",
    "much = coffee['much']\n",
    "#many = coffee['many']\n",
    "#total = much * many\n",
    "\n",
    "    \n",
    "#print(\"{:<15} {:<10} {:<5} {:<10}\".format(\"음료명\", \"가격\", \"수량\", \"매출\"))\n",
    "#print(\"-------------------------------------------\")\n",
    "#rint(\"서울A지점\")\n",
    "\n",
    "#print(coffee['name'],much,many,total)"
   ]
  },
  {
   "cell_type": "code",
   "execution_count": 82,
   "id": "3fb32aeb",
   "metadata": {
    "scrolled": true
   },
   "outputs": [
    {
     "name": "stdout",
     "output_type": "stream",
     "text": [
      "-------------------------------------------\n",
      "음료명             가격         수량    매출        \n",
      "-------------------------------------------\n",
      "서울A 지점\n",
      "에스프레소           3000       2     6000      \n",
      "카푸치노            4000       3     12000     \n",
      "아메리카노           2500       5     12500     \n",
      "-------------------------------------------\n",
      "30500\n"
     ]
    }
   ],
   "source": [
    "coffee = {\n",
    "    '에스프레소':{ \n",
    "        'much': 3000, \n",
    "        'many': 2\n",
    "        },\n",
    "    \n",
    "    '카푸치노': { \n",
    "        'much': 4000, \n",
    "        'many': 3\n",
    "        },\n",
    "     '아메리카노':{\n",
    "         'much': 2500,\n",
    "         'many': 5\n",
    "        }   \n",
    "            }\n",
    "\n",
    "print(\"-------------------------------------------\")\n",
    "print(\"{:<15} {:<10} {:<5} {:<10}\".format(\"음료명\", \"가격\", \"수량\", \"매출\"))\n",
    "print(\"-------------------------------------------\")\n",
    "print(\"서울A 지점\")\n",
    "\n",
    "hap = 0\n",
    "for key in coffee.keys():\n",
    "   \n",
    "    much = (coffee[key]['much'])\n",
    "    many = (coffee[key]['many'])\n",
    "    whole = much * many\n",
    "    hap = hap + whole\n",
    "    #print(key,much, many, whole)\n",
    "    print(\"{:<15} {:<10} {:<5} {:<10}\".format(key, much, many, whole))\n",
    "print(\"-------------------------------------------\")\n",
    "print(hap)\n",
    "    \n",
    "    \n",
    "    "
   ]
  },
  {
   "cell_type": "code",
   "execution_count": null,
   "id": "08f0b724",
   "metadata": {},
   "outputs": [],
   "source": []
  },
  {
   "cell_type": "code",
   "execution_count": null,
   "id": "25f4c7cc",
   "metadata": {},
   "outputs": [],
   "source": []
  }
 ],
 "metadata": {
  "kernelspec": {
   "display_name": "Python 3 (ipykernel)",
   "language": "python",
   "name": "python3"
  },
  "language_info": {
   "codemirror_mode": {
    "name": "ipython",
    "version": 3
   },
   "file_extension": ".py",
   "mimetype": "text/x-python",
   "name": "python",
   "nbconvert_exporter": "python",
   "pygments_lexer": "ipython3",
   "version": "3.11.5"
  }
 },
 "nbformat": 4,
 "nbformat_minor": 5
}
