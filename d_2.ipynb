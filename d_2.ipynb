{
 "cells": [
  {
   "cell_type": "code",
   "execution_count": 4,
   "id": "d500198e",
   "metadata": {},
   "outputs": [
    {
     "name": "stdout",
     "output_type": "stream",
     "text": [
      "정수 입력 : 3\n"
     ]
    }
   ],
   "source": [
    "num = int(input(\"정수 입력 : \"))"
   ]
  },
  {
   "cell_type": "code",
   "execution_count": 6,
   "id": "e808a071",
   "metadata": {},
   "outputs": [
    {
     "name": "stdout",
     "output_type": "stream",
     "text": [
      "양수\n",
      "홀수\n"
     ]
    }
   ],
   "source": [
    "if num > 0:\n",
    "    print(\"양수\")\n",
    "    if num % 2 == 0:\n",
    "        print(\"짝수\")\n",
    "    else:\n",
    "        print(\"홀수\")\n",
    "else:\n",
    "    print(\"음수 or 0\")\n"
   ]
  },
  {
   "cell_type": "code",
   "execution_count": 7,
   "id": "96784f33",
   "metadata": {},
   "outputs": [
    {
     "data": {
      "text/plain": [
       "True"
      ]
     },
     "execution_count": 7,
     "metadata": {},
     "output_type": "execute_result"
    }
   ],
   "source": [
    "not True and False or not False\n",
    "\n",
    "# not and or 순서\n"
   ]
  },
  {
   "cell_type": "code",
   "execution_count": 8,
   "id": "3c7f365d",
   "metadata": {},
   "outputs": [
    {
     "data": {
      "text/plain": [
       "True"
      ]
     },
     "execution_count": 8,
     "metadata": {},
     "output_type": "execute_result"
    }
   ],
   "source": [
    "10 < 20 or 30 < 20 and 40 < 50 "
   ]
  },
  {
   "cell_type": "code",
   "execution_count": 1,
   "id": "a5a77e39",
   "metadata": {},
   "outputs": [],
   "source": [
    "a = 10"
   ]
  },
  {
   "cell_type": "code",
   "execution_count": 2,
   "id": "1a20b3b6",
   "metadata": {},
   "outputs": [
    {
     "ename": "NameError",
     "evalue": "name 'b' is not defined",
     "output_type": "error",
     "traceback": [
      "\u001b[0;31m---------------------------------------------------------------------------\u001b[0m",
      "\u001b[0;31mNameError\u001b[0m                                 Traceback (most recent call last)",
      "Cell \u001b[0;32mIn[2], line 1\u001b[0m\n\u001b[0;32m----> 1\u001b[0m a \u001b[38;5;129;01mis\u001b[39;00m b\n",
      "\u001b[0;31mNameError\u001b[0m: name 'b' is not defined"
     ]
    }
   ],
   "source": [
    "a is b"
   ]
  },
  {
   "cell_type": "code",
   "execution_count": 3,
   "id": "2b24df99",
   "metadata": {},
   "outputs": [
    {
     "data": {
      "text/plain": [
       "4341687800"
      ]
     },
     "execution_count": 3,
     "metadata": {},
     "output_type": "execute_result"
    }
   ],
   "source": [
    "id(a)"
   ]
  },
  {
   "cell_type": "code",
   "execution_count": 4,
   "id": "1336eda9",
   "metadata": {},
   "outputs": [
    {
     "ename": "NameError",
     "evalue": "name 'b' is not defined",
     "output_type": "error",
     "traceback": [
      "\u001b[0;31m---------------------------------------------------------------------------\u001b[0m",
      "\u001b[0;31mNameError\u001b[0m                                 Traceback (most recent call last)",
      "Cell \u001b[0;32mIn[4], line 1\u001b[0m\n\u001b[0;32m----> 1\u001b[0m \u001b[38;5;28mid\u001b[39m(b)\n",
      "\u001b[0;31mNameError\u001b[0m: name 'b' is not defined"
     ]
    }
   ],
   "source": [
    "id(b)\n"
   ]
  },
  {
   "cell_type": "code",
   "execution_count": 6,
   "id": "5dad8dbd",
   "metadata": {},
   "outputs": [
    {
     "data": {
      "text/plain": [
       "50"
      ]
     },
     "execution_count": 6,
     "metadata": {},
     "output_type": "execute_result"
    }
   ],
   "source": [
    "def ssum(a, b):\n",
    "    return a + b\n",
    "\n",
    "ssum(20,30)"
   ]
  },
  {
   "cell_type": "code",
   "execution_count": 20,
   "id": "117228f9",
   "metadata": {},
   "outputs": [
    {
     "name": "stdout",
     "output_type": "stream",
     "text": [
      "not\n"
     ]
    }
   ],
   "source": [
    "def safe_sum(a, b):\n",
    "    if type(a) != type(b):\n",
    "        print(\"not\")\n",
    "        return\n",
    "    else:\n",
    "        return a + b\n",
    "\n",
    "safe_sum(20, 2.22)"
   ]
  },
  {
   "cell_type": "code",
   "execution_count": 25,
   "id": "469452d1",
   "metadata": {},
   "outputs": [
    {
     "name": "stdout",
     "output_type": "stream",
     "text": [
      "local :  5\n",
      "global :  10\n"
     ]
    }
   ],
   "source": [
    "#전역변수(global) 매개변수(local)\n",
    "\n",
    "x = 10 \n",
    "def func():\n",
    "    x = 5 \n",
    "    print(\"local : \", x)\n",
    "func()\n",
    "print(\"global : \", x)"
   ]
  },
  {
   "cell_type": "code",
   "execution_count": 31,
   "id": "9b2e60cf",
   "metadata": {},
   "outputs": [
    {
     "name": "stdout",
     "output_type": "stream",
     "text": [
      "   Hello, 홍길동!     \n"
     ]
    }
   ],
   "source": [
    "a =   \"   Hello, 홍길동!     \"  \n",
    "print(a)\n"
   ]
  },
  {
   "cell_type": "code",
   "execution_count": 36,
   "id": "9281935c",
   "metadata": {},
   "outputs": [
    {
     "name": "stdout",
     "output_type": "stream",
     "text": [
      "Hello, 홍길동!\n"
     ]
    }
   ],
   "source": [
    "a = a.strip()\n",
    "print(a)"
   ]
  },
  {
   "cell_type": "code",
   "execution_count": 37,
   "id": "2c2c5507",
   "metadata": {},
   "outputs": [
    {
     "data": {
      "text/plain": [
       "'Hello, 둘리!'"
      ]
     },
     "execution_count": 37,
     "metadata": {},
     "output_type": "execute_result"
    }
   ],
   "source": [
    "a.replace(\"홍길동\", \"둘리\")"
   ]
  },
  {
   "cell_type": "code",
   "execution_count": 38,
   "id": "942f5509",
   "metadata": {},
   "outputs": [
    {
     "data": {
      "text/plain": [
       "-1"
      ]
     },
     "execution_count": 38,
     "metadata": {},
     "output_type": "execute_result"
    }
   ],
   "source": [
    "a.find(\"둘\")"
   ]
  },
  {
   "cell_type": "code",
   "execution_count": 39,
   "id": "21eed099",
   "metadata": {},
   "outputs": [
    {
     "name": "stdout",
     "output_type": "stream",
     "text": [
      "red,green,blue\n"
     ]
    }
   ],
   "source": [
    "b = \"red:green:blue\"\n",
    "\n",
    "b = b.split(\":\")\n",
    "b = \",\".join(b)\n",
    "\n",
    "\n",
    "print(b)\n"
   ]
  },
  {
   "cell_type": "code",
   "execution_count": 40,
   "id": "1da217fd",
   "metadata": {},
   "outputs": [
    {
     "name": "stdout",
     "output_type": "stream",
     "text": [
      "0\n",
      "1\n",
      "2\n",
      "3\n",
      "4\n"
     ]
    }
   ],
   "source": [
    "for i in range(5):\n",
    "    print(i)"
   ]
  },
  {
   "cell_type": "code",
   "execution_count": 5,
   "id": "5d9c3efa",
   "metadata": {},
   "outputs": [],
   "source": [
    "i = 0\n",
    "y = 0\n",
    "\n",
    "        while(0, 9):\n",
    "            for i in range(10):\n",
    "                i % 2 == 0\n",
    "                print(i)\n",
    "\n",
    "            "
   ]
  },
  {
   "cell_type": "code",
   "execution_count": 56,
   "id": "a1557b24",
   "metadata": {},
   "outputs": [
    {
     "name": "stdout",
     "output_type": "stream",
     "text": [
      "1\n",
      "2\n",
      "3\n",
      "4\n",
      "5\n",
      "6\n",
      "7\n",
      "8\n",
      "9\n"
     ]
    }
   ],
   "source": [
    "for i in range(1,10):\n",
    "    print(i)\n"
   ]
  },
  {
   "cell_type": "code",
   "execution_count": null,
   "id": "1d9323b2",
   "metadata": {},
   "outputs": [],
   "source": []
  },
  {
   "cell_type": "code",
   "execution_count": 77,
   "id": "358dc270",
   "metadata": {},
   "outputs": [
    {
     "name": "stdout",
     "output_type": "stream",
     "text": [
      "-10\n",
      "-5\n",
      "0\n",
      "5\n",
      "10\n"
     ]
    }
   ],
   "source": [
    "for i in range(-10, 11):\n",
    "    if i % 5 == 0:\n",
    "        print(i)\n"
   ]
  },
  {
   "cell_type": "code",
   "execution_count": 87,
   "id": "0468e90e",
   "metadata": {},
   "outputs": [
    {
     "name": "stdout",
     "output_type": "stream",
     "text": [
      "0\n",
      "3\n",
      "6\n",
      "9\n",
      "12\n",
      "15\n",
      "18\n",
      "21\n",
      "24\n",
      "27\n",
      "30\n",
      "33\n",
      "36\n",
      "39\n",
      "42\n",
      "45\n",
      "48\n",
      "51\n",
      "54\n",
      "57\n",
      "60\n",
      "63\n",
      "66\n",
      "69\n",
      "72\n",
      "75\n",
      "78\n",
      "81\n",
      "84\n",
      "87\n",
      "90\n",
      "93\n",
      "96\n",
      "99\n"
     ]
    }
   ],
   "source": [
    "for i in range(0, 101):\n",
    "    if i % 3 == 0:\n",
    "        \n",
    "        print(i)"
   ]
  },
  {
   "cell_type": "code",
   "execution_count": 101,
   "id": "af3a5143",
   "metadata": {},
   "outputs": [
    {
     "name": "stdout",
     "output_type": "stream",
     "text": [
      "1\n",
      "2\n",
      "짝\n",
      "4\n",
      "5\n",
      "짝\n",
      "7\n",
      "8\n",
      "짝\n",
      "10\n",
      "11\n",
      "짝\n",
      "13\n",
      "14\n",
      "짝\n",
      "16\n",
      "17\n",
      "짝\n",
      "19\n",
      "20\n",
      "짝\n",
      "22\n",
      "23\n",
      "짝\n",
      "25\n",
      "26\n",
      "짝\n",
      "28\n",
      "29\n",
      "짝\n",
      "31\n",
      "32\n",
      "짝\n",
      "34\n",
      "35\n",
      "짝\n",
      "37\n",
      "38\n",
      "짝\n",
      "40\n",
      "41\n",
      "짝\n",
      "43\n",
      "44\n",
      "짝\n",
      "46\n",
      "47\n",
      "짝\n",
      "49\n",
      "50\n",
      "짝\n",
      "52\n",
      "53\n",
      "짝\n",
      "55\n",
      "56\n",
      "짝\n",
      "58\n",
      "59\n",
      "짝\n",
      "61\n",
      "62\n",
      "짝\n",
      "64\n",
      "65\n",
      "짝\n",
      "67\n",
      "68\n",
      "짝\n",
      "70\n",
      "71\n",
      "짝\n",
      "73\n",
      "74\n",
      "짝\n",
      "76\n",
      "77\n",
      "짝\n",
      "79\n",
      "80\n",
      "짝\n",
      "82\n",
      "83\n",
      "짝\n",
      "85\n",
      "86\n",
      "짝\n",
      "88\n",
      "89\n",
      "짝\n",
      "91\n",
      "92\n",
      "짝\n",
      "94\n",
      "95\n",
      "짝\n",
      "97\n",
      "98\n",
      "짝\n",
      "100\n"
     ]
    }
   ],
   "source": [
    "x = 0\n",
    "z = 0\n",
    "for z in range(1, 101):\n",
    "    if z % 3 == 0:\n",
    "        z = \"짝\"\n",
    "    print(z)"
   ]
  },
  {
   "cell_type": "code",
   "execution_count": null,
   "id": "d863edc8",
   "metadata": {},
   "outputs": [],
   "source": [
    "cc = [3,4,1,5,2]"
   ]
  },
  {
   "cell_type": "code",
   "execution_count": null,
   "id": "86d8c6d5",
   "metadata": {},
   "outputs": [],
   "source": []
  },
  {
   "cell_type": "code",
   "execution_count": null,
   "id": "68c9905f",
   "metadata": {},
   "outputs": [],
   "source": []
  }
 ],
 "metadata": {
  "kernelspec": {
   "display_name": "Python 3 (ipykernel)",
   "language": "python",
   "name": "python3"
  },
  "language_info": {
   "codemirror_mode": {
    "name": "ipython",
    "version": 3
   },
   "file_extension": ".py",
   "mimetype": "text/x-python",
   "name": "python",
   "nbconvert_exporter": "python",
   "pygments_lexer": "ipython3",
   "version": "3.11.5"
  }
 },
 "nbformat": 4,
 "nbformat_minor": 5
}
