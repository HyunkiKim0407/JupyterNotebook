{
 "cells": [
  {
   "cell_type": "code",
   "execution_count": 1,
   "id": "efa6c039",
   "metadata": {},
   "outputs": [],
   "source": [
    "#넘파이  - 파이썬: 브로드 캐스팅?이 안됌\n",
    "#판다스 - 시각화(그래프그리기:히스토그램, 선그래프) 데이터프레임(여러가지 함수)\n",
    "#크롤링 - 정적페이지, 동적페이지, 셀레늄\n",
    "\n"
   ]
  },
  {
   "cell_type": "code",
   "execution_count": 1,
   "id": "417397a0",
   "metadata": {},
   "outputs": [
    {
     "name": "stdout",
     "output_type": "stream",
     "text": [
      "<class 'numpy.ndarray'>\n"
     ]
    },
    {
     "data": {
      "text/plain": [
       "array([0, 1, 2, 3, 4])"
      ]
     },
     "execution_count": 1,
     "metadata": {},
     "output_type": "execute_result"
    }
   ],
   "source": [
    "import numpy as np\n",
    "\n",
    "a = np.arange(5) # 0~5\n",
    "print(type(a))\n",
    "a"
   ]
  },
  {
   "cell_type": "code",
   "execution_count": 10,
   "id": "d4a671b3",
   "metadata": {},
   "outputs": [
    {
     "name": "stdout",
     "output_type": "stream",
     "text": [
      "[0 1 2 3 4]\n"
     ]
    },
    {
     "data": {
      "text/plain": [
       "[0, 1, 2, 3, 4]"
      ]
     },
     "execution_count": 10,
     "metadata": {},
     "output_type": "execute_result"
    }
   ],
   "source": [
    "b = np.array([0, 1, 2, 3, 4])\n",
    "\n",
    "print(b)\n"
   ]
  },
  {
   "cell_type": "code",
   "execution_count": 16,
   "id": "58059045",
   "metadata": {},
   "outputs": [
    {
     "name": "stdout",
     "output_type": "stream",
     "text": [
      "[1, 2, 3, 4]\n",
      "<class 'list'>\n"
     ]
    }
   ],
   "source": [
    "c = [1, 2]\n",
    "d = [3, 4]\n",
    "\n",
    "c.extend(d)\n",
    "\n",
    "print(c)\n",
    "print(type(c))"
   ]
  },
  {
   "cell_type": "code",
   "execution_count": 44,
   "id": "afcc562c",
   "metadata": {},
   "outputs": [
    {
     "name": "stdout",
     "output_type": "stream",
     "text": [
      "[[0 1 2]\n",
      " [0 1 2]\n",
      " [0 1 2]]\n",
      "(3, 3)\n",
      "2\n",
      "int32\n",
      "4\n",
      "9\n"
     ]
    }
   ],
   "source": [
    "c = np.array([np.arange(3), np.arange(3), np.arange(3)])\n",
    "print(c)\n",
    "print(c.shape)\n",
    "print(c.ndim)\n",
    "print(c.dtype)\n",
    "print(c.itemsize)\n",
    "print(c.size)"
   ]
  },
  {
   "cell_type": "code",
   "execution_count": 49,
   "id": "99860e2b",
   "metadata": {},
   "outputs": [
    {
     "name": "stdout",
     "output_type": "stream",
     "text": [
      "4\n"
     ]
    },
    {
     "data": {
      "text/plain": [
       "array([1, 2, 3, 4])"
      ]
     },
     "execution_count": 49,
     "metadata": {},
     "output_type": "execute_result"
    }
   ],
   "source": [
    "a = np.arange(1, 5)\n",
    "print(a[3])\n",
    "a[0:5]\n"
   ]
  },
  {
   "cell_type": "code",
   "execution_count": 4,
   "id": "e26de234",
   "metadata": {},
   "outputs": [
    {
     "name": "stdout",
     "output_type": "stream",
     "text": [
      "[[0 1]\n",
      " [2 3]]\n",
      "==========================================\n",
      "[2 3]\n",
      "==========================================\n",
      "[[1]\n",
      " [3]]\n",
      "==========================================\n",
      "(2,)\n",
      "==========================================\n",
      "(2, 1)\n",
      "==========================================\n",
      "==========================================\n",
      "==========================================\n",
      "==========================================\n"
     ]
    }
   ],
   "source": [
    "import numpy as np\n",
    "\n",
    "c = np.array([np.arange(2), np.arange(2)])\n",
    "\n",
    "\n",
    "c[0,0]= 0\n",
    "c[0,1]= 1\n",
    "c[1,0]= 2\n",
    "c[1,1]= 3\n",
    "print(c)\n",
    "print('==========================================')\n",
    "print(c[1 ,:])#[행, 열]\n",
    "print('==========================================')\n",
    "\n",
    "print(c[:, 1:])\n",
    "print('==========================================')\n",
    "cc = c[1, :]\n",
    "print(cc.shape)\n",
    "print('==========================================')\n",
    "cc = c[:, 1:]\n",
    "print(cc.shape)\n",
    "print('==========================================')\n",
    "print('==========================================')\n",
    "print('==========================================')\n",
    "print('==========================================')\n",
    "\n",
    "\n"
   ]
  },
  {
   "cell_type": "code",
   "execution_count": 85,
   "id": "ebbfb4b9",
   "metadata": {},
   "outputs": [
    {
     "name": "stdout",
     "output_type": "stream",
     "text": [
      "[False False False  True  True]\n"
     ]
    }
   ],
   "source": [
    "a = np.arange(5)\n",
    "\n",
    "condition = a >= 3\n",
    "print(condition)\n"
   ]
  },
  {
   "cell_type": "code",
   "execution_count": 86,
   "id": "c9581ab9",
   "metadata": {},
   "outputs": [
    {
     "data": {
      "text/plain": [
       "array([3, 4])"
      ]
     },
     "execution_count": 86,
     "metadata": {},
     "output_type": "execute_result"
    }
   ],
   "source": [
    "select = a[condition]\n",
    "select\n"
   ]
  },
  {
   "cell_type": "code",
   "execution_count": 87,
   "id": "cc4f3d67",
   "metadata": {},
   "outputs": [
    {
     "data": {
      "text/plain": [
       "array([-0.69087664, -0.84333683, -0.73660285, ..., -1.41579179,\n",
       "       -0.32211055,  1.23405864])"
      ]
     },
     "execution_count": 87,
     "metadata": {},
     "output_type": "execute_result"
    }
   ],
   "source": [
    "import numpy as np\n",
    "\n",
    "# Create a 2-D array, set every second element in\n",
    "# some rows and find max per row:\n",
    "\n",
    "x = np.arange(15, dtype=np.int64).reshape(3, 5)\n",
    "x[1:, ::2] = -99\n",
    "x\n",
    "# array([[  0,   1,   2,   3,   4],\n",
    "#        [-99,   6, -99,   8, -99],\n",
    "#        [-99,  11, -99,  13, -99]])\n",
    "\n",
    "x.max(axis=1)\n",
    "# array([ 4,  8, 13])\n",
    "\n",
    "# Generate normally distributed random numbers:\n",
    "rng = np.random.default_rng()\n",
    "samples = rng.normal(size=2500)\n",
    "samples"
   ]
  },
  {
   "cell_type": "code",
   "execution_count": 502,
   "id": "693e80bc",
   "metadata": {},
   "outputs": [
    {
     "data": {
      "text/plain": [
       "array([[0, 1],\n",
       "       [2, 3]])"
      ]
     },
     "execution_count": 502,
     "metadata": {},
     "output_type": "execute_result"
    }
   ],
   "source": [
    "c = np.array([np.arange(2), np.arange(2, 4, 1)])\n",
    "c\n",
    "# c + 2\n"
   ]
  },
  {
   "cell_type": "code",
   "execution_count": 70,
   "id": "09262782",
   "metadata": {},
   "outputs": [
    {
     "name": "stdout",
     "output_type": "stream",
     "text": [
      "[[1 2]\n",
      " [3 4]]\n",
      "==========================================\n",
      "[[10 20]\n",
      " [30 40]]\n",
      "==========================================\n",
      "[[11 22]\n",
      " [33 44]]\n"
     ]
    }
   ],
   "source": [
    "import numpy as np\n",
    "\n",
    "# array([1,2],\n",
    "#      [3,4])\n",
    "# array([10, 20],\n",
    "#      [30,40])\n",
    "# a = [(np.array([1, 2]),np.array([3, 4])\n",
    "\n",
    "a = np.array([[1, 2],\n",
    "              [3, 4]])\n",
    "\n",
    "\n",
    "\n",
    "print (a)\n",
    "# a [0,0] = 1\n",
    "# a  [0,1] = 2\n",
    "# a  [1,0] = 3\n",
    "# a  [1,1] = 4\n",
    "print('==========================================')\n",
    "\n",
    "b = np.array([[10, 20],\n",
    "              [30, 40]])\n",
    "print(b)\n",
    "print('==========================================')\n",
    "\n",
    "\n",
    "print(a + b)\n",
    "\n"
   ]
  },
  {
   "cell_type": "code",
   "execution_count": 36,
   "id": "d197ca8b",
   "metadata": {},
   "outputs": [
    {
     "data": {
      "text/plain": [
       "32"
      ]
     },
     "execution_count": 36,
     "metadata": {},
     "output_type": "execute_result"
    }
   ],
   "source": [
    "vector_a = np.array([1,2,3])\n",
    "vector_b = np.array([4,5,6])\n",
    "vector_a @ vector_b"
   ]
  },
  {
   "cell_type": "code",
   "execution_count": 56,
   "id": "bdcea3ac",
   "metadata": {},
   "outputs": [
    {
     "data": {
      "text/plain": [
       "array([[0.00000000e+000, 1.10384931e-311],\n",
       "       [1.10384931e-311, 1.10384931e-311]])"
      ]
     },
     "execution_count": 56,
     "metadata": {},
     "output_type": "execute_result"
    }
   ],
   "source": [
    "np.empty([2, 2])\n"
   ]
  },
  {
   "cell_type": "code",
   "execution_count": 53,
   "id": "dac39582",
   "metadata": {},
   "outputs": [
    {
     "data": {
      "text/plain": [
       "array([[1, 2],\n",
       "       [3, 4]])"
      ]
     },
     "execution_count": 53,
     "metadata": {},
     "output_type": "execute_result"
    }
   ],
   "source": [
    "np.empty([2,2], dtype = int)"
   ]
  },
  {
   "cell_type": "code",
   "execution_count": 57,
   "id": "7ff2bbfe",
   "metadata": {},
   "outputs": [
    {
     "data": {
      "text/plain": [
       "array([0., 0., 0., 0., 0.])"
      ]
     },
     "execution_count": 57,
     "metadata": {},
     "output_type": "execute_result"
    }
   ],
   "source": [
    "np.zeros(5)"
   ]
  },
  {
   "cell_type": "code",
   "execution_count": 72,
   "id": "32638580",
   "metadata": {},
   "outputs": [
    {
     "data": {
      "text/plain": [
       "array([[0.],\n",
       "       [0.]])"
      ]
     },
     "execution_count": 72,
     "metadata": {},
     "output_type": "execute_result"
    }
   ],
   "source": [
    "np.zeros((2,1))"
   ]
  },
  {
   "cell_type": "code",
   "execution_count": 11,
   "id": "ba0ddb74",
   "metadata": {},
   "outputs": [
    {
     "data": {
      "text/plain": [
       "array([0, 0, 0, 0, 0], dtype=int64)"
      ]
     },
     "execution_count": 11,
     "metadata": {},
     "output_type": "execute_result"
    }
   ],
   "source": [
    "import numpy as np\n",
    "\n",
    "np.zeros((5, ), dtype = np.int64)"
   ]
  },
  {
   "cell_type": "code",
   "execution_count": 10,
   "id": "953f4aa6",
   "metadata": {},
   "outputs": [
    {
     "name": "stdout",
     "output_type": "stream",
     "text": [
      "[1 2]\n"
     ]
    }
   ],
   "source": [
    "x = np.array([1, 2], dtype=np.int64)\n",
    "print (x)"
   ]
  },
  {
   "cell_type": "code",
   "execution_count": 14,
   "id": "a4a9e64a",
   "metadata": {},
   "outputs": [
    {
     "data": {
      "text/plain": [
       "array([0.78206148, 0.56909557, 0.08200223, 0.14430502, 0.34553723])"
      ]
     },
     "execution_count": 14,
     "metadata": {},
     "output_type": "execute_result"
    }
   ],
   "source": [
    "random = np.random.rand(5)#0,1사이에서 균일 분포 난수 생성\n",
    "random"
   ]
  },
  {
   "cell_type": "code",
   "execution_count": 16,
   "id": "994c9329",
   "metadata": {},
   "outputs": [
    {
     "data": {
      "text/plain": [
       "array([0.28354742, 0.74193858, 0.63800896, 0.13978418, 0.49373358])"
      ]
     },
     "execution_count": 16,
     "metadata": {},
     "output_type": "execute_result"
    }
   ],
   "source": [
    "random = np.random.rand(5)#0,1사이에서 균일 분포 난수 생성\n",
    "random"
   ]
  },
  {
   "cell_type": "code",
   "execution_count": 76,
   "id": "a78bfeab",
   "metadata": {},
   "outputs": [
    {
     "data": {
      "text/plain": [
       "array([0, 0, 0, 0, 0, 1, 1, 0, 1, 0])"
      ]
     },
     "execution_count": 76,
     "metadata": {},
     "output_type": "execute_result"
    }
   ],
   "source": [
    "np.random.randint(2, size=10)\n"
   ]
  },
  {
   "cell_type": "code",
   "execution_count": 77,
   "id": "1f11992c",
   "metadata": {},
   "outputs": [
    {
     "data": {
      "text/plain": [
       "array([0, 1, 2])"
      ]
     },
     "execution_count": 77,
     "metadata": {},
     "output_type": "execute_result"
    }
   ],
   "source": [
    "a = np.arange(3)\n",
    "a"
   ]
  },
  {
   "cell_type": "code",
   "execution_count": 78,
   "id": "d9eec384",
   "metadata": {},
   "outputs": [
    {
     "data": {
      "text/plain": [
       "array([0, 3, 6])"
      ]
     },
     "execution_count": 78,
     "metadata": {},
     "output_type": "execute_result"
    }
   ],
   "source": [
    "b = a * 3\n",
    "b"
   ]
  },
  {
   "cell_type": "code",
   "execution_count": 79,
   "id": "4aac7d7f",
   "metadata": {},
   "outputs": [
    {
     "data": {
      "text/plain": [
       "array([[ 0,  3,  6],\n",
       "       [ 9, 12, 15],\n",
       "       [18, 21, 24]])"
      ]
     },
     "execution_count": 79,
     "metadata": {},
     "output_type": "execute_result"
    }
   ],
   "source": [
    "np.array([b, b + 9, b + 18])"
   ]
  },
  {
   "cell_type": "code",
   "execution_count": 80,
   "id": "c023ffbb",
   "metadata": {},
   "outputs": [
    {
     "data": {
      "text/plain": [
       "array([1.5, 1.2, 1.7], dtype=float32)"
      ]
     },
     "execution_count": 80,
     "metadata": {},
     "output_type": "execute_result"
    }
   ],
   "source": [
    "a = np.array([1.5, 1.2, 1.7], dtype = np.float32)\n",
    "a\n"
   ]
  },
  {
   "cell_type": "code",
   "execution_count": 2,
   "id": "59f372af",
   "metadata": {},
   "outputs": [],
   "source": [
    "import numpy as np\n"
   ]
  },
  {
   "cell_type": "code",
   "execution_count": 83,
   "id": "42a05230",
   "metadata": {},
   "outputs": [
    {
     "data": {
      "text/plain": [
       "array([1, 1, 1])"
      ]
     },
     "execution_count": 83,
     "metadata": {},
     "output_type": "execute_result"
    }
   ],
   "source": [
    "b = a.astype(np.int32)\n",
    "b"
   ]
  },
  {
   "cell_type": "code",
   "execution_count": 3,
   "id": "ffa86764",
   "metadata": {},
   "outputs": [
    {
     "data": {
      "text/plain": [
       "array([[0, 1],\n",
       "       [2, 3],\n",
       "       [4, 5]])"
      ]
     },
     "execution_count": 3,
     "metadata": {},
     "output_type": "execute_result"
    }
   ],
   "source": [
    "np.arange(0,6).reshape(3,2)"
   ]
  },
  {
   "cell_type": "code",
   "execution_count": 5,
   "id": "7f3cb5b8",
   "metadata": {},
   "outputs": [
    {
     "data": {
      "text/plain": [
       "15"
      ]
     },
     "execution_count": 5,
     "metadata": {},
     "output_type": "execute_result"
    }
   ],
   "source": [
    "np.arange(0,6).reshape(3,2).sum()#행럴 내 모든 원소의 합"
   ]
  },
  {
   "cell_type": "code",
   "execution_count": 14,
   "id": "65a7751e",
   "metadata": {},
   "outputs": [
    {
     "data": {
      "text/plain": [
       "array([1, 5, 9])"
      ]
     },
     "execution_count": 14,
     "metadata": {},
     "output_type": "execute_result"
    }
   ],
   "source": [
    "np.arange(0,6).reshape(3,2).sum(axis = 1) #1축(행) 방향 원소의 합(행의합)"
   ]
  },
  {
   "cell_type": "code",
   "execution_count": 16,
   "id": "7556bf65",
   "metadata": {},
   "outputs": [
    {
     "data": {
      "text/plain": [
       "array([0, 1])"
      ]
     },
     "execution_count": 16,
     "metadata": {},
     "output_type": "execute_result"
    }
   ],
   "source": [
    "np.arange(0,6).reshape(3,2).min(axis = 0) #0축(행) 방향 원소의 합(행의합)"
   ]
  },
  {
   "cell_type": "code",
   "execution_count": 17,
   "id": "1551c30e",
   "metadata": {},
   "outputs": [
    {
     "data": {
      "text/plain": [
       "array([0, 2, 4])"
      ]
     },
     "execution_count": 17,
     "metadata": {},
     "output_type": "execute_result"
    }
   ],
   "source": [
    "np.arange(0,6).reshape(3,2).min(axis = 1) #0축(행) 방향 원소의 합(행의합)"
   ]
  },
  {
   "cell_type": "code",
   "execution_count": 25,
   "id": "755aedb1",
   "metadata": {},
   "outputs": [
    {
     "data": {
      "text/plain": [
       "array([[ 0,  1,  2,  3,  4],\n",
       "       [ 5,  6,  7,  8,  9],\n",
       "       [10, 11, 12, 13, 14]])"
      ]
     },
     "execution_count": 25,
     "metadata": {},
     "output_type": "execute_result"
    }
   ],
   "source": [
    "a = np.arange(15).reshape(3,5)\n",
    "a\n"
   ]
  },
  {
   "cell_type": "code",
   "execution_count": 29,
   "id": "a0c6aac5",
   "metadata": {},
   "outputs": [
    {
     "name": "stdout",
     "output_type": "stream",
     "text": [
      "<class 'numpy.ndarray'>\n",
      "==========================================\n",
      "2\n",
      "==========================================\n",
      "4\n",
      "==========================================\n",
      "15\n",
      "==========================================\n",
      "==========================================\n",
      "[[ 0  5 10]\n",
      " [ 1  6 11]\n",
      " [ 2  7 12]\n",
      " [ 3  8 13]\n",
      " [ 4  9 14]]\n"
     ]
    }
   ],
   "source": [
    "print(type(a))\n",
    "print('==========================================')\n",
    "\n",
    "print(a.ndim)\n",
    "print('==========================================')\n",
    "\n",
    "\n",
    "print(a.itemsize)\n",
    "print('==========================================')\n",
    "\n",
    "print(a.size)\n",
    "print('==========================================')\n",
    "print('==========================================')\n",
    "\n",
    "\n",
    "print(a.T)"
   ]
  },
  {
   "cell_type": "code",
   "execution_count": 30,
   "id": "5fed33f7",
   "metadata": {},
   "outputs": [
    {
     "data": {
      "text/plain": [
       "array([[ 5,  6,  7,  8,  9],\n",
       "       [10, 11, 12, 13, 14]])"
      ]
     },
     "execution_count": 30,
     "metadata": {},
     "output_type": "execute_result"
    }
   ],
   "source": [
    "a = np.arange(15).reshape(3,5)\n",
    "a[[1,2]]#1번째 행, 2번째 행\n"
   ]
  },
  {
   "cell_type": "code",
   "execution_count": 37,
   "id": "0fe76bc8",
   "metadata": {},
   "outputs": [
    {
     "data": {
      "text/plain": [
       "array([False,  True, False])"
      ]
     },
     "execution_count": 37,
     "metadata": {},
     "output_type": "execute_result"
    }
   ],
   "source": [
    "mask = np.array([0,1,0], dtype = bool)\n",
    "mask"
   ]
  },
  {
   "cell_type": "code",
   "execution_count": 38,
   "id": "656626c3",
   "metadata": {},
   "outputs": [
    {
     "data": {
      "text/plain": [
       "array([[5, 6, 7, 8, 9]])"
      ]
     },
     "execution_count": 38,
     "metadata": {},
     "output_type": "execute_result"
    }
   ],
   "source": [
    "a[mask]"
   ]
  },
  {
   "cell_type": "code",
   "execution_count": 34,
   "id": "13456a37",
   "metadata": {},
   "outputs": [
    {
     "data": {
      "text/plain": [
       "array([[ 0,  1,  2,  3,  4],\n",
       "       [ 5,  6,  7,  8,  9],\n",
       "       [10, 11, 12, 13, 14]])"
      ]
     },
     "execution_count": 34,
     "metadata": {},
     "output_type": "execute_result"
    }
   ],
   "source": [
    "a"
   ]
  },
  {
   "cell_type": "code",
   "execution_count": 39,
   "id": "615b86f9",
   "metadata": {},
   "outputs": [
    {
     "data": {
      "text/plain": [
       "array([[ 0,  1,  2,  3,  4],\n",
       "       [10, 11, 12, 13, 14]])"
      ]
     },
     "execution_count": 39,
     "metadata": {},
     "output_type": "execute_result"
    }
   ],
   "source": [
    "a[~mask] #반전 ~ 키 "
   ]
  },
  {
   "cell_type": "code",
   "execution_count": 40,
   "id": "f83d25f9",
   "metadata": {},
   "outputs": [
    {
     "data": {
      "text/plain": [
       "array([[False,  True,  True,  True,  True],\n",
       "       [ True,  True,  True,  True,  True],\n",
       "       [ True,  True,  True,  True,  True]])"
      ]
     },
     "execution_count": 40,
     "metadata": {},
     "output_type": "execute_result"
    }
   ],
   "source": [
    "mask = a > 0\n",
    "mask "
   ]
  },
  {
   "cell_type": "code",
   "execution_count": 41,
   "id": "ef3541c5",
   "metadata": {},
   "outputs": [
    {
     "data": {
      "text/plain": [
       "array([[ 0,  1,  2,  3,  4],\n",
       "       [ 5,  6,  7,  8,  9],\n",
       "       [10, 11, 12, 13, 14]])"
      ]
     },
     "execution_count": 41,
     "metadata": {},
     "output_type": "execute_result"
    }
   ],
   "source": [
    "a\n"
   ]
  },
  {
   "cell_type": "code",
   "execution_count": 43,
   "id": "78fe2c79",
   "metadata": {},
   "outputs": [
    {
     "data": {
      "text/plain": [
       "(14,)"
      ]
     },
     "execution_count": 43,
     "metadata": {},
     "output_type": "execute_result"
    }
   ],
   "source": [
    "over0 = a[mask]\n",
    "over0.shape\n"
   ]
  },
  {
   "cell_type": "code",
   "execution_count": 45,
   "id": "5fd05e69",
   "metadata": {},
   "outputs": [
    {
     "data": {
      "text/plain": [
       "array([7, 8, 9])"
      ]
     },
     "execution_count": 45,
     "metadata": {},
     "output_type": "execute_result"
    }
   ],
   "source": [
    "over1 = a[1][a[1]>6]\n",
    "over1"
   ]
  },
  {
   "cell_type": "code",
   "execution_count": 46,
   "id": "a87323b0",
   "metadata": {},
   "outputs": [
    {
     "data": {
      "text/plain": [
       "array([7, 8, 9])"
      ]
     },
     "execution_count": 46,
     "metadata": {},
     "output_type": "execute_result"
    }
   ],
   "source": [
    "mask = a[1]>6\n",
    "mask\n",
    "over1 = a[1][mask == 1]\n",
    "over1"
   ]
  },
  {
   "cell_type": "code",
   "execution_count": 49,
   "id": "9210d9e6",
   "metadata": {},
   "outputs": [
    {
     "data": {
      "text/plain": [
       "array([[False,  True, False,  True, False],\n",
       "       [ True, False,  True, False,  True],\n",
       "       [False,  True, False,  True, False]])"
      ]
     },
     "execution_count": 49,
     "metadata": {},
     "output_type": "execute_result"
    }
   ],
   "source": [
    "odd_mask = a % 2 != 0\n",
    "odd_mask"
   ]
  },
  {
   "cell_type": "code",
   "execution_count": 3,
   "id": "df7c8965",
   "metadata": {},
   "outputs": [
    {
     "name": "stdout",
     "output_type": "stream",
     "text": [
      "[[[ 1  2]\n",
      "  [ 3  4]]\n",
      "\n",
      " [[ 5  6]\n",
      "  [ 7  8]]\n",
      "\n",
      " [[ 9 10]\n",
      "  [11 12]]\n",
      "\n",
      " [[13 14]\n",
      "  [15 16]]\n",
      "\n",
      " [[17 18]\n",
      "  [19 20]]\n",
      "\n",
      " [[21 22]\n",
      "  [23 24]]]\n"
     ]
    }
   ],
   "source": [
    "nn = np.arange(1,25).reshape(6,2,2)#면(explane)0, 행(row)1, 열(column)2\n",
    "print(nn)"
   ]
  },
  {
   "cell_type": "code",
   "execution_count": 52,
   "id": "06c89803",
   "metadata": {},
   "outputs": [
    {
     "data": {
      "text/plain": [
       "array([[[ 1,  2],\n",
       "        [ 3,  4],\n",
       "        [ 5,  6],\n",
       "        [ 7,  8],\n",
       "        [ 9, 10],\n",
       "        [11, 12]],\n",
       "\n",
       "       [[13, 14],\n",
       "        [15, 16],\n",
       "        [17, 18],\n",
       "        [19, 20],\n",
       "        [21, 22],\n",
       "        [23, 24]]])"
      ]
     },
     "execution_count": 52,
     "metadata": {},
     "output_type": "execute_result"
    }
   ],
   "source": [
    "nn = np.arange(1,25).reshape(2,6,2)\n",
    "nn"
   ]
  },
  {
   "cell_type": "code",
   "execution_count": 6,
   "id": "932cb9f5",
   "metadata": {},
   "outputs": [
    {
     "name": "stdout",
     "output_type": "stream",
     "text": [
      "[[[ 1  2]\n",
      "  [ 3  4]]\n",
      "\n",
      " [[ 5  6]\n",
      "  [ 7  8]]\n",
      "\n",
      " [[ 9 10]\n",
      "  [11 12]]\n",
      "\n",
      " [[13 14]\n",
      "  [15 16]]\n",
      "\n",
      " [[17 18]\n",
      "  [19 20]]\n",
      "\n",
      " [[21 22]\n",
      "  [23 24]]]\n"
     ]
    }
   ],
   "source": [
    "nn = np.arange(1,25).reshape(6,2,2)#면(explane)0, 행(row)1, 열(column)2\n",
    "print(nn)"
   ]
  },
  {
   "cell_type": "code",
   "execution_count": 11,
   "id": "1043d3f1",
   "metadata": {},
   "outputs": [
    {
     "name": "stdout",
     "output_type": "stream",
     "text": [
      "[[1 2]\n",
      " [3 4]]\n"
     ]
    }
   ],
   "source": [
    "nn = np.arange(1,25).reshape(6,2,2)\n",
    "print(nn.min(axis = 0))"
   ]
  },
  {
   "cell_type": "code",
   "execution_count": 12,
   "id": "90ad2ea9",
   "metadata": {},
   "outputs": [
    {
     "name": "stdout",
     "output_type": "stream",
     "text": [
      "[[ 1  2]\n",
      " [ 5  6]\n",
      " [ 9 10]\n",
      " [13 14]\n",
      " [17 18]\n",
      " [21 22]]\n"
     ]
    }
   ],
   "source": [
    "nn = np.arange(1,25).reshape(6,2,2)\n",
    "print(nn.min(axis = 1))"
   ]
  },
  {
   "cell_type": "code",
   "execution_count": 10,
   "id": "4293d514",
   "metadata": {
    "scrolled": true
   },
   "outputs": [
    {
     "name": "stdout",
     "output_type": "stream",
     "text": [
      "[[ 1  3]\n",
      " [ 5  7]\n",
      " [ 9 11]\n",
      " [13 15]\n",
      " [17 19]\n",
      " [21 23]]\n"
     ]
    }
   ],
   "source": [
    "nn = np.arange(1,25).reshape(6,2,2)\n",
    "print(nn.min(axis = 2))"
   ]
  },
  {
   "cell_type": "code",
   "execution_count": 2,
   "id": "7ccf435d",
   "metadata": {},
   "outputs": [
    {
     "name": "stdout",
     "output_type": "stream",
     "text": [
      "[[ 1  2]\n",
      " [ 3  4]\n",
      " [ 5  6]\n",
      " [ 7  8]\n",
      " [ 9 10]\n",
      " [11 12]]\n",
      "==========================================\n",
      "[[ 1  2]\n",
      " [13 14]]\n",
      "==========================================\n",
      "[[ 1  3  5  7  9 11]\n",
      " [13 15 17 19 21 23]]\n",
      "==========================================\n"
     ]
    }
   ],
   "source": [
    "nn = np.arange(1,25).reshape(2,2,2)\n",
    "print(nn.min(axis=0))\n",
    "print('==========================================')\n",
    "\n",
    "print(nn.min(axis=1))\n",
    "print('==========================================')\n",
    "\n",
    "print(nn.min(axis=2))\n",
    "print('==========================================')\n"
   ]
  },
  {
   "cell_type": "code",
   "execution_count": 15,
   "id": "ed7c558c",
   "metadata": {},
   "outputs": [
    {
     "name": "stdout",
     "output_type": "stream",
     "text": [
      "[0 1 2 3]\n",
      "1\n",
      "(4,)\n"
     ]
    }
   ],
   "source": [
    "a_arr = np.arange(4)\n",
    "print(a_arr)\n",
    "print(a_arr.ndim)\n",
    "print(a_arr.shape)"
   ]
  },
  {
   "cell_type": "code",
   "execution_count": 16,
   "id": "f24b3259",
   "metadata": {},
   "outputs": [
    {
     "name": "stdout",
     "output_type": "stream",
     "text": [
      "2\n",
      "(2, 2)\n"
     ]
    },
    {
     "data": {
      "text/plain": [
       "array([[0, 1],\n",
       "       [2, 3]])"
      ]
     },
     "execution_count": 16,
     "metadata": {},
     "output_type": "execute_result"
    }
   ],
   "source": [
    "ra_arr = a_arr.reshape((2,2))\n",
    "print(ra_arr.ndim)\n",
    "print(ra_arr.shape)\n",
    "ra_arr"
   ]
  },
  {
   "cell_type": "code",
   "execution_count": 24,
   "id": "b26c1222",
   "metadata": {},
   "outputs": [
    {
     "name": "stdout",
     "output_type": "stream",
     "text": [
      "[0 1 2 3]\n",
      "==========================================\n",
      "2\n",
      "==========================================\n",
      "(1, 4)\n",
      "==========================================\n",
      "[[0 1 2 3]]\n",
      "==========================================\n",
      "[0 1 2 3]\n"
     ]
    }
   ],
   "source": [
    "a_arr = np.arange(4)\n",
    "print(a_arr)\n",
    "print('==========================================')\n",
    "ha_arr = a_arr[np.newaxis, :] #축을 추가할때 1차원 > 2차원\n",
    "\n",
    "print(ha_arr.ndim)\n",
    "print('==========================================')\n",
    "print(ha_arr.shape)\n",
    "print('==========================================')\n",
    "print(ha_arr)\n",
    "print('==========================================')\n",
    "#축을 없앨때\n",
    "la_arr = ha_arr.flatten() #평탄화\n",
    "print(la_arr)\n",
    "\n"
   ]
  },
  {
   "cell_type": "code",
   "execution_count": 29,
   "id": "5772955e",
   "metadata": {},
   "outputs": [
    {
     "data": {
      "text/plain": [
       "array([[1, 2, 3, 1],\n",
       "       [2, 3, 1, 2]])"
      ]
     },
     "execution_count": 29,
     "metadata": {},
     "output_type": "execute_result"
    }
   ],
   "source": [
    "arr1 = np.array([1,2,3])\n",
    "resize_arr1 = np.resize(arr1, (2,4))\n",
    "resize_arr1"
   ]
  },
  {
   "cell_type": "code",
   "execution_count": 27,
   "id": "04e87ed0",
   "metadata": {},
   "outputs": [
    {
     "data": {
      "text/plain": [
       "array([[0, 1, 2, 3]])"
      ]
     },
     "execution_count": 27,
     "metadata": {},
     "output_type": "execute_result"
    }
   ],
   "source": [
    "ha_arr"
   ]
  },
  {
   "cell_type": "code",
   "execution_count": 30,
   "id": "f20c39d2",
   "metadata": {},
   "outputs": [
    {
     "data": {
      "text/plain": [
       "array([0, 1, 2, 3])"
      ]
     },
     "execution_count": 30,
     "metadata": {},
     "output_type": "execute_result"
    }
   ],
   "source": [
    "squeeze_arr = ha_arr.squeeze()#짜내다, 압착 2차원 > 1차원\n",
    "squeeze_arr"
   ]
  },
  {
   "cell_type": "code",
   "execution_count": 31,
   "id": "2dade7e1",
   "metadata": {},
   "outputs": [
    {
     "data": {
      "text/plain": [
       "array([[1, 2, 3, 1],\n",
       "       [2, 3, 1, 2]])"
      ]
     },
     "execution_count": 31,
     "metadata": {},
     "output_type": "execute_result"
    }
   ],
   "source": [
    "squeeze_arr = resize_arr1.squeeze()\n",
    "squeeze_arr"
   ]
  },
  {
   "cell_type": "code",
   "execution_count": 32,
   "id": "78000ea6",
   "metadata": {},
   "outputs": [
    {
     "data": {
      "text/plain": [
       "array([ 0,  1,  2,  3,  4,  5,  6,  7,  8,  9, 10, 11])"
      ]
     },
     "execution_count": 32,
     "metadata": {},
     "output_type": "execute_result"
    }
   ],
   "source": [
    "sq = np.arange(12).reshape(1,1,12)\n",
    "sq = sq.squeeze()\n",
    "sq"
   ]
  },
  {
   "cell_type": "code",
   "execution_count": 50,
   "id": "b4802644",
   "metadata": {},
   "outputs": [
    {
     "data": {
      "text/plain": [
       "array([[1, 2, 3],\n",
       "       [4, 5, 6]])"
      ]
     },
     "execution_count": 50,
     "metadata": {},
     "output_type": "execute_result"
    }
   ],
   "source": [
    "arr_1d = np.arange(1, 7)\n",
    "hiarr_1d = arr_1d.reshape(2,3)\n",
    "hiarr_1d\n"
   ]
  },
  {
   "cell_type": "code",
   "execution_count": null,
   "id": "30013d62",
   "metadata": {},
   "outputs": [],
   "source": [
    "nn = np.arange(1,25).reshape(2,2,2)\n",
    "print(nn.min(axis=0))\n",
    "print('==========================================')\n",
    "\n",
    "print(nn.min(axis=1))\n",
    "print('==========================================')\n",
    "\n",
    "print(nn.min(axis=2))\n",
    "print('==========================================')\n"
   ]
  },
  {
   "cell_type": "code",
   "execution_count": 60,
   "id": "e18f49ff",
   "metadata": {},
   "outputs": [
    {
     "name": "stdout",
     "output_type": "stream",
     "text": [
      "[[1 2 3]\n",
      " [4 5 6]]\n",
      "==========================================\n",
      "[[[1]\n",
      "  [2]\n",
      "  [3]]\n",
      "\n",
      " [[4]\n",
      "  [5]\n",
      "  [6]]]\n",
      "==========================================\n",
      "==========================================\n",
      "[1 2 3]\n"
     ]
    }
   ],
   "source": [
    "arr_2d = np.array([[1,2,3],[4,5,6]])\n",
    "print(arr_2d)\n",
    "print('==========================================')\n",
    "resahpe3d = arr_2d.reshape((2,3,1))\n",
    "print(resahpe3d)\n",
    "print('==========================================')\n",
    "print('==========================================')\n",
    "print(arr_2d.min(axis = 0))\n",
    "\n"
   ]
  },
  {
   "cell_type": "code",
   "execution_count": 63,
   "id": "d3a56394",
   "metadata": {},
   "outputs": [
    {
     "name": "stdout",
     "output_type": "stream",
     "text": [
      "[0 1 2 3]\n",
      "==========================================\n",
      "2\n",
      "==========================================\n",
      "(4, 1)\n",
      "==========================================\n",
      "[[0]\n",
      " [1]\n",
      " [2]\n",
      " [3]]\n",
      "==========================================\n",
      "[0 1 2 3]\n"
     ]
    }
   ],
   "source": [
    "a_arr = np.arange(4)\n",
    "print(a_arr)\n",
    "print('==========================================')\n",
    "ha_arr = a_arr[: ,np.newaxis ] #축을 추가할때 1차원 > 2차원\n",
    "\n",
    "print(ha_arr.ndim)\n",
    "print('==========================================')\n",
    "print(ha_arr.shape)\n",
    "print('==========================================')\n",
    "print(ha_arr)#(4,1)\n",
    "print('==========================================')\n",
    "#축을 없앨때\n",
    "la_arr = ha_arr.flatten() #평탄화\n",
    "print(la_arr)\n"
   ]
  },
  {
   "cell_type": "code",
   "execution_count": 74,
   "id": "fed8bef6",
   "metadata": {},
   "outputs": [
    {
     "name": "stdout",
     "output_type": "stream",
     "text": [
      "111==========================================\n",
      "[[[1]\n",
      "  [2]]\n",
      "\n",
      " [[4]\n",
      "  [5]]]\n",
      "555==========================================\n",
      "3\n",
      "222==========================================\n",
      "(2, 3, 1)\n",
      "3333==========================================\n",
      "[[[1]\n",
      "  [2]\n",
      "  [3]]\n",
      "\n",
      " [[4]\n",
      "  [5]\n",
      "  [6]]]\n",
      "4444==========================================\n",
      "[[1 2 3]\n",
      " [4 5 6]]\n"
     ]
    }
   ],
   "source": [
    "a_arr = np.array([[1,2,3], [4,5,6]])\n",
    "print('111==========================================')\n",
    "ha_arr1 = a_arr[: , (0, 1)  , np.newaxis] \n",
    "ha_arr = a_arr[: , :  , np.newaxis] \n",
    "print(ha_arr1)\n",
    "print('555==========================================')\n",
    "\n",
    "print(ha_arr.ndim)#3\n",
    "print('222==========================================')\n",
    "print(ha_arr.shape)#2,3,1\n",
    "print('3333==========================================')\n",
    "print(ha_arr)\n",
    "print('4444==========================================')\n",
    "print(a_arr)"
   ]
  },
  {
   "cell_type": "code",
   "execution_count": 78,
   "id": "37ce4e9c",
   "metadata": {},
   "outputs": [
    {
     "name": "stdout",
     "output_type": "stream",
     "text": [
      "[[[1 2]\n",
      "  [3 4]]\n",
      "\n",
      " [[5 6]\n",
      "  [7 8]]]\n"
     ]
    }
   ],
   "source": [
    "arr_3d = np.array([[[1,2],[3,4]],[[5,6],[7,8]]])\n",
    "arr_3d.shape\n",
    "print(arr_3d)\n"
   ]
  },
  {
   "cell_type": "code",
   "execution_count": 79,
   "id": "029ddea2",
   "metadata": {},
   "outputs": [
    {
     "data": {
      "text/plain": [
       "array([1, 2, 3, 4, 5, 6, 7, 8, 1, 2, 3, 4, 5, 6, 7, 8, 1, 2])"
      ]
     },
     "execution_count": 79,
     "metadata": {},
     "output_type": "execute_result"
    }
   ],
   "source": [
    "(2,3,3)\n",
    "resize_3d = np.resize(arr_3d,(2,3,3))\n",
    "resize_3d\n",
    "resize_3d.flatten()"
   ]
  },
  {
   "cell_type": "code",
   "execution_count": 84,
   "id": "c183acd1",
   "metadata": {},
   "outputs": [
    {
     "name": "stdout",
     "output_type": "stream",
     "text": [
      "[99  2  3  4  5  6]\n",
      "[[1 2 3]\n",
      " [4 5 6]]\n"
     ]
    }
   ],
   "source": [
    "a_arr = np.array([[1,2,3],[4,5,6]])\n",
    "a = a_arr.flatten()\n",
    "a[0] = 99\n",
    "print(a)\n",
    "print(a_arr)\n"
   ]
  },
  {
   "cell_type": "code",
   "execution_count": 85,
   "id": "9ca458dc",
   "metadata": {},
   "outputs": [
    {
     "name": "stdout",
     "output_type": "stream",
     "text": [
      "[99  2  3  4  5  6]\n",
      "[[99  2  3]\n",
      " [ 4  5  6]]\n"
     ]
    }
   ],
   "source": [
    "a_arr = np.array([[1,2,3],[4,5,6]])\n",
    "a = a_arr.ravel()\n",
    "a[0] = 99\n",
    "print(a)\n",
    "print(a_arr)\n"
   ]
  },
  {
   "cell_type": "code",
   "execution_count": 87,
   "id": "0c006945",
   "metadata": {},
   "outputs": [
    {
     "name": "stdout",
     "output_type": "stream",
     "text": [
      "[99, 2, 3]\n"
     ]
    }
   ],
   "source": [
    "alst = [1,2,3]\n",
    "blst = alst #그냥대입\n",
    "blst[0] = 99\n",
    "print(alst)"
   ]
  },
  {
   "cell_type": "code",
   "execution_count": 92,
   "id": "4e97e443",
   "metadata": {},
   "outputs": [
    {
     "name": "stdout",
     "output_type": "stream",
     "text": [
      "[1, 2, [99, 5, 6]]\n"
     ]
    }
   ],
   "source": [
    "alst = [1,2,[4,5,6]]\n",
    "blst = alst.copy() #얕은 복사\n",
    "blst[2][0] = 99\n",
    "print(alst)\n"
   ]
  },
  {
   "cell_type": "code",
   "execution_count": 95,
   "id": "83016673",
   "metadata": {},
   "outputs": [
    {
     "name": "stdout",
     "output_type": "stream",
     "text": [
      "111==========================================\n",
      "[1, 2, [4, 5, 6]]\n",
      "222==========================================\n",
      "[1, 2, [99, 5, 6]]\n"
     ]
    }
   ],
   "source": [
    "import copy\n",
    "alst = [1,2,[4,5,6]]\n",
    "blst = copy.deepcopy(alst) #깊은복사\n",
    "blst[2][0] = 99\n",
    "print('111==========================================')\n",
    "\n",
    "print(alst)\n",
    "print('222==========================================')\n",
    "\n",
    "print(blst)\n"
   ]
  },
  {
   "cell_type": "code",
   "execution_count": 96,
   "id": "2f6b4105",
   "metadata": {},
   "outputs": [
    {
     "data": {
      "text/plain": [
       "array([0, 1, 2, 3, 4, 5, 6, 7])"
      ]
     },
     "execution_count": 96,
     "metadata": {},
     "output_type": "execute_result"
    }
   ],
   "source": [
    "a = np.arange(8)\n",
    "a"
   ]
  },
  {
   "cell_type": "code",
   "execution_count": 110,
   "id": "4bc95226",
   "metadata": {},
   "outputs": [
    {
     "name": "stdout",
     "output_type": "stream",
     "text": [
      "[ 0  1  2  3  4  5  6  7  0  3  6  9 12 15 18 21]\n"
     ]
    },
    {
     "data": {
      "text/plain": [
       "(16,)"
      ]
     },
     "execution_count": 110,
     "metadata": {},
     "output_type": "execute_result"
    }
   ],
   "source": [
    "#horizontal stack\n",
    "import numpy as np\n",
    "b = np.hstack([a, a * 3])\n",
    "print(b)\n",
    "b.shape\n"
   ]
  },
  {
   "cell_type": "code",
   "execution_count": 109,
   "id": "3e0440cd",
   "metadata": {},
   "outputs": [
    {
     "name": "stdout",
     "output_type": "stream",
     "text": [
      "[[ 0  1  2  3  4  5  6  7]\n",
      " [ 0 10 20 30 40 50 60 70]]\n"
     ]
    },
    {
     "data": {
      "text/plain": [
       "(2, 8)"
      ]
     },
     "execution_count": 109,
     "metadata": {},
     "output_type": "execute_result"
    }
   ],
   "source": [
    "#vertical stack\n",
    "b = np.vstack([a, a * 10])\n",
    "print(b)\n",
    "b.shape"
   ]
  },
  {
   "cell_type": "code",
   "execution_count": 107,
   "id": "be7a3719",
   "metadata": {},
   "outputs": [
    {
     "name": "stdout",
     "output_type": "stream",
     "text": [
      "[[[ 0  0]\n",
      "  [ 1 10]\n",
      "  [ 2 20]\n",
      "  [ 3 30]\n",
      "  [ 4 40]\n",
      "  [ 5 50]\n",
      "  [ 6 60]\n",
      "  [ 7 70]]]\n"
     ]
    },
    {
     "data": {
      "text/plain": [
       "(1, 8, 2)"
      ]
     },
     "execution_count": 107,
     "metadata": {},
     "output_type": "execute_result"
    }
   ],
   "source": [
    "#deep stack\n",
    "b = np.dstack([a, a * 10])\n",
    "print(b)\n",
    "b.shape"
   ]
  },
  {
   "cell_type": "code",
   "execution_count": 118,
   "id": "7ae440fe",
   "metadata": {},
   "outputs": [],
   "source": [
    "\n",
    "arr1 = np.array([[1, 2, 3],\n",
    "                 [4, 5, 6]])\n",
    "\n",
    "arr2 = np.array([[7, 8, 9],\n",
    "                 [10, 11, 12]])\n",
    "\n",
    "\n",
    "\n",
    "\n",
    "\n"
   ]
  },
  {
   "cell_type": "code",
   "execution_count": 129,
   "id": "6fece03a",
   "metadata": {},
   "outputs": [
    {
     "name": "stdout",
     "output_type": "stream",
     "text": [
      "[[ 1  2  3  7  8  9]\n",
      " [ 4  5  6 10 11 12]]\n",
      "(2, 6)\n"
     ]
    }
   ],
   "source": [
    "a = np.hstack((arr1, arr2))\n",
    "print(a)\n",
    "print(a.shape)"
   ]
  },
  {
   "cell_type": "code",
   "execution_count": 130,
   "id": "322317f0",
   "metadata": {},
   "outputs": [
    {
     "name": "stdout",
     "output_type": "stream",
     "text": [
      "[[ 1  2  3]\n",
      " [ 4  5  6]\n",
      " [ 7  8  9]\n",
      " [10 11 12]]\n",
      "(4, 3)\n"
     ]
    }
   ],
   "source": [
    "b = np.vstack((arr1, arr2))\n",
    "print(b)\n",
    "print(b.shape)"
   ]
  },
  {
   "cell_type": "code",
   "execution_count": 123,
   "id": "f418cbe4",
   "metadata": {},
   "outputs": [
    {
     "name": "stdout",
     "output_type": "stream",
     "text": [
      "(2, 3, 2)\n"
     ]
    }
   ],
   "source": [
    "c = np.dstack((arr1, arr2))\n",
    "print(c.shape)"
   ]
  },
  {
   "cell_type": "code",
   "execution_count": 115,
   "id": "363e4969",
   "metadata": {},
   "outputs": [
    {
     "name": "stdout",
     "output_type": "stream",
     "text": [
      "[[1 2 3]\n",
      " [4 5 6]]\n"
     ]
    }
   ],
   "source": [
    "print(arr1)"
   ]
  },
  {
   "cell_type": "code",
   "execution_count": 116,
   "id": "ea512363",
   "metadata": {},
   "outputs": [
    {
     "name": "stdout",
     "output_type": "stream",
     "text": [
      "[[1 4]\n",
      " [2 5]\n",
      " [3 6]]\n"
     ]
    }
   ],
   "source": [
    "print(arr1.T)"
   ]
  },
  {
   "cell_type": "code",
   "execution_count": 134,
   "id": "6882da4e",
   "metadata": {},
   "outputs": [
    {
     "name": "stdout",
     "output_type": "stream",
     "text": [
      "[[[ 1  7]\n",
      "  [ 2  8]\n",
      "  [ 3  9]]\n",
      "\n",
      " [[ 4 10]\n",
      "  [ 5 11]\n",
      "  [ 6 12]]]\n",
      "+++++++++++++++++++\n",
      "(2, 3, 2)\n"
     ]
    }
   ],
   "source": [
    "r1 = np.dstack((arr1, arr2))\n",
    "print(r1)\n",
    "print(\"+++++++++++++++++++\")\n",
    "print(r1.shape)"
   ]
  },
  {
   "cell_type": "code",
   "execution_count": 135,
   "id": "46fe39f6",
   "metadata": {},
   "outputs": [
    {
     "name": "stdout",
     "output_type": "stream",
     "text": [
      "[[[ 10  70]\n",
      "  [ 20  80]\n",
      "  [ 30  90]]\n",
      "\n",
      " [[ 40 100]\n",
      "  [ 50 110]\n",
      "  [ 60 120]]]\n",
      "(2, 3, 2)\n"
     ]
    }
   ],
   "source": [
    "r2 = np.dstack((arr1 * 10, arr2 * 10))\n",
    "print(r2)\n",
    "print(r2.shape)"
   ]
  },
  {
   "cell_type": "code",
   "execution_count": 133,
   "id": "30ad0b8d",
   "metadata": {},
   "outputs": [
    {
     "data": {
      "text/plain": [
       "(2, 6, 2)"
      ]
     },
     "execution_count": 133,
     "metadata": {},
     "output_type": "execute_result"
    }
   ],
   "source": [
    "c = np.hstack((r1, r2))\n",
    "c.shape"
   ]
  },
  {
   "cell_type": "code",
   "execution_count": 127,
   "id": "7f108c7d",
   "metadata": {},
   "outputs": [
    {
     "data": {
      "text/plain": [
       "array([[[  1,   7],\n",
       "        [  2,   8],\n",
       "        [  3,   9]],\n",
       "\n",
       "       [[  4,  10],\n",
       "        [  5,  11],\n",
       "        [  6,  12]],\n",
       "\n",
       "       [[ 10,  70],\n",
       "        [ 20,  80],\n",
       "        [ 30,  90]],\n",
       "\n",
       "       [[ 40, 100],\n",
       "        [ 50, 110],\n",
       "        [ 60, 120]]])"
      ]
     },
     "execution_count": 127,
     "metadata": {},
     "output_type": "execute_result"
    }
   ],
   "source": [
    "np.vstack((r1, r2))"
   ]
  },
  {
   "cell_type": "code",
   "execution_count": 128,
   "id": "21fbdb78",
   "metadata": {},
   "outputs": [
    {
     "data": {
      "text/plain": [
       "array([[[  1,   7,  10,  70],\n",
       "        [  2,   8,  20,  80],\n",
       "        [  3,   9,  30,  90]],\n",
       "\n",
       "       [[  4,  10,  40, 100],\n",
       "        [  5,  11,  50, 110],\n",
       "        [  6,  12,  60, 120]]])"
      ]
     },
     "execution_count": 128,
     "metadata": {},
     "output_type": "execute_result"
    }
   ],
   "source": [
    "np.dstack((r1, r2))"
   ]
  },
  {
   "cell_type": "code",
   "execution_count": 138,
   "id": "1b7d0a93",
   "metadata": {},
   "outputs": [
    {
     "name": "stdout",
     "output_type": "stream",
     "text": [
      "리스트 연산 시간: 0.039499759674072266\n"
     ]
    }
   ],
   "source": [
    "import time\n",
    "list_a = list(range(1, 1000001))\n",
    "list_b = list(range(1, 1000001))\n",
    "\n",
    "# 두 리스트 각 원소 덧셈\n",
    "start_time = time.time()\n",
    "result_list = [a + b for a, b in zip(list_a, list_b)]\n",
    "end_time = time.time()\n",
    "\n",
    "\n",
    "print(\"리스트 연산 시간:\", end_time - start_time)\n",
    "\n",
    "\n",
    "# %%\n",
    "import numpy as np\n",
    "import time\n",
    "\n",
    "\n",
    "array_a = np.arange(1, 1000001)\n",
    "array_b = np.arange(1, 1000001)\n",
    "\n"
   ]
  },
  {
   "cell_type": "code",
   "execution_count": 139,
   "id": "f81d42a9",
   "metadata": {},
   "outputs": [
    {
     "name": "stdout",
     "output_type": "stream",
     "text": [
      "넘파이 배열 연산 시간: 0.006476163864135742\n"
     ]
    }
   ],
   "source": [
    "start_time = time.time()\n",
    "result_array = array_a + array_b\n",
    "end_time = time.time()\n",
    "\n",
    "\n",
    "print(\"넘파이 배열 연산 시간:\", end_time - start_time)\n",
    "\n"
   ]
  },
  {
   "cell_type": "code",
   "execution_count": 140,
   "id": "d4d2aff2",
   "metadata": {},
   "outputs": [
    {
     "data": {
      "text/plain": [
       "array([[ 0,  1,  2],\n",
       "       [ 3,  4,  5],\n",
       "       [ 6,  7,  8],\n",
       "       [ 9, 10, 11]])"
      ]
     },
     "execution_count": 140,
     "metadata": {},
     "output_type": "execute_result"
    }
   ],
   "source": [
    "a = np.arange(12).reshape(4,3)\n",
    "a"
   ]
  },
  {
   "cell_type": "code",
   "execution_count": 142,
   "id": "26c32993",
   "metadata": {},
   "outputs": [
    {
     "name": "stdout",
     "output_type": "stream",
     "text": [
      "(4, 1)\n"
     ]
    }
   ],
   "source": [
    "h = np.hsplit(a, 3)\n",
    "# h.shape # 에러 \n",
    "print(h[0].shape) # 리스트안에 0번째가 ndarray"
   ]
  },
  {
   "cell_type": "code",
   "execution_count": 160,
   "id": "922e9719",
   "metadata": {},
   "outputs": [
    {
     "data": {
      "text/plain": [
       "array([[ 0,  1,  2,  3],\n",
       "       [ 4,  5,  6,  7],\n",
       "       [ 8,  9, 10, 11],\n",
       "       [12, 13, 14, 15]])"
      ]
     },
     "execution_count": 160,
     "metadata": {},
     "output_type": "execute_result"
    }
   ],
   "source": [
    "a = np.arange(16).reshape(4,4)\n",
    "a"
   ]
  },
  {
   "cell_type": "code",
   "execution_count": 161,
   "id": "84b96048",
   "metadata": {},
   "outputs": [
    {
     "data": {
      "text/plain": [
       "[array([[ 0,  1],\n",
       "        [ 4,  5],\n",
       "        [ 8,  9],\n",
       "        [12, 13]]),\n",
       " array([[ 2,  3],\n",
       "        [ 6,  7],\n",
       "        [10, 11],\n",
       "        [14, 15]])]"
      ]
     },
     "execution_count": 161,
     "metadata": {},
     "output_type": "execute_result"
    }
   ],
   "source": [
    "nn = np.hsplit(a, 2)\n",
    "nn"
   ]
  },
  {
   "cell_type": "code",
   "execution_count": null,
   "id": "44ad91a4",
   "metadata": {},
   "outputs": [],
   "source": [
    "array([[ 0,  1,  2,  3],\n",
    "       [ 4,  5,  6,  7],\n",
    "       [ 8,  9, 10, 11],\n",
    "       [12, 13, 14, 15]])"
   ]
  },
  {
   "cell_type": "code",
   "execution_count": 173,
   "id": "cee2cc30",
   "metadata": {},
   "outputs": [
    {
     "name": "stdout",
     "output_type": "stream",
     "text": [
      "[array([[ 0,  1],\n",
      "       [ 4,  5],\n",
      "       [ 8,  9],\n",
      "       [12, 13]]), array([], shape=(4, 0), dtype=int64), array([[ 2,  3],\n",
      "       [ 6,  7],\n",
      "       [10, 11],\n",
      "       [14, 15]])]\n",
      "4+++++++++++++++++++\n",
      "[array([[ 0,  1,  2],\n",
      "       [ 4,  5,  6],\n",
      "       [ 8,  9, 10],\n",
      "       [12, 13, 14]]), array([], shape=(4, 0), dtype=int64), array([[ 1,  2,  3],\n",
      "       [ 5,  6,  7],\n",
      "       [ 9, 10, 11],\n",
      "       [13, 14, 15]])]\n",
      "6+++++++++++++++++++\n"
     ]
    }
   ],
   "source": [
    "# print(np.hsplit(a,[1, 1])) #0,1, 23\n",
    "# print(\"1+++++++++++++++++++\")\n",
    "\n",
    "# print(np.hsplit(a,[1, 2])) #0,e,123\n",
    "# print(\"2+++++++++++++++++++\")\n",
    "\n",
    "# print(np.hsplit(a,[2, 1])) #01,e,123\n",
    "# print(\"3+++++++++++++++++++\")\n",
    "\n",
    "print(np.hsplit(a,[2, 2])) #01,e,23\n",
    "print(\"4+++++++++++++++++++\")\n",
    "\n",
    "# print(np.hsplit(a,[2, 3])) #01,2,3\n",
    "# print(\"5+++++++++++++++++++\")\n",
    "\n",
    "print(np.hsplit(a,[3, 1])) #012,e,123\n",
    "print(\"6+++++++++++++++++++\")\n",
    "\n",
    "# print(np.hsplit(a,[3, 2])) #012,e,23\n",
    "# print(\"7+++++++++++++++++++\")\n",
    "\n",
    "# print(np.hsplit(a,[3, 3])) #012,e,3\n",
    "# print(\"8+++++++++++++++++++\")\n",
    "\n",
    "\n"
   ]
  },
  {
   "cell_type": "code",
   "execution_count": 217,
   "id": "6ec0b1e0",
   "metadata": {},
   "outputs": [
    {
     "ename": "ValueError",
     "evalue": "dsplit only works on arrays of 3 or more dimensions",
     "output_type": "error",
     "traceback": [
      "\u001b[0;31m---------------------------------------------------------------------------\u001b[0m",
      "\u001b[0;31mValueError\u001b[0m                                Traceback (most recent call last)",
      "Cell \u001b[0;32mIn[217], line 1\u001b[0m\n\u001b[0;32m----> 1\u001b[0m d \u001b[38;5;241m=\u001b[39m np\u001b[38;5;241m.\u001b[39mdsplit(c, \u001b[38;5;241m3\u001b[39m)\n\u001b[1;32m      2\u001b[0m d\n",
      "File \u001b[0;32m<__array_function__ internals>:200\u001b[0m, in \u001b[0;36mdsplit\u001b[0;34m(*args, **kwargs)\u001b[0m\n",
      "File \u001b[0;32m~/anaconda3/lib/python3.11/site-packages/numpy/lib/shape_base.py:1041\u001b[0m, in \u001b[0;36mdsplit\u001b[0;34m(ary, indices_or_sections)\u001b[0m\n\u001b[1;32m   1002\u001b[0m \u001b[38;5;250m\u001b[39m\u001b[38;5;124;03m\"\"\"\u001b[39;00m\n\u001b[1;32m   1003\u001b[0m \u001b[38;5;124;03mSplit array into multiple sub-arrays along the 3rd axis (depth).\u001b[39;00m\n\u001b[1;32m   1004\u001b[0m \n\u001b[0;32m   (...)\u001b[0m\n\u001b[1;32m   1038\u001b[0m \u001b[38;5;124;03marray([], shape=(2, 2, 0), dtype=float64)]\u001b[39;00m\n\u001b[1;32m   1039\u001b[0m \u001b[38;5;124;03m\"\"\"\u001b[39;00m\n\u001b[1;32m   1040\u001b[0m \u001b[38;5;28;01mif\u001b[39;00m _nx\u001b[38;5;241m.\u001b[39mndim(ary) \u001b[38;5;241m<\u001b[39m \u001b[38;5;241m3\u001b[39m:\n\u001b[0;32m-> 1041\u001b[0m     \u001b[38;5;28;01mraise\u001b[39;00m \u001b[38;5;167;01mValueError\u001b[39;00m(\u001b[38;5;124m'\u001b[39m\u001b[38;5;124mdsplit only works on arrays of 3 or more dimensions\u001b[39m\u001b[38;5;124m'\u001b[39m)\n\u001b[1;32m   1042\u001b[0m \u001b[38;5;28;01mreturn\u001b[39;00m split(ary, indices_or_sections, \u001b[38;5;241m2\u001b[39m)\n",
      "\u001b[0;31mValueError\u001b[0m: dsplit only works on arrays of 3 or more dimensions"
     ]
    }
   ],
   "source": [
    "d = np.dsplit(c, 3)\n",
    "d"
   ]
  },
  {
   "cell_type": "code",
   "execution_count": 107,
   "id": "c4b906ca",
   "metadata": {
    "collapsed": true
   },
   "outputs": [
    {
     "ename": "ModuleNotFoundError",
     "evalue": "The requested file is part of the scikit-image distribution, but requires the installation of an optional dependency, pooch. To install pooch, use your preferred python package manager. Follow installation instruction found at https://scikit-image.org/docs/stable/install.html",
     "output_type": "error",
     "traceback": [
      "\u001b[1;31m---------------------------------------------------------------------------\u001b[0m",
      "\u001b[1;31mModuleNotFoundError\u001b[0m                       Traceback (most recent call last)",
      "Cell \u001b[1;32mIn[107], line 6\u001b[0m\n\u001b[0;32m      3\u001b[0m \u001b[38;5;28;01mimport\u001b[39;00m \u001b[38;5;21;01mplotly\u001b[39;00m\u001b[38;5;21;01m.\u001b[39;00m\u001b[38;5;21;01mexpress\u001b[39;00m \u001b[38;5;28;01mas\u001b[39;00m \u001b[38;5;21;01mpx\u001b[39;00m\n\u001b[0;32m      4\u001b[0m \u001b[38;5;28;01mimport\u001b[39;00m \u001b[38;5;21;01mnumpy\u001b[39;00m \u001b[38;5;28;01mas\u001b[39;00m \u001b[38;5;21;01mnp\u001b[39;00m\n\u001b[1;32m----> 6\u001b[0m img \u001b[38;5;241m=\u001b[39m data\u001b[38;5;241m.\u001b[39mcells3d()[\u001b[38;5;241m20\u001b[39m:]\n\u001b[0;32m      8\u001b[0m \u001b[38;5;66;03m# omit some slices that are partially empty\u001b[39;00m\n\u001b[0;32m      9\u001b[0m img \u001b[38;5;241m=\u001b[39m img[\u001b[38;5;241m5\u001b[39m:\u001b[38;5;241m26\u001b[39m]\n",
      "File \u001b[1;32m~\\anaconda3\\Lib\\site-packages\\skimage\\data\\_fetchers.py:655\u001b[0m, in \u001b[0;36mcells3d\u001b[1;34m()\u001b[0m\n\u001b[0;32m    629\u001b[0m \u001b[38;5;28;01mdef\u001b[39;00m \u001b[38;5;21mcells3d\u001b[39m():\n\u001b[0;32m    630\u001b[0m \u001b[38;5;250m    \u001b[39m\u001b[38;5;124;03m\"\"\"3D fluorescence microscopy image of cells.\u001b[39;00m\n\u001b[0;32m    631\u001b[0m \n\u001b[0;32m    632\u001b[0m \u001b[38;5;124;03m    The returned data is a 3D multichannel array with dimensions provided in\u001b[39;00m\n\u001b[1;32m   (...)\u001b[0m\n\u001b[0;32m    652\u001b[0m \u001b[38;5;124;03m        * After rescaling the voxel size is ``(0.29 0.26 0.26)``.\u001b[39;00m\n\u001b[0;32m    653\u001b[0m \u001b[38;5;124;03m    \"\"\"\u001b[39;00m\n\u001b[1;32m--> 655\u001b[0m     \u001b[38;5;28;01mreturn\u001b[39;00m _load(\u001b[38;5;124m\"\u001b[39m\u001b[38;5;124mdata/cells3d.tif\u001b[39m\u001b[38;5;124m\"\u001b[39m)\n",
      "File \u001b[1;32m~\\anaconda3\\Lib\\site-packages\\skimage\\data\\_fetchers.py:358\u001b[0m, in \u001b[0;36m_load\u001b[1;34m(f, as_gray)\u001b[0m\n\u001b[0;32m    355\u001b[0m \u001b[38;5;66;03m# importing io is quite slow since it scans all the backends\u001b[39;00m\n\u001b[0;32m    356\u001b[0m \u001b[38;5;66;03m# we lazy import it here\u001b[39;00m\n\u001b[0;32m    357\u001b[0m \u001b[38;5;28;01mfrom\u001b[39;00m \u001b[38;5;21;01m.\u001b[39;00m\u001b[38;5;21;01m.\u001b[39;00m\u001b[38;5;21;01mio\u001b[39;00m \u001b[38;5;28;01mimport\u001b[39;00m imread\n\u001b[1;32m--> 358\u001b[0m \u001b[38;5;28;01mreturn\u001b[39;00m imread(_fetch(f), as_gray\u001b[38;5;241m=\u001b[39mas_gray)\n",
      "File \u001b[1;32m~\\anaconda3\\Lib\\site-packages\\skimage\\data\\_fetchers.py:218\u001b[0m, in \u001b[0;36m_fetch\u001b[1;34m(data_filename)\u001b[0m\n\u001b[0;32m    215\u001b[0m \u001b[38;5;28;01mif\u001b[39;00m image_fetcher \u001b[38;5;129;01mis\u001b[39;00m \u001b[38;5;28;01mNone\u001b[39;00m:\n\u001b[0;32m    216\u001b[0m     _skip_pytest_case_requiring_pooch(data_filename)\n\u001b[1;32m--> 218\u001b[0m     \u001b[38;5;28;01mraise\u001b[39;00m \u001b[38;5;167;01mModuleNotFoundError\u001b[39;00m(\n\u001b[0;32m    219\u001b[0m         \u001b[38;5;124m\"\u001b[39m\u001b[38;5;124mThe requested file is part of the scikit-image distribution, \u001b[39m\u001b[38;5;124m\"\u001b[39m\n\u001b[0;32m    220\u001b[0m         \u001b[38;5;124m\"\u001b[39m\u001b[38;5;124mbut requires the installation of an optional dependency, pooch. \u001b[39m\u001b[38;5;124m\"\u001b[39m\n\u001b[0;32m    221\u001b[0m         \u001b[38;5;124m\"\u001b[39m\u001b[38;5;124mTo install pooch, use your preferred python package manager. \u001b[39m\u001b[38;5;124m\"\u001b[39m\n\u001b[0;32m    222\u001b[0m         \u001b[38;5;124m\"\u001b[39m\u001b[38;5;124mFollow installation instruction found at \u001b[39m\u001b[38;5;124m\"\u001b[39m\n\u001b[0;32m    223\u001b[0m         \u001b[38;5;124m\"\u001b[39m\u001b[38;5;124mhttps://scikit-image.org/docs/stable/install.html\u001b[39m\u001b[38;5;124m\"\u001b[39m\n\u001b[0;32m    224\u001b[0m     )\n\u001b[0;32m    226\u001b[0m \u001b[38;5;66;03m# Case 4:\u001b[39;00m\n\u001b[0;32m    227\u001b[0m \u001b[38;5;66;03m# Pooch needs to download the data. Let the image fetcher to search for\u001b[39;00m\n\u001b[0;32m    228\u001b[0m \u001b[38;5;66;03m# our data. A ConnectionError is raised if no internet connection is\u001b[39;00m\n\u001b[0;32m    229\u001b[0m \u001b[38;5;66;03m# available.\u001b[39;00m\n\u001b[0;32m    230\u001b[0m \u001b[38;5;28;01mtry\u001b[39;00m:\n",
      "\u001b[1;31mModuleNotFoundError\u001b[0m: The requested file is part of the scikit-image distribution, but requires the installation of an optional dependency, pooch. To install pooch, use your preferred python package manager. Follow installation instruction found at https://scikit-image.org/docs/stable/install.html"
     ]
    }
   ],
   "source": [
    "from skimage import data\n",
    "import plotly\n",
    "import plotly.express as px\n",
    "import numpy as np\n",
    "\n",
    "img = data.cells3d()[20:]\n",
    "\n",
    "# omit some slices that are partially empty\n",
    "img = img[5:26]\n",
    "\n",
    "upper_limit = 1.5 * np.percentile(img, q=99)\n",
    "img = np.clip(img, 0, upper_limit)\n",
    "\n",
    "fig = px.imshow(\n",
    "    img,\n",
    "    facet_col=1,\n",
    "    animation_frame=0,\n",
    "    binary_string=True,\n",
    "    binary_format=\"jpg\",\n",
    ")\n",
    "fig.layout.annotations[0][\"text\"] = \"Cell membranes\"\n",
    "fig.layout.annotations[1][\"text\"] = \"Nuclei\"\n",
    "plotly.io.show(fig)"
   ]
  },
  {
   "cell_type": "code",
   "execution_count": null,
   "id": "5cc12466",
   "metadata": {},
   "outputs": [],
   "source": [
    "a = np.arange(16).reshape(4,4)\n",
    "a"
   ]
  },
  {
   "cell_type": "code",
   "execution_count": null,
   "id": "4c72bcbd",
   "metadata": {},
   "outputs": [],
   "source": [
    "누군가가(미국대학, 연구소) (데이터(x),정답(y)) -> 독립변수(x), 종속변수(target)\n",
    "x, y >>>>>>> bunch 구조\n",
    "데이터를 로드 할때 (데이터를 가져온다.)\n",
    "bunch구조 생김새"
   ]
  },
  {
   "cell_type": "code",
   "execution_count": 183,
   "id": "2861cc8d",
   "metadata": {
    "scrolled": true
   },
   "outputs": [
    {
     "data": {
      "text/plain": [
       "['외부 온도', '표면온도', '실내온도', '체온']"
      ]
     },
     "execution_count": 183,
     "metadata": {},
     "output_type": "execute_result"
    }
   ],
   "source": [
    "import pandas as pd\n",
    "from sklearn.utils import Bunch\n",
    "\n",
    "car_data = Bunch()\n",
    "car_data.feature_names = ['외부 온도', '표면온도', '실내온도', '체온']\n",
    "car_data.data = np.array([[-1.1, 1.5, 21.4,33.2], [-2.9, 3.0, 23.4, 34.2], [-1.7, 3.2, 25.3, 37.2]]) #np.array( 리스트 )\n",
    "car_data.target = [0, 0, 0]\n",
    "car_data.target_names = ['자동차 온도']\n",
    "\n",
    "\n",
    "car_data['feature_names']"
   ]
  },
  {
   "cell_type": "code",
   "execution_count": 209,
   "id": "844c51d0",
   "metadata": {},
   "outputs": [
    {
     "name": "stdout",
     "output_type": "stream",
     "text": [
      "[[5.1 3.5 1.4 0.2]\n",
      " [4.9 3.  1.4 0.2]\n",
      " [4.7 3.2 1.3 0.2]\n",
      " [4.6 3.1 1.5 0.2]\n",
      " [5.  3.6 1.4 0.2]]\n"
     ]
    },
    {
     "data": {
      "text/plain": [
       "['sepal length (cm)',\n",
       " 'sepal width (cm)',\n",
       " 'petal length (cm)',\n",
       " 'petal width (cm)']"
      ]
     },
     "execution_count": 209,
     "metadata": {},
     "output_type": "execute_result"
    }
   ],
   "source": [
    "from sklearn import datasets #클래스 함수 변수 될 수 있다\n",
    "iris = datasets.load_iris()\n",
    "\n",
    "type(iris)\n",
    "irisdt = iris['data']#(150,4) vdarray\n",
    "print(irisdt[:5])\n",
    "irisdt.shape\n",
    "iris['feature_names']#sepal 꽃받침 petal 꽃잎\n",
    "\n"
   ]
  },
  {
   "cell_type": "code",
   "execution_count": 216,
   "id": "79025fc9",
   "metadata": {},
   "outputs": [
    {
     "name": "stdout",
     "output_type": "stream",
     "text": [
      "[[5.1 1.4]\n",
      " [4.9 1.4]\n",
      " [4.7 1.3]]\n"
     ]
    }
   ],
   "source": [
    "#print(irisdt)\n",
    "c = irisdt[:, (0,2)]\n",
    "print(c[:3])"
   ]
  },
  {
   "cell_type": "code",
   "execution_count": 208,
   "id": "811a406c",
   "metadata": {},
   "outputs": [
    {
     "data": {
      "text/plain": [
       "array([[3.5, 0.2],\n",
       "       [3. , 0.2],\n",
       "       [3.2, 0.2],\n",
       "       [3.1, 0.2],\n",
       "       [3.6, 0.2]])"
      ]
     },
     "execution_count": 208,
     "metadata": {},
     "output_type": "execute_result"
    }
   ],
   "source": [
    "a = np.hsplit(irisdt,4 )\n",
    "b = np.hstack((a[1], a[3]))\n",
    "b[:5]"
   ]
  },
  {
   "cell_type": "code",
   "execution_count": 206,
   "id": "af0859c3",
   "metadata": {},
   "outputs": [
    {
     "name": "stdout",
     "output_type": "stream",
     "text": [
      "[0 0 0 0 0 0 0 0 0 0 0 0 0 0 0 0 0 0 0 0 0 0 0 0 0 0 0 0 0 0 0 0 0 0 0 0 0\n",
      " 0 0 0 0 0 0 0 0 0 0 0 0 0 1 1 1 1 1 1 1 1 1 1 1 1 1 1 1 1 1 1 1 1 1 1 1 1\n",
      " 1 1 1 1 1 1 1 1 1 1 1 1 1 1 1 1 1 1 1 1 1 1 1 1 1 1 2 2 2 2 2 2 2 2 2 2 2\n",
      " 2 2 2 2 2 2 2 2 2 2 2 2 2 2 2 2 2 2 2 2 2 2 2 2 2 2 2 2 2 2 2 2 2 2 2 2 2\n",
      " 2 2]\n",
      "4+++++++++++++++++++\n"
     ]
    }
   ],
   "source": [
    "a = irisdt[:5].copy()\n",
    "print(iris['target'])\n",
    "\n",
    "print(\"4+++++++++++++++++++\")"
   ]
  },
  {
   "cell_type": "markdown",
   "id": "b868cd24",
   "metadata": {},
   "source": [
    "<!-- 1. 주어진 리스트를 NumPy 배열로 변환하세요: `[1, 2, 3, 4, 5]`.\n",
    "2. 0으로 채워진 크기가 5인 정수 배열을 생성하세요.\n",
    "3. 1부터 10까지의 정수를 가지는 배열을 생성하세요. -->\n",
    "<!-- 4. 크기가 3x3이고 모든 요소가 1인 2D 배열을 생성하세요. -->\n",
    "<!-- 5. 주어진 배열의 모든 요소의 합을 계산하세요: `[10, 20, 30, 40]`. -->\n",
    "<!-- 6. 크기가 3인 단위 행렬을 생성하세요. -->\n",
    "<!-- 7. 주어진 배열에서 최솟값과 최댓값을 찾으세요: `[3, 8, 1, 6, 2]`. -->\n",
    "<!-- 8. 주어진 배열의 각 요소를 제곱하세요: `[2, 4, 6, 8]`. -->\n",
    "<!-- 9. 크기가 4x4이고 1에서 16까지의 숫자로 채워진 2D 배열을 생성하세요. -->\n",
    "<!-- 10. 주어진 배열의 각 요소에 대해 제곱근을 계산하세요: `[1, 4, 9, 16]`. -->\n",
    "<!-- 11. 두 배열을 수평으로 결합하세요: `[1, 2, 3]`와 `[4, 5, 6]`. -->\n",
    "12. 주어진 배열에서 3의 배수를 모두 찾으세요: `[2, 6, 9, 3, 12, 8, 7]`.\n",
    "13. 크기가 3x3이고 0에서 8까지의 숫자로 채워진 2D 배열을 생성하고, 대각선 요소를 모두 0으로 설정하세요.\n",
    "14. 주어진 배열의 요소 중에서 5보다 작은 값들을 모두 0으로 설정하세요: `[1, 6, 0, 9, 3, 5]`.\n",
    "15. 크기가 3인 배열을 생성하고, 해당 배열을 역순으로 정렬하세요.\n",
    "16. 주어진 배열의 요소 중에서 2로 나누어 떨어지는 값들만 선택하세요: `[1, 4, 6, 8, 10]`.\n",
    "17. 크기가 5인 랜덤 실수 배열을 생성하세요.\n",
    "18. 주어진 배열에서 중복된 값을 제거하세요: `[1, 2, 2, 3, 4, 4, 5]`.\n",
    "19. 두 배열의 내적을 계산하세요: `[1, 2, 3]`와 `[4, 5, 6]`.\n",
    "20. 크기가 4인 배열에서 각 요소를 2배로 하는 함수를 작성하고, 해당 함수를 배열에 적용하세요.\n"
   ]
  },
  {
   "cell_type": "code",
   "execution_count": 500,
   "id": "cf272ae8",
   "metadata": {},
   "outputs": [
    {
     "name": "stdout",
     "output_type": "stream",
     "text": [
      "[1 2 3 4 5]\n",
      "===================================\n",
      "[0 0 0 0 0]\n",
      "===================================\n",
      "[ 1  2  3  4  5  6  7  8  9 10]\n",
      "===================================\n",
      "[[1 2 3]\n",
      " [4 5 6]\n",
      " [7 8 9]]\n",
      "5===================================\n",
      "100\n",
      "6===================================\n",
      "[[1 0 0]\n",
      " [0 1 0]\n",
      " [0 0 1]]\n",
      "7===================================\n",
      "1\n",
      "8\n",
      "8===================================\n",
      "4\n",
      "16\n",
      "36\n",
      "64\n",
      "9===================================\n",
      "[[ 1  2  3  4]\n",
      " [ 5  6  7  8]\n",
      " [ 9 10 11 12]\n",
      " [13 14 15 16]]\n",
      "10===================================\n",
      "2.0\n",
      "3.0\n",
      "8.0\n"
     ]
    }
   ],
   "source": [
    "import numpy as np\n",
    "# 1\n",
    " \n",
    "a = np.arange(1,6)\n",
    "print(a)\n",
    "# 2\n",
    "print('===================================')\n",
    "b = np.zeros(5, dtype = int)\n",
    "print(b)\n",
    "print('===================================')\n",
    "# 3\n",
    "c = np.arange(1, 11)\n",
    "print(c)\n",
    "print('===================================')\n",
    "# 4\n",
    "d = np.array([[1,2,3],[4,5,6],[7,8,9]])\n",
    "print(d)\n",
    "print('5===================================')\n",
    "# 5\n",
    "e = np.array([10,20,30,40])#행럴 내 모든 원소의 합\n",
    "sum_e = e.sum()\n",
    "print(sum_e)\n",
    "print('6===================================')\n",
    "\n",
    "#6\n",
    "# def make(put):\n",
    "#     for i in range(9):\n",
    "#         i %= 3\n",
    "#     return()\n",
    "f = np.arange(1, 10).reshape(3,3)\n",
    "f %= 1\n",
    "for i in range(3):\n",
    "    f[i, i] = 1\n",
    "\n",
    "\n",
    "print(f)\n",
    "print('7===================================')\n",
    "\n",
    "#7\n",
    "g = np.array([3, 8, 1, 6, 2])\n",
    "print(g.min(axis = 0))\n",
    "print(g.max(axis = 0))\n",
    "print('8===================================')\n",
    "\n",
    "#8\n",
    "h = np.array([2, 4, 6, 8])\n",
    "for i in range(4):\n",
    "    jaegob = h[i] * h[i]\n",
    "    i += 1\n",
    "    \n",
    "    print(jaegob)\n",
    "print('9===================================')\n",
    "#9\n",
    "j = np.arange(1, 17).reshape(4,4)\n",
    "print(j)\n",
    "print('10===================================')\n",
    "#10\n",
    "k = np.array([1, 4, 9, 16])\n",
    "#제곱근 찾기 실패 다른방법\n",
    "for i in range(4):\n",
    " #   i += 1\n",
    "    for z in range(2, 4):\n",
    "        \n",
    "        #k[i]\n",
    "        if k[i] % z == 0:\n",
    "            a = k[i] / z\n",
    "            print(a)\n",
    "print('10===================================')\n",
    "#11\n",
    "[1, 2, 3]`와 `[4, 5, 6]\n"
   ]
  },
  {
   "cell_type": "code",
   "execution_count": 517,
   "id": "2c93cdad",
   "metadata": {},
   "outputs": [
    {
     "name": "stdout",
     "output_type": "stream",
     "text": [
      "[1 2 3 4 5 6]\n"
     ]
    }
   ],
   "source": [
    "#11\n",
    "a = np.array([1, 2, 3])\n",
    "b = np.array([4, 5, 6])\n",
    "\n",
    "c = np.hstack([a,b])\n",
    "print(c)"
   ]
  },
  {
   "cell_type": "code",
   "execution_count": null,
   "id": "21d13c8b",
   "metadata": {},
   "outputs": [],
   "source": []
  },
  {
   "cell_type": "code",
   "execution_count": null,
   "id": "aa68e5ae",
   "metadata": {},
   "outputs": [],
   "source": []
  },
  {
   "cell_type": "code",
   "execution_count": null,
   "id": "2df342b6",
   "metadata": {},
   "outputs": [],
   "source": []
  },
  {
   "cell_type": "code",
   "execution_count": null,
   "id": "e13811d8",
   "metadata": {},
   "outputs": [],
   "source": []
  },
  {
   "cell_type": "code",
   "execution_count": null,
   "id": "4d1c1fde",
   "metadata": {},
   "outputs": [],
   "source": []
  },
  {
   "cell_type": "code",
   "execution_count": null,
   "id": "aa1c1600",
   "metadata": {},
   "outputs": [],
   "source": []
  },
  {
   "cell_type": "code",
   "execution_count": null,
   "id": "c19a5953",
   "metadata": {},
   "outputs": [],
   "source": []
  },
  {
   "cell_type": "code",
   "execution_count": null,
   "id": "c6e68d28",
   "metadata": {},
   "outputs": [],
   "source": []
  },
  {
   "cell_type": "code",
   "execution_count": null,
   "id": "a0942127",
   "metadata": {},
   "outputs": [],
   "source": []
  },
  {
   "cell_type": "code",
   "execution_count": null,
   "id": "8064b488",
   "metadata": {},
   "outputs": [],
   "source": []
  },
  {
   "cell_type": "code",
   "execution_count": 168,
   "id": "a68b2208",
   "metadata": {},
   "outputs": [],
   "source": [
    "class mybunch:\n",
    "    def __init__(self, **kwargs):\n",
    "        self.__dict__.update(kwargs)"
   ]
  },
  {
   "cell_type": "code",
   "execution_count": 169,
   "id": "e618ed20",
   "metadata": {},
   "outputs": [],
   "source": [
    "bus = mybunch()"
   ]
  },
  {
   "cell_type": "code",
   "execution_count": 170,
   "id": "b5083af0",
   "metadata": {},
   "outputs": [
    {
     "name": "stdout",
     "output_type": "stream",
     "text": [
      "10\n"
     ]
    }
   ],
   "source": [
    "bus.a = 10\n",
    "print(bus.a)"
   ]
  },
  {
   "cell_type": "code",
   "execution_count": 171,
   "id": "8509a208",
   "metadata": {},
   "outputs": [
    {
     "name": "stdout",
     "output_type": "stream",
     "text": [
      "30\n"
     ]
    }
   ],
   "source": [
    "texi = mybunch(b=30)\n",
    "print(texi.b)"
   ]
  },
  {
   "cell_type": "code",
   "execution_count": null,
   "id": "dd1be137",
   "metadata": {},
   "outputs": [],
   "source": []
  },
  {
   "cell_type": "code",
   "execution_count": null,
   "id": "496670d7",
   "metadata": {},
   "outputs": [],
   "source": []
  },
  {
   "cell_type": "code",
   "execution_count": null,
   "id": "6b890c6f",
   "metadata": {},
   "outputs": [],
   "source": []
  },
  {
   "cell_type": "code",
   "execution_count": null,
   "id": "5b80a5ed",
   "metadata": {},
   "outputs": [],
   "source": []
  }
 ],
 "metadata": {
  "kernelspec": {
   "display_name": "Python 3 (ipykernel)",
   "language": "python",
   "name": "python3"
  },
  "language_info": {
   "codemirror_mode": {
    "name": "ipython",
    "version": 3
   },
   "file_extension": ".py",
   "mimetype": "text/x-python",
   "name": "python",
   "nbconvert_exporter": "python",
   "pygments_lexer": "ipython3",
   "version": "3.11.5"
  }
 },
 "nbformat": 4,
 "nbformat_minor": 5
}
