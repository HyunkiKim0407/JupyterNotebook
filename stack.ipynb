{
 "cells": [
  {
   "cell_type": "code",
   "execution_count": 2,
   "id": "dae417bc-ee74-43be-8838-d2a32ec91d1e",
   "metadata": {},
   "outputs": [
    {
     "data": {
      "text/plain": [
       "[1, 2, 3, 4, 5, 6]"
      ]
     },
     "execution_count": 2,
     "metadata": {},
     "output_type": "execute_result"
    }
   ],
   "source": [
    "stack = [1,2,3,4,5]\n",
    "\n",
    "stack.append(6)\n",
    "stack"
   ]
  },
  {
   "cell_type": "code",
   "execution_count": 20,
   "id": "970f6db5-5723-4ee8-85b8-197fab318eaf",
   "metadata": {},
   "outputs": [
    {
     "data": {
      "text/plain": [
       "[1, 2, 3, 4, 5, 8, 8, 8]"
      ]
     },
     "execution_count": 20,
     "metadata": {},
     "output_type": "execute_result"
    }
   ],
   "source": [
    "stack.append(8)\n",
    "stack\n"
   ]
  },
  {
   "cell_type": "code",
   "execution_count": 60,
   "id": "b68a0643-fe59-47b6-98f2-1a6861c7d9fd",
   "metadata": {},
   "outputs": [
    {
     "data": {
      "text/plain": [
       "4"
      ]
     },
     "execution_count": 60,
     "metadata": {},
     "output_type": "execute_result"
    }
   ],
   "source": [
    "stack = [1,2,3,4,5]\n",
    "\n",
    "a=stack.pop()\n",
    "b = stack.pop()\n",
    "b"
   ]
  },
  {
   "cell_type": "code",
   "execution_count": 5,
   "id": "f6df0924-3186-4192-908c-aceffd6252df",
   "metadata": {},
   "outputs": [
    {
     "data": {
      "text/plain": [
       "[1, 2, 3, 4, 5, 6]"
      ]
     },
     "execution_count": 5,
     "metadata": {},
     "output_type": "execute_result"
    }
   ],
   "source": [
    "stack\n"
   ]
  },
  {
   "cell_type": "code",
   "execution_count": 6,
   "id": "878d6bb0-a905-4ecd-bcab-127bd5e505aa",
   "metadata": {},
   "outputs": [
    {
     "data": {
      "text/plain": [
       "6"
      ]
     },
     "execution_count": 6,
     "metadata": {},
     "output_type": "execute_result"
    }
   ],
   "source": [
    "stack.pop()"
   ]
  },
  {
   "cell_type": "code",
   "execution_count": 7,
   "id": "4cf93372-385a-47bc-938b-27385e8d7952",
   "metadata": {},
   "outputs": [
    {
     "data": {
      "text/plain": [
       "[1, 2, 3, 4, 5]"
      ]
     },
     "execution_count": 7,
     "metadata": {},
     "output_type": "execute_result"
    }
   ],
   "source": [
    "stack\n"
   ]
  },
  {
   "cell_type": "code",
   "execution_count": 9,
   "id": "cca1625a-5a98-4bde-9c48-589a8f95c0b0",
   "metadata": {},
   "outputs": [],
   "source": [
    "que = [1,2,3,4,5]\n",
    "que.append(6)"
   ]
  },
  {
   "cell_type": "code",
   "execution_count": 16,
   "id": "756723a6-9e86-4969-885c-3c67370cbdec",
   "metadata": {},
   "outputs": [
    {
     "ename": "AttributeError",
     "evalue": "'list' object has no attribute 'popleft'",
     "output_type": "error",
     "traceback": [
      "\u001b[0;31m---------------------------------------------------------------------------\u001b[0m",
      "\u001b[0;31mAttributeError\u001b[0m                            Traceback (most recent call last)",
      "Cell \u001b[0;32mIn[16], line 4\u001b[0m\n\u001b[1;32m      2\u001b[0m que \u001b[38;5;241m=\u001b[39m [\u001b[38;5;241m1\u001b[39m,\u001b[38;5;241m2\u001b[39m,\u001b[38;5;241m3\u001b[39m,\u001b[38;5;241m4\u001b[39m,\u001b[38;5;241m5\u001b[39m]\n\u001b[1;32m      3\u001b[0m que\u001b[38;5;241m.\u001b[39mappend(\u001b[38;5;241m6\u001b[39m)\n\u001b[0;32m----> 4\u001b[0m que\u001b[38;5;241m.\u001b[39mpopleft()\n",
      "\u001b[0;31mAttributeError\u001b[0m: 'list' object has no attribute 'popleft'"
     ]
    }
   ],
   "source": [
    "from collections import deque\n",
    "que = [1,2,3,4,5]\n",
    "que.append(6)\n",
    "que.popleft()"
   ]
  },
  {
   "cell_type": "code",
   "execution_count": 17,
   "id": "f35477cc-a6b2-4e20-ade5-d41189af3cd3",
   "metadata": {},
   "outputs": [
    {
     "name": "stdout",
     "output_type": "stream",
     "text": [
      "5 4 3 2 1 "
     ]
    }
   ],
   "source": [
    "def DFS(n):\n",
    "    if n < 1:\n",
    "        return\n",
    "    print(n, end=' ')\n",
    "    DFS(n-1)\n",
    "DFS(5)"
   ]
  },
  {
   "cell_type": "code",
   "execution_count": 21,
   "id": "2530566b-2a89-4ff8-b310-e2f46bf92add",
   "metadata": {},
   "outputs": [],
   "source": [
    "def solution(arr):\n",
    "    answer = 0\n",
    "    return answer"
   ]
  },
  {
   "cell_type": "code",
   "execution_count": 34,
   "id": "342e3656-e740-452c-a232-f8bf41d0c0f9",
   "metadata": {},
   "outputs": [],
   "source": [
    "def solution(arr):\n",
    "    a = len(arr)\n",
    "    for i in range(a):\n",
    "        arr = arr.pop()\n",
    "        \n",
    "    answer = arr * arr\n",
    "    return answer\n"
   ]
  },
  {
   "cell_type": "code",
   "execution_count": 38,
   "id": "44bcf4d9-6b40-4aa1-83d4-6ee5c3e18d0b",
   "metadata": {},
   "outputs": [
    {
     "ename": "IndentationError",
     "evalue": "unexpected indent (3762175777.py, line 5)",
     "output_type": "error",
     "traceback": [
      "\u001b[0;36m  Cell \u001b[0;32mIn[38], line 5\u001b[0;36m\u001b[0m\n\u001b[0;31m    answer = a * b * c\u001b[0m\n\u001b[0m    ^\u001b[0m\n\u001b[0;31mIndentationError\u001b[0m\u001b[0;31m:\u001b[0m unexpected indent\n"
     ]
    }
   ],
   "source": [
    "arr = [1,2,3]\n",
    "a = len(arr)\n",
    "for i in range(a - 1 ):\n",
    "    a,b,c = arr.pop()\n",
    "     answer = a * b * c \n",
    "\n",
    "\n",
    "print(answer)\n"
   ]
  },
  {
   "cell_type": "code",
   "execution_count": 100,
   "id": "51009a25-8a85-4a80-9b29-dd9984b8bb5e",
   "metadata": {},
   "outputs": [
    {
     "data": {
      "text/plain": [
       "3"
      ]
     },
     "execution_count": 100,
     "metadata": {},
     "output_type": "execute_result"
    }
   ],
   "source": [
    "def solution(arr):\n",
    "a = len(arr)\n",
    "for i in range(a - 1):\n",
    "    while a > -1:\n",
    "        b = arr.pop()\n",
    "         b * b = answer\n",
    "        return answer"
   ]
  },
  {
   "cell_type": "code",
   "execution_count": 249,
   "id": "a103df56-55fb-4525-a15b-52df347bf596",
   "metadata": {},
   "outputs": [
    {
     "ename": "NameError",
     "evalue": "name 'gcd' is not defined",
     "output_type": "error",
     "traceback": [
      "\u001b[0;31m---------------------------------------------------------------------------\u001b[0m",
      "\u001b[0;31mNameError\u001b[0m                                 Traceback (most recent call last)",
      "Cell \u001b[0;32mIn[249], line 13\u001b[0m\n\u001b[1;32m      7\u001b[0m     \u001b[38;5;28;01mreturn\u001b[39;00m(lcm)\n\u001b[1;32m     11\u001b[0m     \u001b[38;5;66;03m# return answer\u001b[39;00m\n\u001b[0;32m---> 13\u001b[0m solution(a)\n",
      "Cell \u001b[0;32mIn[249], line 5\u001b[0m, in \u001b[0;36msolution\u001b[0;34m(arr)\u001b[0m\n\u001b[1;32m      3\u001b[0m lcm \u001b[38;5;241m=\u001b[39m arr[\u001b[38;5;241m0\u001b[39m]\n\u001b[1;32m      4\u001b[0m \u001b[38;5;28;01mfor\u001b[39;00m num \u001b[38;5;129;01min\u001b[39;00m arr[\u001b[38;5;241m1\u001b[39m:]:\n\u001b[0;32m----> 5\u001b[0m     lcm \u001b[38;5;241m=\u001b[39m lcm \u001b[38;5;241m*\u001b[39m num \u001b[38;5;241m/\u001b[39m\u001b[38;5;241m/\u001b[39m gcd(lcm, num)\n\u001b[1;32m      7\u001b[0m \u001b[38;5;28;01mreturn\u001b[39;00m(lcm)\n",
      "\u001b[0;31mNameError\u001b[0m: name 'gcd' is not defined"
     ]
    }
   ],
   "source": [
    "a = [2,6,8,14]\n",
    "def solution(arr):\n",
    "    def gcd(a, b):\n",
    "        while b != 0:\n",
    "            a, b = b, a % b\n",
    "    return(lcm)\n",
    "            \n",
    "\n",
    "    \n",
    "    # return answer\n",
    "                \n",
    "solution(a)"
   ]
  },
  {
   "cell_type": "code",
   "execution_count": 248,
   "id": "7730aa84-05e2-40ba-a2fa-f4c1d27d15f4",
   "metadata": {},
   "outputs": [
    {
     "name": "stdout",
     "output_type": "stream",
     "text": [
      "14\n",
      "7\n",
      "2\n",
      "1\n",
      "8\n",
      "4\n",
      "2\n",
      "1\n",
      "6\n",
      "3\n",
      "2\n",
      "1\n",
      "2\n",
      "1\n"
     ]
    },
    {
     "data": {
      "text/plain": [
       "1"
      ]
     },
     "execution_count": 248,
     "metadata": {},
     "output_type": "execute_result"
    }
   ],
   "source": [
    "a = [2,6,8,14]\n",
    "def solution(arr):\n",
    "    #e = []\n",
    "    cnt = len(arr)\n",
    "    for n in range(cnt):\n",
    "        d = arr.pop()\n",
    "        for i in range(1, 101):\n",
    "            if d % i == 0:\n",
    "                e = d // i\n",
    "                \n",
    "                print(e)\n",
    "                #e.append(d // i)\n",
    "                \n",
    "    return(e)\n",
    "            \n",
    "\n",
    "    \n",
    "    # return answer\n",
    "                \n",
    "solution(a)"
   ]
  },
  {
   "cell_type": "code",
   "execution_count": 208,
   "id": "fd967c5f-8765-4aa1-9c80-d8387f79efb8",
   "metadata": {},
   "outputs": [
    {
     "ename": "ZeroDivisionError",
     "evalue": "integer division or modulo by zero",
     "output_type": "error",
     "traceback": [
      "\u001b[0;31m---------------------------------------------------------------------------\u001b[0m",
      "\u001b[0;31mZeroDivisionError\u001b[0m                         Traceback (most recent call last)",
      "Cell \u001b[0;32mIn[208], line 20\u001b[0m\n\u001b[1;32m     14\u001b[0m     \u001b[38;5;28;01mreturn\u001b[39;00m(e)\n\u001b[1;32m     18\u001b[0m     \u001b[38;5;66;03m# return answer\u001b[39;00m\n\u001b[0;32m---> 20\u001b[0m solution(a)\n",
      "Cell \u001b[0;32mIn[208], line 12\u001b[0m, in \u001b[0;36msolution\u001b[0;34m(arr)\u001b[0m\n\u001b[1;32m      8\u001b[0m     d \u001b[38;5;241m=\u001b[39m arr\u001b[38;5;241m.\u001b[39mpop()\n\u001b[1;32m      9\u001b[0m     \u001b[38;5;28;01mfor\u001b[39;00m i \u001b[38;5;129;01min\u001b[39;00m \u001b[38;5;28mrange\u001b[39m(\u001b[38;5;241m10\u001b[39m):\n\u001b[0;32m---> 12\u001b[0m             e\u001b[38;5;241m.\u001b[39mappend(d \u001b[38;5;241m/\u001b[39m\u001b[38;5;241m/\u001b[39m i)\n\u001b[1;32m     14\u001b[0m \u001b[38;5;28;01mreturn\u001b[39;00m(e)\n",
      "\u001b[0;31mZeroDivisionError\u001b[0m: integer division or modulo by zero"
     ]
    }
   ],
   "source": [
    "a = [2,6,8,14]\n",
    "#a = [1,2,3]\n",
    "\n",
    "def solution(arr):\n",
    "    e = []\n",
    "    cnt = len(arr)\n",
    "    for n in range(cnt):\n",
    "        d = arr.pop()\n",
    "        for i in range(10):\n",
    "            \n",
    "                \n",
    "                e.append(d // i)\n",
    "                \n",
    "    return(e)\n",
    "            \n",
    "\n",
    "    \n",
    "    # return answer\n",
    "                \n",
    "solution(a)"
   ]
  },
  {
   "cell_type": "code",
   "execution_count": 250,
   "id": "b2bcb59b-9dfb-434c-a665-d8d9e211243f",
   "metadata": {},
   "outputs": [
    {
     "name": "stdout",
     "output_type": "stream",
     "text": [
      "168\n"
     ]
    }
   ],
   "source": [
    "def solution(arr):\n",
    "    def gcd(a, b):\n",
    "        while b != 0:\n",
    "            a, b = b, a % b\n",
    "        return a\n",
    "\n",
    "    def lcm(a, b):\n",
    "        return a * b // gcd(a, b)\n",
    "\n",
    "    lcm_value = arr[0]\n",
    "    for num in arr[1:]:\n",
    "        lcm_value = lcm(lcm_value, num)\n",
    "    return lcm_value\n",
    "\n",
    "# 예시\n",
    "a = [2,6,8,14]\n",
    "print(solution(a))  # 출력: 168"
   ]
  }
 ],
 "metadata": {
  "kernelspec": {
   "display_name": "Python 3 (ipykernel)",
   "language": "python",
   "name": "python3"
  },
  "language_info": {
   "codemirror_mode": {
    "name": "ipython",
    "version": 3
   },
   "file_extension": ".py",
   "mimetype": "text/x-python",
   "name": "python",
   "nbconvert_exporter": "python",
   "pygments_lexer": "ipython3",
   "version": "3.11.5"
  }
 },
 "nbformat": 4,
 "nbformat_minor": 5
}
