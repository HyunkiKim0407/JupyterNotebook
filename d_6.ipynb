{
 "cells": [
  {
   "cell_type": "code",
   "execution_count": 14,
   "id": "63c7856f",
   "metadata": {},
   "outputs": [
    {
     "ename": "ModuleNotFoundError",
     "evalue": "No module named 'aa'",
     "output_type": "error",
     "traceback": [
      "\u001b[0;31m---------------------------------------------------------------------------\u001b[0m",
      "\u001b[0;31mModuleNotFoundError\u001b[0m                       Traceback (most recent call last)",
      "Cell \u001b[0;32mIn[14], line 1\u001b[0m\n\u001b[0;32m----> 1\u001b[0m \u001b[38;5;28;01mimport\u001b[39;00m \u001b[38;5;21;01maa\u001b[39;00m\u001b[38;5;21;01m.\u001b[39;00m\u001b[38;5;21;01mbb\u001b[39;00m\u001b[38;5;21;01m.\u001b[39;00m\u001b[38;5;21;01mmy_math\u001b[39;00m\u001b[38;5;21;01m.\u001b[39;00m\u001b[38;5;21;01mpy\u001b[39;00m\n\u001b[1;32m      2\u001b[0m am\u001b[38;5;241m.\u001b[39madd(\u001b[38;5;241m12\u001b[39m, \u001b[38;5;241m13\u001b[39m)\n",
      "\u001b[0;31mModuleNotFoundError\u001b[0m: No module named 'aa'"
     ]
    }
   ],
   "source": [
    "import aa.bb.my_math.py\n",
    "am.add(12, 13)"
   ]
  },
  {
   "cell_type": "code",
   "execution_count": 15,
   "id": "8229a4de",
   "metadata": {},
   "outputs": [
    {
     "data": {
      "text/plain": [
       "['/Users/ruben/Documents/문서 - HYUNKI’s Laptop/workspace/JupyterNotebook',\n",
       " '/Users/ruben/anaconda3/lib/python311.zip',\n",
       " '/Users/ruben/anaconda3/lib/python3.11',\n",
       " '/Users/ruben/anaconda3/lib/python3.11/lib-dynload',\n",
       " '',\n",
       " '/Users/ruben/anaconda3/lib/python3.11/site-packages',\n",
       " '/Users/ruben/anaconda3/lib/python3.11/site-packages/aeosa',\n",
       " '/Users/ruben/aa/bb/',\n",
       " '/Users/ruben/aa/bb/']"
      ]
     },
     "execution_count": 15,
     "metadata": {},
     "output_type": "execute_result"
    }
   ],
   "source": [
    "import sys\n",
    "sys.path"
   ]
  },
  {
   "cell_type": "code",
   "execution_count": 16,
   "id": "d97e2a39",
   "metadata": {},
   "outputs": [],
   "source": [
    "import sys\n",
    "sys.path.append('/Users/ruben/aa/bb/')"
   ]
  },
  {
   "cell_type": "code",
   "execution_count": 17,
   "id": "f88a99a2",
   "metadata": {},
   "outputs": [
    {
     "ename": "ModuleNotFoundError",
     "evalue": "No module named 'aa'",
     "output_type": "error",
     "traceback": [
      "\u001b[0;31m---------------------------------------------------------------------------\u001b[0m",
      "\u001b[0;31mModuleNotFoundError\u001b[0m                       Traceback (most recent call last)",
      "Cell \u001b[0;32mIn[17], line 1\u001b[0m\n\u001b[0;32m----> 1\u001b[0m \u001b[38;5;28;01mimport\u001b[39;00m \u001b[38;5;21;01maa\u001b[39;00m\u001b[38;5;21;01m.\u001b[39;00m\u001b[38;5;21;01mbb\u001b[39;00m\u001b[38;5;21;01m.\u001b[39;00m\u001b[38;5;21;01mmy_math\u001b[39;00m\u001b[38;5;21;01m.\u001b[39;00m\u001b[38;5;21;01mpy\u001b[39;00m\n",
      "\u001b[0;31mModuleNotFoundError\u001b[0m: No module named 'aa'"
     ]
    }
   ],
   "source": [
    "import aa.bb.my_math.py"
   ]
  },
  {
   "cell_type": "code",
   "execution_count": 19,
   "id": "5bd34226",
   "metadata": {},
   "outputs": [
    {
     "name": "stdout",
     "output_type": "stream",
     "text": [
      "20\n",
      "10\n"
     ]
    }
   ],
   "source": [
    "gg = 10\n",
    "def func():\n",
    "    gg = 20\n",
    "    print(gg)\n",
    "func()\n",
    "print(gg)"
   ]
  },
  {
   "cell_type": "code",
   "execution_count": 20,
   "id": "0cf59a52",
   "metadata": {},
   "outputs": [
    {
     "name": "stdout",
     "output_type": "stream",
     "text": [
      "20\n",
      "20\n"
     ]
    }
   ],
   "source": [
    "gg = 10\n",
    "def func():\n",
    "    global gg\n",
    "    gg = 20\n",
    "    print(gg)\n",
    "func()\n",
    "print(gg)"
   ]
  },
  {
   "cell_type": "code",
   "execution_count": 23,
   "id": "2a056a3a",
   "metadata": {},
   "outputs": [
    {
     "name": "stdout",
     "output_type": "stream",
     "text": [
      "10\n",
      "30\n",
      "20\n"
     ]
    }
   ],
   "source": [
    "aa = 10\n",
    "def func():\n",
    "    aa = 20\n",
    "    \n",
    "    def boo():\n",
    "        aa = 30\n",
    "        print(aa)\n",
    "    boo()\n",
    "    print(aa)\n",
    "\n",
    "print(aa)\n",
    "func()"
   ]
  },
  {
   "cell_type": "code",
   "execution_count": 25,
   "id": "5e746a33",
   "metadata": {},
   "outputs": [
    {
     "name": "stdout",
     "output_type": "stream",
     "text": [
      "30\n",
      "30\n",
      "10\n"
     ]
    }
   ],
   "source": [
    "aa = 10\n",
    "def func():\n",
    "    aa = 20\n",
    "    \n",
    "    def boo():\n",
    "        nonlocal aa \n",
    "        aa = 30\n",
    "        print(aa)\n",
    "    boo()\n",
    "    print(aa)\n",
    "\n",
    "func()\n",
    "print(aa)\n"
   ]
  },
  {
   "cell_type": "code",
   "execution_count": 26,
   "id": "884439a2",
   "metadata": {},
   "outputs": [
    {
     "data": {
      "text/plain": [
       "4"
      ]
     },
     "execution_count": 26,
     "metadata": {},
     "output_type": "execute_result"
    }
   ],
   "source": [
    "def square(x):\n",
    "    return x * x\n",
    "\n",
    "lst = [square,1, 'a', 3.14, \"String\"]\n",
    "result = lst[0](2)\n",
    "result\n",
    "    "
   ]
  },
  {
   "cell_type": "code",
   "execution_count": 29,
   "id": "768cd0c2",
   "metadata": {},
   "outputs": [
    {
     "name": "stdout",
     "output_type": "stream",
     "text": [
      "python.ppt\n"
     ]
    }
   ],
   "source": [
    "def string_add(x):\n",
    "    return x + '.ppt'\n",
    "lst = [1, 2, string_add, '야']\n",
    "print(lst[2]('python'))\n"
   ]
  },
  {
   "cell_type": "code",
   "execution_count": 31,
   "id": "85b8e5c1",
   "metadata": {},
   "outputs": [
    {
     "name": "stdout",
     "output_type": "stream",
     "text": [
      "pyhton .ppt\n",
      "good .doc\n"
     ]
    }
   ],
   "source": [
    "lst = [lambda x : x+' .ppt', lambda x : x+' .doc']\n",
    "print(lst[0]('pyhton'))\n",
    "print(lst[1]('good'))\n",
    "\n",
    "\n"
   ]
  },
  {
   "cell_type": "code",
   "execution_count": 35,
   "id": "54d71c72",
   "metadata": {},
   "outputs": [
    {
     "name": "stdout",
     "output_type": "stream",
     "text": [
      "난방\n"
     ]
    }
   ],
   "source": [
    "def cold():\n",
    "    print(\"난방\")\n",
    "def hot():\n",
    "    print(\"에어컨\")\n",
    "def choice_func(a):\n",
    "    if(a == 'cold'):\n",
    "        return cold\n",
    "    else: \n",
    "        return hot\n",
    "a = choice_func('cold')\n",
    "a()"
   ]
  },
  {
   "cell_type": "code",
   "execution_count": 36,
   "id": "99ba07c6",
   "metadata": {},
   "outputs": [
    {
     "name": "stdout",
     "output_type": "stream",
     "text": [
      "hello\n",
      "local hi, pyhton\n"
     ]
    }
   ],
   "source": [
    "def print_hello():\n",
    "    global hello\n",
    "    hello ='hi, pyhton'\n",
    "    def print_message():\n",
    "        print(\"hello\")\n",
    "    print_message()\n",
    "print_hello()\n",
    "print('local ' + hello)\n",
    "    "
   ]
  },
  {
   "cell_type": "code",
   "execution_count": 41,
   "id": "885c8eb5",
   "metadata": {},
   "outputs": [
    {
     "name": "stdout",
     "output_type": "stream",
     "text": [
      "난방온도25\n"
     ]
    }
   ],
   "source": [
    "def choice_func(a, b):\n",
    "    tempurture = '온도'\n",
    "    def cold():\n",
    "        print(\"난방\" + tempurture + f\"{b}\")\n",
    "    def hot():\n",
    "        print(\"에어컨\" + tempurture + f\"{b}\")\n",
    "        \n",
    "    if a == 'cold':\n",
    "        return cold\n",
    "    else: \n",
    "        return hot\n",
    "    \n",
    "a = choice_func('cold', 25)\n",
    "a()"
   ]
  },
  {
   "cell_type": "code",
   "execution_count": 42,
   "id": "7a179668",
   "metadata": {},
   "outputs": [
    {
     "name": "stdout",
     "output_type": "stream",
     "text": [
      "3\n"
     ]
    }
   ],
   "source": [
    "def calc():\n",
    "    w = 2\n",
    "    b = 1\n",
    "    def mul_add(x):\n",
    "        return w * x + b\n",
    "    return mul_add\n",
    "c = calc()\n",
    "print(c(1))"
   ]
  },
  {
   "cell_type": "code",
   "execution_count": 43,
   "id": "9488c95d",
   "metadata": {},
   "outputs": [
    {
     "data": {
      "text/plain": [
       "50"
      ]
     },
     "execution_count": 43,
     "metadata": {},
     "output_type": "execute_result"
    }
   ],
   "source": [
    "def zoo(x):\n",
    "    def boo(y):\n",
    "        return x * y\n",
    "    return boo\n",
    "closure = zoo(10)\n",
    "rlt = closure(5)\n",
    "rlt\n"
   ]
  },
  {
   "cell_type": "code",
   "execution_count": 58,
   "id": "aaab86d7",
   "metadata": {},
   "outputs": [
    {
     "name": "stdout",
     "output_type": "stream",
     "text": [
      "1\n",
      "2\n",
      "3\n"
     ]
    }
   ],
   "source": [
    "def zoo():\n",
    "    count = 0\n",
    "    def boo():\n",
    "        nonlocal count\n",
    "        count += 1\n",
    "        return count\n",
    "    return boo\n",
    "\n",
    "counter = zoo()\n",
    "\n",
    "\n",
    "print(counter())\n",
    "print(counter())\n",
    "print(counter())"
   ]
  },
  {
   "cell_type": "code",
   "execution_count": null,
   "id": "ea4da45b",
   "metadata": {},
   "outputs": [],
   "source": [
    "def "
   ]
  },
  {
   "cell_type": "code",
   "execution_count": 65,
   "id": "6052ac3c",
   "metadata": {},
   "outputs": [
    {
     "name": "stdout",
     "output_type": "stream",
     "text": [
      "일어나기\n",
      "study!!!\n",
      "잠자기\n"
     ]
    }
   ],
   "source": [
    "def beginning(work):\n",
    "    def wrapper():\n",
    "        print(\"일어나기\")\n",
    "        work()\n",
    "        print(\"잠자기\")\n",
    "    return wrapper\n",
    "\n",
    "@beginning\n",
    "def study():\n",
    "    print(\"study!!!\")\n",
    "    \n",
    "study()    \n",
    "# day = beginning(study)\n",
    "# day()"
   ]
  },
  {
   "cell_type": "code",
   "execution_count": 71,
   "id": "6e777d66",
   "metadata": {},
   "outputs": [
    {
     "name": "stdout",
     "output_type": "stream",
     "text": [
      "시간 많이 걸리는 함수\n",
      "slow_func가 실행되는데 걸린시간 2.0055\n"
     ]
    }
   ],
   "source": [
    "import time\n",
    "def check(work):\n",
    "    def wrapper(*args, **kwargs):\n",
    "        start_time = time.time()\n",
    "        rlt = work(*args, **kwargs)\n",
    "        end_time = time.time()\n",
    "        \n",
    "        \n",
    "        print(f\"{work.__name__}가 실행되는데 걸린시간{end_time-start_time: .4f}\")\n",
    "        return rlt\n",
    "    return wrapper\n",
    "@check\n",
    "def slow_func(*args, **kwargs):\n",
    "    time.sleep(2)\n",
    "    print(\"시간 많이 걸리는 함수\")\n",
    "slow_func()"
   ]
  },
  {
   "cell_type": "code",
   "execution_count": 72,
   "id": "9fb99f93",
   "metadata": {},
   "outputs": [
    {
     "name": "stdout",
     "output_type": "stream",
     "text": [
      "호출된 add함수의 매개변수는(1, 2)입니다.\n"
     ]
    },
    {
     "data": {
      "text/plain": [
       "3"
      ]
     },
     "execution_count": 72,
     "metadata": {},
     "output_type": "execute_result"
    }
   ],
   "source": [
    "def log_make(work):\n",
    "    def wrapper(*args):\n",
    "        rlt = work(*args)\n",
    "        print(f\"호출된 {work.__name__}함수의 매개변수는{args}입니다.\")\n",
    "        return rlt\n",
    "    return wrapper\n",
    "\n",
    "@log_make\n",
    "def add(x, y):\n",
    "    return x + y\n",
    "\n",
    "\n",
    "add(1, 2)"
   ]
  },
  {
   "cell_type": "code",
   "execution_count": null,
   "id": "2ee540d3",
   "metadata": {},
   "outputs": [],
   "source": []
  },
  {
   "cell_type": "code",
   "execution_count": null,
   "id": "3554feca",
   "metadata": {},
   "outputs": [],
   "source": []
  },
  {
   "cell_type": "code",
   "execution_count": null,
   "id": "de2482c7",
   "metadata": {},
   "outputs": [],
   "source": []
  },
  {
   "cell_type": "code",
   "execution_count": null,
   "id": "41f2766d",
   "metadata": {},
   "outputs": [],
   "source": []
  }
 ],
 "metadata": {
  "kernelspec": {
   "display_name": "Python 3 (ipykernel)",
   "language": "python",
   "name": "python3"
  },
  "language_info": {
   "codemirror_mode": {
    "name": "ipython",
    "version": 3
   },
   "file_extension": ".py",
   "mimetype": "text/x-python",
   "name": "python",
   "nbconvert_exporter": "python",
   "pygments_lexer": "ipython3",
   "version": "3.11.5"
  }
 },
 "nbformat": 4,
 "nbformat_minor": 5
}
