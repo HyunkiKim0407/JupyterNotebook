{
 "cells": [
  {
   "cell_type": "code",
   "execution_count": 12,
   "id": "8a7ef620",
   "metadata": {},
   "outputs": [],
   "source": [
    "import re"
   ]
  },
  {
   "cell_type": "code",
   "execution_count": 13,
   "id": "032d5776",
   "metadata": {},
   "outputs": [
    {
     "data": {
      "text/plain": [
       "<re.Match object; span=(0, 4), match='Star'>"
      ]
     },
     "execution_count": 13,
     "metadata": {},
     "output_type": "execute_result"
    }
   ],
   "source": [
    "re.match('Star', 'Star, end!')"
   ]
  },
  {
   "cell_type": "code",
   "execution_count": 14,
   "id": "13a33826",
   "metadata": {},
   "outputs": [],
   "source": [
    "rlt = re.match('Star','Star, end!')"
   ]
  },
  {
   "cell_type": "code",
   "execution_count": 15,
   "id": "8205ef33",
   "metadata": {},
   "outputs": [
    {
     "data": {
      "text/plain": [
       "'Star'"
      ]
     },
     "execution_count": 15,
     "metadata": {},
     "output_type": "execute_result"
    }
   ],
   "source": [
    "rlt.group()"
   ]
  },
  {
   "cell_type": "code",
   "execution_count": 16,
   "id": "3254f41f",
   "metadata": {},
   "outputs": [
    {
     "data": {
      "text/plain": [
       "'Star'"
      ]
     },
     "execution_count": 16,
     "metadata": {},
     "output_type": "execute_result"
    }
   ],
   "source": [
    "re.match('Star','Star, end!').group()"
   ]
  },
  {
   "cell_type": "code",
   "execution_count": 17,
   "id": "4b481576",
   "metadata": {},
   "outputs": [
    {
     "data": {
      "text/plain": [
       "'ppp'"
      ]
     },
     "execution_count": 17,
     "metadata": {},
     "output_type": "execute_result"
    }
   ],
   "source": [
    "re.match('p{3}','ppppython').group()"
   ]
  },
  {
   "cell_type": "code",
   "execution_count": 29,
   "id": "6a745910",
   "metadata": {},
   "outputs": [
    {
     "ename": "error",
     "evalue": "unknown extension ?P  at position 1",
     "output_type": "error",
     "traceback": [
      "\u001b[0;31m---------------------------------------------------------------------------\u001b[0m",
      "\u001b[0;31merror\u001b[0m                                     Traceback (most recent call last)",
      "Cell \u001b[0;32mIn[29], line 1\u001b[0m\n\u001b[0;32m----> 1\u001b[0m me \u001b[38;5;241m=\u001b[39m re\u001b[38;5;241m.\u001b[39mmatch(\u001b[38;5;124m'\u001b[39m\u001b[38;5;124m(?P <func>[a-z A-Z_][a-zA-Z0-9_]+)\u001b[39m\u001b[38;5;124m'\u001b[39m, \u001b[38;5;124m'\u001b[39m\u001b[38;5;124m_python_\u001b[39m\u001b[38;5;124m'\u001b[39m)\n",
      "File \u001b[0;32m~/anaconda3/lib/python3.11/re/__init__.py:166\u001b[0m, in \u001b[0;36mmatch\u001b[0;34m(pattern, string, flags)\u001b[0m\n\u001b[1;32m    163\u001b[0m \u001b[38;5;28;01mdef\u001b[39;00m \u001b[38;5;21mmatch\u001b[39m(pattern, string, flags\u001b[38;5;241m=\u001b[39m\u001b[38;5;241m0\u001b[39m):\n\u001b[1;32m    164\u001b[0m \u001b[38;5;250m    \u001b[39m\u001b[38;5;124;03m\"\"\"Try to apply the pattern at the start of the string, returning\u001b[39;00m\n\u001b[1;32m    165\u001b[0m \u001b[38;5;124;03m    a Match object, or None if no match was found.\"\"\"\u001b[39;00m\n\u001b[0;32m--> 166\u001b[0m     \u001b[38;5;28;01mreturn\u001b[39;00m _compile(pattern, flags)\u001b[38;5;241m.\u001b[39mmatch(string)\n",
      "File \u001b[0;32m~/anaconda3/lib/python3.11/re/__init__.py:294\u001b[0m, in \u001b[0;36m_compile\u001b[0;34m(pattern, flags)\u001b[0m\n\u001b[1;32m    288\u001b[0m     \u001b[38;5;28;01mimport\u001b[39;00m \u001b[38;5;21;01mwarnings\u001b[39;00m\n\u001b[1;32m    289\u001b[0m     warnings\u001b[38;5;241m.\u001b[39mwarn(\u001b[38;5;124m\"\u001b[39m\u001b[38;5;124mThe re.TEMPLATE/re.T flag is deprecated \u001b[39m\u001b[38;5;124m\"\u001b[39m\n\u001b[1;32m    290\u001b[0m               \u001b[38;5;124m\"\u001b[39m\u001b[38;5;124mas it is an undocumented flag \u001b[39m\u001b[38;5;124m\"\u001b[39m\n\u001b[1;32m    291\u001b[0m               \u001b[38;5;124m\"\u001b[39m\u001b[38;5;124mwithout an obvious purpose. \u001b[39m\u001b[38;5;124m\"\u001b[39m\n\u001b[1;32m    292\u001b[0m               \u001b[38;5;124m\"\u001b[39m\u001b[38;5;124mDon\u001b[39m\u001b[38;5;124m'\u001b[39m\u001b[38;5;124mt use it.\u001b[39m\u001b[38;5;124m\"\u001b[39m,\n\u001b[1;32m    293\u001b[0m               \u001b[38;5;167;01mDeprecationWarning\u001b[39;00m)\n\u001b[0;32m--> 294\u001b[0m p \u001b[38;5;241m=\u001b[39m _compiler\u001b[38;5;241m.\u001b[39mcompile(pattern, flags)\n\u001b[1;32m    295\u001b[0m \u001b[38;5;28;01mif\u001b[39;00m \u001b[38;5;129;01mnot\u001b[39;00m (flags \u001b[38;5;241m&\u001b[39m DEBUG):\n\u001b[1;32m    296\u001b[0m     \u001b[38;5;28;01mif\u001b[39;00m \u001b[38;5;28mlen\u001b[39m(_cache) \u001b[38;5;241m>\u001b[39m\u001b[38;5;241m=\u001b[39m _MAXCACHE:\n\u001b[1;32m    297\u001b[0m         \u001b[38;5;66;03m# Drop the oldest item\u001b[39;00m\n",
      "File \u001b[0;32m~/anaconda3/lib/python3.11/re/_compiler.py:743\u001b[0m, in \u001b[0;36mcompile\u001b[0;34m(p, flags)\u001b[0m\n\u001b[1;32m    741\u001b[0m \u001b[38;5;28;01mif\u001b[39;00m isstring(p):\n\u001b[1;32m    742\u001b[0m     pattern \u001b[38;5;241m=\u001b[39m p\n\u001b[0;32m--> 743\u001b[0m     p \u001b[38;5;241m=\u001b[39m _parser\u001b[38;5;241m.\u001b[39mparse(p, flags)\n\u001b[1;32m    744\u001b[0m \u001b[38;5;28;01melse\u001b[39;00m:\n\u001b[1;32m    745\u001b[0m     pattern \u001b[38;5;241m=\u001b[39m \u001b[38;5;28;01mNone\u001b[39;00m\n",
      "File \u001b[0;32m~/anaconda3/lib/python3.11/re/_parser.py:982\u001b[0m, in \u001b[0;36mparse\u001b[0;34m(str, flags, state)\u001b[0m\n\u001b[1;32m    979\u001b[0m state\u001b[38;5;241m.\u001b[39mflags \u001b[38;5;241m=\u001b[39m flags\n\u001b[1;32m    980\u001b[0m state\u001b[38;5;241m.\u001b[39mstr \u001b[38;5;241m=\u001b[39m \u001b[38;5;28mstr\u001b[39m\n\u001b[0;32m--> 982\u001b[0m p \u001b[38;5;241m=\u001b[39m _parse_sub(source, state, flags \u001b[38;5;241m&\u001b[39m SRE_FLAG_VERBOSE, \u001b[38;5;241m0\u001b[39m)\n\u001b[1;32m    983\u001b[0m p\u001b[38;5;241m.\u001b[39mstate\u001b[38;5;241m.\u001b[39mflags \u001b[38;5;241m=\u001b[39m fix_flags(\u001b[38;5;28mstr\u001b[39m, p\u001b[38;5;241m.\u001b[39mstate\u001b[38;5;241m.\u001b[39mflags)\n\u001b[1;32m    985\u001b[0m \u001b[38;5;28;01mif\u001b[39;00m source\u001b[38;5;241m.\u001b[39mnext \u001b[38;5;129;01mis\u001b[39;00m \u001b[38;5;129;01mnot\u001b[39;00m \u001b[38;5;28;01mNone\u001b[39;00m:\n",
      "File \u001b[0;32m~/anaconda3/lib/python3.11/re/_parser.py:457\u001b[0m, in \u001b[0;36m_parse_sub\u001b[0;34m(source, state, verbose, nested)\u001b[0m\n\u001b[1;32m    455\u001b[0m start \u001b[38;5;241m=\u001b[39m source\u001b[38;5;241m.\u001b[39mtell()\n\u001b[1;32m    456\u001b[0m \u001b[38;5;28;01mwhile\u001b[39;00m \u001b[38;5;28;01mTrue\u001b[39;00m:\n\u001b[0;32m--> 457\u001b[0m     itemsappend(_parse(source, state, verbose, nested \u001b[38;5;241m+\u001b[39m \u001b[38;5;241m1\u001b[39m,\n\u001b[1;32m    458\u001b[0m                        \u001b[38;5;129;01mnot\u001b[39;00m nested \u001b[38;5;129;01mand\u001b[39;00m \u001b[38;5;129;01mnot\u001b[39;00m items))\n\u001b[1;32m    459\u001b[0m     \u001b[38;5;28;01mif\u001b[39;00m \u001b[38;5;129;01mnot\u001b[39;00m sourcematch(\u001b[38;5;124m\"\u001b[39m\u001b[38;5;124m|\u001b[39m\u001b[38;5;124m\"\u001b[39m):\n\u001b[1;32m    460\u001b[0m         \u001b[38;5;28;01mbreak\u001b[39;00m\n",
      "File \u001b[0;32m~/anaconda3/lib/python3.11/re/_parser.py:743\u001b[0m, in \u001b[0;36m_parse\u001b[0;34m(source, state, verbose, nested, first)\u001b[0m\n\u001b[1;32m    741\u001b[0m         \u001b[38;5;28;01mif\u001b[39;00m char \u001b[38;5;129;01mis\u001b[39;00m \u001b[38;5;28;01mNone\u001b[39;00m:\n\u001b[1;32m    742\u001b[0m             \u001b[38;5;28;01mraise\u001b[39;00m source\u001b[38;5;241m.\u001b[39merror(\u001b[38;5;124m\"\u001b[39m\u001b[38;5;124munexpected end of pattern\u001b[39m\u001b[38;5;124m\"\u001b[39m)\n\u001b[0;32m--> 743\u001b[0m         \u001b[38;5;28;01mraise\u001b[39;00m source\u001b[38;5;241m.\u001b[39merror(\u001b[38;5;124m\"\u001b[39m\u001b[38;5;124munknown extension ?P\u001b[39m\u001b[38;5;124m\"\u001b[39m \u001b[38;5;241m+\u001b[39m char,\n\u001b[1;32m    744\u001b[0m                            \u001b[38;5;28mlen\u001b[39m(char) \u001b[38;5;241m+\u001b[39m \u001b[38;5;241m2\u001b[39m)\n\u001b[1;32m    745\u001b[0m \u001b[38;5;28;01melif\u001b[39;00m char \u001b[38;5;241m==\u001b[39m \u001b[38;5;124m\"\u001b[39m\u001b[38;5;124m:\u001b[39m\u001b[38;5;124m\"\u001b[39m:\n\u001b[1;32m    746\u001b[0m     \u001b[38;5;66;03m# non-capturing group\u001b[39;00m\n\u001b[1;32m    747\u001b[0m     capture \u001b[38;5;241m=\u001b[39m \u001b[38;5;28;01mFalse\u001b[39;00m\n",
      "\u001b[0;31merror\u001b[0m: unknown extension ?P  at position 1"
     ]
    }
   ],
   "source": [
    "me = re.match('(?P <func>[a-z A-Z_][a-zA-Z0-9_]+)', '_python_')"
   ]
  },
  {
   "cell_type": "code",
   "execution_count": 28,
   "id": "a587c162",
   "metadata": {},
   "outputs": [
    {
     "data": {
      "text/plain": [
       "'01012345678'"
      ]
     },
     "execution_count": 28,
     "metadata": {},
     "output_type": "execute_result"
    }
   ],
   "source": [
    "tel = '010-1234-5678'\n",
    "re.sub('-', '', tel)"
   ]
  },
  {
   "cell_type": "code",
   "execution_count": 27,
   "id": "84214ece",
   "metadata": {},
   "outputs": [
    {
     "data": {
      "text/plain": [
       "' 화장실 변기 위험  '"
      ]
     },
     "execution_count": 27,
     "metadata": {},
     "output_type": "execute_result"
    }
   ],
   "source": [
    "string = ' 화장실 변기 위험  '\n",
    "re.sub(r'Ws+|Ws+$','',string)\n"
   ]
  },
  {
   "cell_type": "code",
   "execution_count": null,
   "id": "e4c734b6",
   "metadata": {},
   "outputs": [],
   "source": [
    "text = 'abc aaaa@damum.net info'\n",
    "\n",
    "re.findall"
   ]
  },
  {
   "cell_type": "code",
   "execution_count": null,
   "id": "df5790d6",
   "metadata": {},
   "outputs": [],
   "source": [
    "#예외처리 - 에러(error), 예외(exception)"
   ]
  },
  {
   "cell_type": "code",
   "execution_count": 33,
   "id": "d0b7ce2f",
   "metadata": {},
   "outputs": [
    {
     "ename": "ZeroDivisionError",
     "evalue": "division by zero",
     "output_type": "error",
     "traceback": [
      "\u001b[0;31m---------------------------------------------------------------------------\u001b[0m",
      "\u001b[0;31mZeroDivisionError\u001b[0m                         Traceback (most recent call last)",
      "Cell \u001b[0;32mIn[33], line 2\u001b[0m\n\u001b[1;32m      1\u001b[0m lst \u001b[38;5;241m=\u001b[39m [\u001b[38;5;241m1\u001b[39m, \u001b[38;5;241m2\u001b[39m, \u001b[38;5;241m3\u001b[39m]\n\u001b[0;32m----> 2\u001b[0m lst[\u001b[38;5;241m0\u001b[39m]\u001b[38;5;241m/\u001b[39m\u001b[38;5;241m0\u001b[39m\n",
      "\u001b[0;31mZeroDivisionError\u001b[0m: division by zero"
     ]
    }
   ],
   "source": [
    "lst = [1, 2, 3]\n",
    "lst[0]/0 # 1 / 0"
   ]
  },
  {
   "cell_type": "code",
   "execution_count": 34,
   "id": "8f157b67",
   "metadata": {},
   "outputs": [
    {
     "name": "stdout",
     "output_type": "stream",
     "text": [
      "예외발생\n"
     ]
    }
   ],
   "source": [
    "lst = [1, 2, 3]\n",
    "try:\n",
    "    lst[0]/0 # 1 / 0\n",
    "except:\n",
    "    print(\"예외발생\")"
   ]
  },
  {
   "cell_type": "code",
   "execution_count": 37,
   "id": "335f02a2",
   "metadata": {},
   "outputs": [
    {
     "name": "stdout",
     "output_type": "stream",
     "text": [
      "예외발생 division by zero\n"
     ]
    }
   ],
   "source": [
    "lst = [1, 2, 3]\n",
    "try:\n",
    "    lst[0]/0 # 1 / 0\n",
    "except ZeroDivisionError as e:\n",
    "    print(\"예외발생\", e)"
   ]
  },
  {
   "cell_type": "code",
   "execution_count": 41,
   "id": "b6a90747",
   "metadata": {},
   "outputs": [
    {
     "name": "stdout",
     "output_type": "stream",
     "text": [
      "list index out of range\n"
     ]
    }
   ],
   "source": [
    "lst = [1, 2, 3]\n",
    "try:\n",
    "    lst[3]/0 # 1 / 0\n",
    "    print(\"여러가지 일들\")\n",
    "except ZeroDivisionError as e:\n",
    "    print(\"예외발생\", e)\n",
    "except IndexError as e:\n",
    "    print(e)"
   ]
  },
  {
   "cell_type": "code",
   "execution_count": 43,
   "id": "bc492788",
   "metadata": {},
   "outputs": [
    {
     "name": "stdout",
     "output_type": "stream",
     "text": [
      "여러가지 일들\n",
      "None\n"
     ]
    }
   ],
   "source": [
    "lst = [1, 2, 3]\n",
    "try:\n",
    "    lst[2]/2 # 1 / 0\n",
    "    print(\"여러가지 일들\")\n",
    "except ZeroDivisionError as e:\n",
    "    print(\"예외발생\", e)\n",
    "except IndexError as e:\n",
    "    print(e)\n",
    "else:\n",
    "    print(\"None\")\n"
   ]
  },
  {
   "cell_type": "code",
   "execution_count": 44,
   "id": "788d7f49",
   "metadata": {},
   "outputs": [
    {
     "name": "stdout",
     "output_type": "stream",
     "text": [
      "여러가지 일들\n",
      "None\n",
      "무조건\n"
     ]
    }
   ],
   "source": [
    "lst = [1, 2, 3]\n",
    "try:\n",
    "    lst[2]/2 # 1 / 0\n",
    "    print(\"여러가지 일들\")\n",
    "except ZeroDivisionError as e:\n",
    "    print(\"예외발생\", e)\n",
    "except IndexError as e:\n",
    "    print(e)\n",
    "else:\n",
    "    print(\"None\")\n",
    "finally:\n",
    "    print(\"무조건\")"
   ]
  },
  {
   "cell_type": "code",
   "execution_count": 47,
   "id": "1adc15cb",
   "metadata": {},
   "outputs": [
    {
     "name": "stdout",
     "output_type": "stream",
     "text": [
      "사용자 예외\n"
     ]
    }
   ],
   "source": [
    "try:\n",
    "    if True:\n",
    "        raise Exception(\"사용자 예외\")\n",
    "except Exception as e:\n",
    "    print(e)"
   ]
  },
  {
   "cell_type": "code",
   "execution_count": 49,
   "id": "3539b2c0",
   "metadata": {},
   "outputs": [
    {
     "name": "stdout",
     "output_type": "stream",
     "text": [
      "함수를 콜한쪽으로 예외를 던짐\n"
     ]
    }
   ],
   "source": [
    "def make_exception():\n",
    "    if True:\n",
    "        raise Exception(\"함수를 콜한쪽으로 예외를 던짐\")\n",
    "try:\n",
    "    make_exception()\n",
    "except Exception as e:\n",
    "    print(e)"
   ]
  },
  {
   "cell_type": "code",
   "execution_count": 54,
   "id": "a757a129",
   "metadata": {},
   "outputs": [
    {
     "name": "stdout",
     "output_type": "stream",
     "text": [
      "함수 내부 예외 함수를 콜한쪽으로 예외를 던짐\n",
      "함수에서 넘어온 예외 함수를 콜한쪽으로 예외를 던짐\n"
     ]
    }
   ],
   "source": [
    "def make_exception():\n",
    "    try:\n",
    "        if True:\n",
    "            raise Exception(\"함수를 콜한쪽으로 예외를 던짐\")\n",
    "    except Exception as e:\n",
    "        print(\"함수 내부 예외\", e)\n",
    "        raise\n",
    "try:\n",
    "    make_exception()\n",
    "except Exception as e:\n",
    "    print(\"함수에서 넘어온 예외\", e)"
   ]
  },
  {
   "cell_type": "code",
   "execution_count": 55,
   "id": "20c312f9",
   "metadata": {},
   "outputs": [
    {
     "name": "stdout",
     "output_type": "stream",
     "text": [
      "함수 내부 예외 함수를 콜한쪽으로 예외를 던짐\n",
      "함수에서 넘어온 예외 새롭게 던진 예외\n"
     ]
    }
   ],
   "source": [
    "def make_exception():\n",
    "    try:\n",
    "        if True:\n",
    "            raise Exception(\"함수를 콜한쪽으로 예외를 던짐\")\n",
    "    except Exception as e:\n",
    "        print(\"함수 내부 예외\", e)\n",
    "        raise RuntimeError('새롭게 던진 예외')\n",
    "try:\n",
    "    make_exception()\n",
    "except Exception as e:\n",
    "    print(\"함수에서 넘어온 예외\", e)"
   ]
  },
  {
   "cell_type": "code",
   "execution_count": 56,
   "id": "b85929cb",
   "metadata": {},
   "outputs": [
    {
     "name": "stdout",
     "output_type": "stream",
     "text": [
      "\n"
     ]
    }
   ],
   "source": [
    "lst = [1,2,3]\n",
    "try:\n",
    "    lst[0]/0\n",
    "except Exception as e:\n",
    "    print(\"\")"
   ]
  },
  {
   "cell_type": "code",
   "execution_count": 57,
   "id": "b800df8f",
   "metadata": {
    "scrolled": true
   },
   "outputs": [
    {
     "name": "stdout",
     "output_type": "stream",
     "text": [
      "함수 내부 예외 my_exept\n"
     ]
    }
   ],
   "source": [
    "class my_except(Exception):\n",
    "    def __init__(self):\n",
    "        super().__init__('my_exept')\n",
    "\n",
    "\n",
    "def make_exception():\n",
    "    try:\n",
    "        if True:\n",
    "            raise my_except\n",
    "    except Exception as e:\n",
    "        print(\"함수 내부 예외\", e)\n",
    "make_exception()"
   ]
  },
  {
   "cell_type": "code",
   "execution_count": 7,
   "id": "71ccdf8f",
   "metadata": {},
   "outputs": [],
   "source": [
    "import pandas as pd \n",
    "df = pd.read_excel('1.병원정보서비스.xlsx')"
   ]
  },
  {
   "cell_type": "code",
   "execution_count": 8,
   "id": "d80ae640",
   "metadata": {},
   "outputs": [],
   "source": [
    "import csv\n",
    "df.to_csv('2.병원정보서비스.csv')"
   ]
  },
  {
   "cell_type": "code",
   "execution_count": 9,
   "id": "25eebf23",
   "metadata": {},
   "outputs": [
    {
     "name": "stdout",
     "output_type": "stream",
     "text": [
      "<class 'pandas.core.frame.DataFrame'>\n",
      "RangeIndex: 77001 entries, 0 to 77000\n",
      "Data columns (total 31 columns):\n",
      " #   Column      Non-Null Count  Dtype  \n",
      "---  ------      --------------  -----  \n",
      " 0   Unnamed: 0  77001 non-null  int64  \n",
      " 1   암호화요양기호     77001 non-null  object \n",
      " 2   요양기관명       77001 non-null  object \n",
      " 3   종별코드        77001 non-null  int64  \n",
      " 4   종별코드명       77001 non-null  object \n",
      " 5   시도코드        77001 non-null  int64  \n",
      " 6   시도코드명       77001 non-null  object \n",
      " 7   시군구코드       77001 non-null  int64  \n",
      " 8   시군구코드명      77001 non-null  object \n",
      " 9   읍면동         25513 non-null  object \n",
      " 10  우편번호        77001 non-null  int64  \n",
      " 11  주소          77001 non-null  object \n",
      " 12  전화번호        76597 non-null  object \n",
      " 13  병원홈페이지      0 non-null      float64\n",
      " 14  개설일자        76986 non-null  float64\n",
      " 15  총의사수        77001 non-null  int64  \n",
      " 16  의과일반의 인원수   77001 non-null  int64  \n",
      " 17  의과인턴 인원수    77001 non-null  int64  \n",
      " 18  의과레지던트 인원수  77001 non-null  int64  \n",
      " 19  의과전문의 인원수   77001 non-null  int64  \n",
      " 20  치과일반의 인원수   77001 non-null  int64  \n",
      " 21  치과인턴 인원수    77001 non-null  int64  \n",
      " 22  치과레지던트 인원수  77001 non-null  int64  \n",
      " 23  치과전문의 인원수   77001 non-null  int64  \n",
      " 24  한방일반의 인원수   77001 non-null  int64  \n",
      " 25  한방인턴 인원수    77001 non-null  int64  \n",
      " 26  한방레지던트 인원수  77001 non-null  int64  \n",
      " 27  한방전문의 인원수   77001 non-null  int64  \n",
      " 28  조산사 인원수     77001 non-null  int64  \n",
      " 29  좌표(X)       76484 non-null  float64\n",
      " 30  좌표(Y)       76484 non-null  float64\n",
      "dtypes: float64(4), int64(19), object(8)\n",
      "memory usage: 18.2+ MB\n"
     ]
    }
   ],
   "source": [
    "df2 = pd.read_csv('2.병원정보서비스.csv')\n",
    "df2.info()"
   ]
  },
  {
   "cell_type": "code",
   "execution_count": 10,
   "id": "e9e519f8",
   "metadata": {
    "scrolled": true
   },
   "outputs": [
    {
     "name": "stdout",
     "output_type": "stream",
     "text": [
      "<class 'pandas.core.frame.DataFrame'>\n",
      "RangeIndex: 77001 entries, 0 to 77000\n",
      "Data columns (total 30 columns):\n",
      " #   Column      Non-Null Count  Dtype  \n",
      "---  ------      --------------  -----  \n",
      " 0   암호화요양기호     77001 non-null  object \n",
      " 1   요양기관명       77001 non-null  object \n",
      " 2   종별코드        77001 non-null  int64  \n",
      " 3   종별코드명       77001 non-null  object \n",
      " 4   시도코드        77001 non-null  int64  \n",
      " 5   시도코드명       77001 non-null  object \n",
      " 6   시군구코드       77001 non-null  int64  \n",
      " 7   시군구코드명      77001 non-null  object \n",
      " 8   읍면동         25513 non-null  object \n",
      " 9   우편번호        77001 non-null  int64  \n",
      " 10  주소          77001 non-null  object \n",
      " 11  전화번호        76597 non-null  object \n",
      " 12  병원홈페이지      0 non-null      float64\n",
      " 13  개설일자        76986 non-null  float64\n",
      " 14  총의사수        77001 non-null  int64  \n",
      " 15  의과일반의 인원수   77001 non-null  int64  \n",
      " 16  의과인턴 인원수    77001 non-null  int64  \n",
      " 17  의과레지던트 인원수  77001 non-null  int64  \n",
      " 18  의과전문의 인원수   77001 non-null  int64  \n",
      " 19  치과일반의 인원수   77001 non-null  int64  \n",
      " 20  치과인턴 인원수    77001 non-null  int64  \n",
      " 21  치과레지던트 인원수  77001 non-null  int64  \n",
      " 22  치과전문의 인원수   77001 non-null  int64  \n",
      " 23  한방일반의 인원수   77001 non-null  int64  \n",
      " 24  한방인턴 인원수    77001 non-null  int64  \n",
      " 25  한방레지던트 인원수  77001 non-null  int64  \n",
      " 26  한방전문의 인원수   77001 non-null  int64  \n",
      " 27  조산사 인원수     77001 non-null  int64  \n",
      " 28  좌표(X)       76484 non-null  float64\n",
      " 29  좌표(Y)       76484 non-null  float64\n",
      "dtypes: float64(4), int64(18), object(8)\n",
      "memory usage: 17.6+ MB\n"
     ]
    },
    {
     "data": {
      "text/html": [
       "<div>\n",
       "<style scoped>\n",
       "    .dataframe tbody tr th:only-of-type {\n",
       "        vertical-align: middle;\n",
       "    }\n",
       "\n",
       "    .dataframe tbody tr th {\n",
       "        vertical-align: top;\n",
       "    }\n",
       "\n",
       "    .dataframe thead th {\n",
       "        text-align: right;\n",
       "    }\n",
       "</style>\n",
       "<table border=\"1\" class=\"dataframe\">\n",
       "  <thead>\n",
       "    <tr style=\"text-align: right;\">\n",
       "      <th></th>\n",
       "      <th>암호화요양기호</th>\n",
       "      <th>요양기관명</th>\n",
       "      <th>종별코드</th>\n",
       "      <th>종별코드명</th>\n",
       "      <th>시도코드</th>\n",
       "      <th>시도코드명</th>\n",
       "      <th>시군구코드</th>\n",
       "      <th>시군구코드명</th>\n",
       "      <th>읍면동</th>\n",
       "      <th>우편번호</th>\n",
       "      <th>...</th>\n",
       "      <th>치과인턴 인원수</th>\n",
       "      <th>치과레지던트 인원수</th>\n",
       "      <th>치과전문의 인원수</th>\n",
       "      <th>한방일반의 인원수</th>\n",
       "      <th>한방인턴 인원수</th>\n",
       "      <th>한방레지던트 인원수</th>\n",
       "      <th>한방전문의 인원수</th>\n",
       "      <th>조산사 인원수</th>\n",
       "      <th>좌표(X)</th>\n",
       "      <th>좌표(Y)</th>\n",
       "    </tr>\n",
       "  </thead>\n",
       "  <tbody>\n",
       "    <tr>\n",
       "      <th>0</th>\n",
       "      <td>JDQ4MTYyMiM1MSMkMSMkMCMkODkkMzgxMzUxIzExIyQxIy...</td>\n",
       "      <td>가톨릭대학교인천성모병원</td>\n",
       "      <td>1</td>\n",
       "      <td>상급종합</td>\n",
       "      <td>220000</td>\n",
       "      <td>인천</td>\n",
       "      <td>220003</td>\n",
       "      <td>인천부평구</td>\n",
       "      <td>부평동</td>\n",
       "      <td>21431</td>\n",
       "      <td>...</td>\n",
       "      <td>0</td>\n",
       "      <td>0</td>\n",
       "      <td>2</td>\n",
       "      <td>0</td>\n",
       "      <td>0</td>\n",
       "      <td>0</td>\n",
       "      <td>0</td>\n",
       "      <td>0</td>\n",
       "      <td>126.724899</td>\n",
       "      <td>37.484831</td>\n",
       "    </tr>\n",
       "    <tr>\n",
       "      <th>1</th>\n",
       "      <td>JDQ4MTYyMiM1MSMkMSMkNCMkODkkMzgxMzUxIzExIyQxIy...</td>\n",
       "      <td>강릉아산병원</td>\n",
       "      <td>1</td>\n",
       "      <td>상급종합</td>\n",
       "      <td>320000</td>\n",
       "      <td>강원</td>\n",
       "      <td>320100</td>\n",
       "      <td>강릉시</td>\n",
       "      <td>NaN</td>\n",
       "      <td>25440</td>\n",
       "      <td>...</td>\n",
       "      <td>0</td>\n",
       "      <td>0</td>\n",
       "      <td>2</td>\n",
       "      <td>0</td>\n",
       "      <td>0</td>\n",
       "      <td>0</td>\n",
       "      <td>0</td>\n",
       "      <td>0</td>\n",
       "      <td>128.857841</td>\n",
       "      <td>37.818433</td>\n",
       "    </tr>\n",
       "  </tbody>\n",
       "</table>\n",
       "<p>2 rows × 30 columns</p>\n",
       "</div>"
      ],
      "text/plain": [
       "                                             암호화요양기호         요양기관명  종별코드  \\\n",
       "0  JDQ4MTYyMiM1MSMkMSMkMCMkODkkMzgxMzUxIzExIyQxIy...  가톨릭대학교인천성모병원     1   \n",
       "1  JDQ4MTYyMiM1MSMkMSMkNCMkODkkMzgxMzUxIzExIyQxIy...        강릉아산병원     1   \n",
       "\n",
       "  종별코드명    시도코드 시도코드명   시군구코드 시군구코드명  읍면동   우편번호  ... 치과인턴 인원수 치과레지던트 인원수  \\\n",
       "0  상급종합  220000    인천  220003  인천부평구  부평동  21431  ...        0          0   \n",
       "1  상급종합  320000    강원  320100    강릉시  NaN  25440  ...        0          0   \n",
       "\n",
       "   치과전문의 인원수  한방일반의 인원수  한방인턴 인원수  한방레지던트 인원수  한방전문의 인원수  조산사 인원수       좌표(X)  \\\n",
       "0          2          0         0           0          0        0  126.724899   \n",
       "1          2          0         0           0          0        0  128.857841   \n",
       "\n",
       "       좌표(Y)  \n",
       "0  37.484831  \n",
       "1  37.818433  \n",
       "\n",
       "[2 rows x 30 columns]"
      ]
     },
     "execution_count": 10,
     "metadata": {},
     "output_type": "execute_result"
    }
   ],
   "source": [
    "df.info()\n",
    "df.head(2)"
   ]
  },
  {
   "cell_type": "code",
   "execution_count": 11,
   "id": "2c7e29cb",
   "metadata": {},
   "outputs": [],
   "source": [
    "import csv\n",
    "df.to_csv('2.병원정보서비스.csv', index = False)"
   ]
  },
  {
   "cell_type": "code",
   "execution_count": 12,
   "id": "031fbc2a",
   "metadata": {},
   "outputs": [],
   "source": [
    "# import csv\n",
    "# df.to_csv('3.병원정보서비스.csv')"
   ]
  },
  {
   "cell_type": "code",
   "execution_count": 13,
   "id": "6cf8ae7b",
   "metadata": {},
   "outputs": [
    {
     "name": "stdout",
     "output_type": "stream",
     "text": [
      "암호화요양기호\n",
      "요양기관명\n"
     ]
    }
   ],
   "source": [
    "df2 = pd.read_csv('2.병원정보서비스.csv')\n",
    "\n",
    "for i, row in enumerate(df2):\n",
    "    if i < 2:\n",
    "        print(row)"
   ]
  },
  {
   "cell_type": "code",
   "execution_count": 29,
   "id": "46c2035d",
   "metadata": {},
   "outputs": [
    {
     "name": "stdout",
     "output_type": "stream",
     "text": [
      "['JDQ4MTYyMiM1MSMkMSMkMCMkODkkMzgxMzUxIzExIyQxIyQzIyQ3OSQyNjE4MzIjNDEjJDEjJDgjJDgz', '가톨릭대학교인천성모병원', '1', '상급종합', '220000', '인천', '220003', '인천부평구', '부평동', '21431', '인천광역시 부평구 동수로 56, (부평동)', '032-1544-9004', '', '19810806.0', '342', '0', '23', '69', '247', '1', '0', '0', '2', '0', '0', '0', '0', '0', '126.7248987', '37.4848309']\n",
      "['JDQ4MTYyMiM1MSMkMSMkNCMkODkkMzgxMzUxIzExIyQxIyQzIyQ4OSQ0NjEwMDIjNDEjJDEjJDgjJDgz', '강릉아산병원', '1', '상급종합', '320000', '강원', '320100', '강릉시', '', '25440', '강원특별자치도 강릉시 사천면 방동길 38, ()', '033-610-3114', '', '19960730.0', '193', '2', '0', '34', '155', '0', '0', '0', '2', '0', '0', '0', '0', '0', '128.8578411', '37.8184325']\n"
     ]
    }
   ],
   "source": [
    "df2 = pd.read_csv('2.병원정보서비스.csv')\n",
    "import csv\n",
    "import pandas\n",
    "\n",
    "with open('2.병원정보서비스.csv', 'r', encoding = 'utf-8')as f:\n",
    "    rdr = csv.reader(f)\n",
    "    view = next(rdr)\n",
    "   # print(view)\n",
    "    # df3 = pd.DataFrame(rdr)\n",
    "    \n",
    "    for i ,row in enumerate(rdr):\n",
    "        if i < 2:\n",
    "            print(row)\n",
    "        else:\n",
    "            break"
   ]
  },
  {
   "cell_type": "code",
   "execution_count": 68,
   "id": "a55b9598",
   "metadata": {},
   "outputs": [],
   "source": [
    "i_file = '2.병원정보서비스.csv'\n",
    "o_file = '3.병원정보서비스_filter.csv'\n",
    "select_columns = [1,3,7,10,11,12,13,14,28,29]\n",
    "with open(i_file, 'r', newline = '')as rf, open(o_file, 'w', newline = '')as wf:\n",
    "    csv_r = csv.reader(rf)\n",
    "    csv_w = csv.writer(wf)\n",
    "    header = next(csv_r)\n",
    "    select_head = [header[i] for i in select_columns]\n",
    "    csv_w.writerow(select_head)\n",
    "    \n",
    "    for row in csv_r:\n",
    "        s_data = [row[i] for i in select_columns]\n",
    "        csv_w.writerow(s_data)\n"
   ]
  },
  {
   "cell_type": "code",
   "execution_count": 69,
   "id": "bf553f7d",
   "metadata": {},
   "outputs": [
    {
     "name": "stdout",
     "output_type": "stream",
     "text": [
      "['충주성모안과의원', '의원', '충주시', '충청북도 충주시 중앙로 33, (문화동)', '043-848-6733', '', '19951208.0', '6', '127.9269676', '36.9731481']\n"
     ]
    }
   ],
   "source": [
    "read_file = '3.병원정보서비스_filter.csv'\n",
    "with open(read_file, 'r')as f:\n",
    "    rdr = csv.reader(f)\n",
    "    for lst in rdr:\n",
    "        if lst[0] == '충주성모안과의원':\n",
    "            print(lst)"
   ]
  },
  {
   "cell_type": "code",
   "execution_count": 70,
   "id": "f8a9acf9",
   "metadata": {},
   "outputs": [
    {
     "name": "stdout",
     "output_type": "stream",
     "text": [
      "['Dr리더스내과의원', '의원', '파주시', '경기도 파주시 미래로 369-13, 503호 (동패동, 한울프라자)', '031-957-7517', '', '20091005.0', '2', '126.7453112', '37.7110603']\n",
      "['연세위드윤정신건강의학과의원', '의원', '파주시', '경기도 파주시 미래로 369-13, 한울프라자 303호 (동패동)', '031-942-5775', '', '20180315.0', '1', '126.7453112', '37.7110603']\n",
      "['함소아한의원', '한의원', '파주시', '경기도 파주시 미래로 369-13, 한울프라자 603호 (동패동)', '031-941-1065', '', '20140219.0', '1', '126.7453112', '37.7110603']\n"
     ]
    }
   ],
   "source": [
    "#파주시 한울프라자 건물에 입점된 병원\n",
    "read_file = '3.병원정보서비스_filter.csv'\n",
    "with open(read_file, 'r')as f:\n",
    "    rdr = csv.reader(f)\n",
    "    for lst in rdr:\n",
    "        if '파주시' in lst[2] and '한울프라자' in lst[3]:\n",
    "            print(lst)"
   ]
  },
  {
   "cell_type": "code",
   "execution_count": 71,
   "id": "d00e68da",
   "metadata": {},
   "outputs": [
    {
     "name": "stdout",
     "output_type": "stream",
     "text": [
      "['숨쉬는한의원', '한의원', '용인수지구', '경기도 용인시 수지구 풍덕천로 119, 301호 (풍덕천동, 로얄스포츠센터)', '031-896-7171', '', '20050706.0', '1', '127.09494', '37.3230615']\n"
     ]
    }
   ],
   "source": [
    "read_file = '3.병원정보서비스_filter.csv'\n",
    "with open(read_file, 'r')as f:\n",
    "    rdr = csv.reader(f)\n",
    "    for lst in rdr:\n",
    "        if '한의원'in lst[1] and '수지구' in lst[2] and '로얄스포츠' in lst[3]:\n",
    "            print(lst)"
   ]
  },
  {
   "cell_type": "code",
   "execution_count": 72,
   "id": "8507d6b3",
   "metadata": {},
   "outputs": [
    {
     "ename": "SyntaxError",
     "evalue": "invalid syntax (2389380145.py, line 3)",
     "output_type": "error",
     "traceback": [
      "\u001b[0;36m  Cell \u001b[0;32mIn[72], line 3\u001b[0;36m\u001b[0m\n\u001b[0;31m    hh. = csv.reader(f)\u001b[0m\n\u001b[0m        ^\u001b[0m\n\u001b[0;31mSyntaxError\u001b[0m\u001b[0;31m:\u001b[0m invalid syntax\n"
     ]
    }
   ],
   "source": [
    "read_file = '3.병원정보서비스_filter.csv'\n",
    "with open(read_file, 'r')as f:\n",
    "    hh. = csv.reader(f)\n",
    "    for lst in rdr:\n",
    "        if '한의원'in lst[1] and '수지구' in lst[2] and '로얄스포츠' in lst[3]:\n",
    "            print(lst)"
   ]
  },
  {
   "cell_type": "code",
   "execution_count": 73,
   "id": "57dede1f",
   "metadata": {},
   "outputs": [
    {
     "name": "stdout",
     "output_type": "stream",
     "text": [
      "1 고려가정의학과의원 강원특별자치도 강릉시 성덕포남로 75, 2층 (입암동)\n",
      "2 김영돈내과의원 강원특별자치도 강릉시 선수촌로 77, 송원빌딩 5층 501, 502호 (홍제동)\n",
      "3 바로그의원 강원특별자치도 강릉시 경강로 2090-1, 3,4,5층 (임당동)\n",
      "4 성모솔정신건강의학과의원 강원특별자치도 강릉시 경강로 2102, 2층 202호 (임당동)\n",
      "5 온산부인과의원 강원특별자치도 강릉시 솔올로5번길 55, 4층 401호 (교동)\n",
      "6 우주 가정의학과 의원 강원특별자치도 강릉시 솔올로5번길 40-4, 2층 (교동)\n",
      "7 닥터준치과교정과치과의원 강원특별자치도 강릉시 솔올로5번길 40-1, 3층 (교동)\n",
      "8 서울마음치과의원 강원특별자치도 강릉시 주문진읍 오동나무길 1, 2층\n",
      "9 강릉애아토한의원 강원특별자치도 강릉시 경강로2356번길 2, 2층 (포남동)\n",
      "10 서울한의원 강원특별자치도 강릉시 솔올로5번길 52, 2층 (교동)\n",
      "병원 : 272\n",
      "최근1년10\n"
     ]
    }
   ],
   "source": [
    "read_file = '3.병원정보서비스_filter.csv'\n",
    "with open(read_file, 'r')as f:\n",
    "    rdr = csv.reader(f)\n",
    "    count = 0\n",
    "    recent = 0\n",
    "    for line in rdr:\n",
    "        if '강릉시' in line[2]:\n",
    "            count += 1\n",
    "            if(float(line[6]) > 20220101):\n",
    "                recent += 1\n",
    "                print(recent, line[0], line[3], sep = ' ')\n",
    "    print('병원 : %d' %count)\n",
    "    print('최근1년{}'.format(recent))"
   ]
  },
  {
   "cell_type": "code",
   "execution_count": 79,
   "id": "55cded9c",
   "metadata": {},
   "outputs": [
    {
     "name": "stdout",
     "output_type": "stream",
     "text": [
      "1 . 제주푸른병원 . 제주특별자치도 제주시 조천읍 번영로 957, () . 20230215.0\n",
      "2 . 드림힐 요양병원 . 제주특별자치도 제주시 조천읍 번영로 957, () . 20220919.0\n",
      "3 . 제주하늘의료소비자생활협동조합하나요양병원 . 제주특별자치도 제주시 서사로 40, 3,5,6층 (삼도일동) . 20220328.0\n",
      "4 . 의료법인 연강의료재단 연강참병원 . 제주특별자치도 제주시 서광로 175, 아세아빌딩  B-101,301,401,501호 (용담일동) . 20221028.0\n",
      "5 . (재)서울의과학연구소에스씨엘(SCL)제주의원 . 제주특별자치도 제주시 도근내길 57-11, (내도동) . 20211222.0\n",
      "6 . (재)한국의학연구소 제주의원 . 제주특별자치도 서귀포시 솔오름로 61, 제주헬스케어타운 의료서비스센터 1~2층 (동홍동) . 20230213.0\n",
      "7 . 강골정형외과의원 . 제주특별자치도 제주시 서광로 272, 3,4층 (도남동) . 20220615.0\n",
      "8 . 강남마디척의원 . 제주특별자치도 서귀포시 신서로48번길 52, 4층 (법환동) . 20210720.0\n",
      "9 . 강남정형외과의원 . 제주특별자치도 서귀포시 대정읍 신영로 75, 3층 . 20221018.0\n",
      "10 . 강주현피부과의원 . 제주특별자치도 제주시 건주로 27, 3층 (도련일동) . 20220106.0\n",
      "11 . 건강한한림연합내과의원 . 제주특별자치도 제주시 한림읍 한림중앙로 71, 2층 . 20210823.0\n",
      "12 . 고든비뇨의학과의원 . 제주특별자치도 제주시 도령로 76, 5층 (연동) . 20200915.0\n",
      "13 . 고은미(美)의원 . 제주특별자치도 서귀포시 일주동로 8707, 위너스빌딩 2층 (서귀동) . 20191223.0\n",
      "14 . 국가대표정형외과의원 . 제주특별자치도 제주시 1100로 3321, 지1층, 1층 (노형동) . 20210825.0\n",
      "15 . 권대헌내과의원 . 제주특별자치도 제주시 노형로 386, 4층 (노형동) . 20220324.0\n",
      "16 . 기쁨여성의원 . 제주특별자치도 제주시 노형로 378, 6층 (노형동) . 20230522.0\n",
      "17 . 나우메디의원 . 제주특별자치도 제주시 연북로 511, 에이플렉스 3층 (아라일동) . 20220621.0\n",
      "18 . 대한결핵협회 제주특별자치도지부 복십자의원 . 제주특별자치도 제주시 연북로 274, 1층 (오라이동) . 20230816.0\n",
      "19 . 더리프트의원 . 제주특별자치도 제주시 과원로 110, 2층 201호 (연동) . 20230207.0\n",
      "20 . 더유니콘의원 . 제주특별자치도 제주시 1100로 3323, 4층 (노형동) . 20230425.0\n",
      "21 . 더이음정신건강의학과의원 . 제주특별자치도 제주시 중앙로 299, 402호 (이도이동) . 20230501.0\n",
      "22 . 더자란 소아청소년과의원 . 제주특별자치도 제주시 연북로 556, 2층 (아라일동) . 20221028.0\n",
      "23 . 드림통증의원 . 제주특별자치도 서귀포시 남원읍 태위로 629, 참사랑의원 . 20220719.0\n",
      "24 . 땡큐베리마취통증의학과의원 . 제주특별자치도 제주시 중앙로 352, 오현타워 2층 (이도이동) . 20230224.0\n",
      "25 . 맨투맨남성의원 . 제주특별자치도 제주시 도령로 7, 금성빌딩 3층 (노형동) . 20221011.0\n",
      "26 . 바움소아청소년과의원 . 제주특별자치도 서귀포시 월드컵로 8, 4층 401호 (강정동) . 20230517.0\n",
      "27 . 배진성마취통증의학과의원 . 제주특별자치도 제주시 우정로15길 5, 5층 (외도일동) . 20200131.0\n",
      "28 . 밸런스웰가의원 . 제주특별자치도 제주시 동광로 90, 2,3층 (이도이동) . 20221130.0\n",
      "29 . 봉개영웅의원 . 제주특별자치도 제주시 번영로 500, 2층 (봉개동) . 20220125.0\n",
      "30 . 블리비의원 . 제주특별자치도 제주시 노형로 407, 노형타워 2층 201호 (노형동) . 20230925.0\n",
      "31 . 비바체성형외과의원 . 제주특별자치도 제주시 중앙로 302, 더스프링빌딩 2층 (이도이동) . 20200820.0\n",
      "32 . 삼성드림소아청소년과의원 . 제주특별자치도 제주시 동광로 120, 3층층 (일도이동) . 20200916.0\n",
      "33 . 삼성서울정형외과의원 . 제주특별자치도 제주시 노형로 386, 3층 (노형동) . 20211018.0\n",
      "34 . 생생가정의학과의원 . 제주특별자치도 서귀포시 안덕면 화순로 132, 3층 . 20230126.0\n",
      "35 . 서귀포중앙정형외과의원 . 제주특별자치도 서귀포시 일주동로 8666, 삼강빌딩 2층 (동홍동) . 20220311.0\n",
      "36 . 서울뉴라인의원 . 제주특별자치도 제주시 월랑로 3, 3층 (노형동) . 20230727.0\n",
      "37 . 서울삼성내과의원 . 제주특별자치도 제주시 애월읍 하광로 12, 2층 201~204호 . 20230608.0\n",
      "38 . 서울성모재활의학과의원 . 제주특별자치도 서귀포시 동문로 5, 1층 (서귀동) . 20210826.0\n",
      "39 . 서울아산내과의원 . 제주특별자치도 제주시 연북로 511, 에이플렉스 4층 (아라일동) . 20220919.0\n",
      "40 . 서울아산신경외과의원 . 제주특별자치도 제주시 서광로 301, 2층 (이도일동) . 20210426.0\n",
      "41 . 서울아산정형외과의원 . 제주특별자치도 제주시 조천읍 함덕13길 1, 2층 . 20220224.0\n",
      "42 . 서울의원 . 제주특별자치도 서귀포시 일주동로 8610, 3층 (동홍동) . 20220218.0\n",
      "43 . 서울퍼스트성형외과의원 . 제주특별자치도 서귀포시 월드컵로 8, 송산플라자 2층 202호 (강정동) . 20200220.0\n",
      "44 . 서울푸른정신건강의학과의원 . 제주특별자치도 제주시 노형로 407, 노형타워 4층 404호 (노형동) . 20220826.0\n",
      "45 . 서정소아청소년과의원 . 제주특별자치도 제주시 수덕로 69, 2층 (노형동) . 20221116.0\n",
      "46 . 선유외과의원 . 제주특별자치도 제주시 중앙로 299, 401호 (이도이동) . 20230315.0\n",
      "47 . 성국한신경외과의원 . 제주특별자치도 서귀포시 월드컵로 14, 4층 402호 (강정동) . 20230925.0\n",
      "48 . 성모정신건강의학과의원 . 제주특별자치도 제주시 노형로 388, 2층 (노형동) . 20230321.0\n",
      "49 . 세화정형외과의원 . 제주특별자치도 제주시 구좌읍 구좌로 40, () . 20230314.0\n",
      "50 . 속편한드림내과의원 . 제주특별자치도 제주시 노형8길 3, 3층 (노형동) . 20220907.0\n",
      "51 . 수목원정신건강의학과의원 . 제주특별자치도 제주시 1100로 3178, 지하 1층 (노형동) . 20230509.0\n",
      "52 . 아산본정형외과 의원 . 제주특별자치도 서귀포시 대정읍 중산간서로 2274, C동 2층 . 20200826.0\n",
      "53 . 아산수의원 . 제주특별자치도 서귀포시 대정읍 에듀시티로239번길 16, 201호 . 20220317.0\n",
      "54 . 안덕의원 . 제주특별자치도 서귀포시 안덕면 화순로 112, (안덕면) . 20201007.0\n",
      "55 . 어울림의원 . 제주특별자치도 제주시 노형로 362, 3층 (노형동) . 20221028.0\n",
      "56 . 엘라 여성의원 . 제주특별자치도 서귀포시 중앙로 89, 서귀포약국 3층 (서귀동) . 20220809.0\n",
      "57 . 연세선린내과의원 . 제주특별자치도 서귀포시 동문로 64, 3, 4층 (서귀동) . 20220830.0\n",
      "58 . 연세예담의원 . 제주특별자치도 서귀포시 일주동로 8666, 2층 (동홍동) . 20220427.0\n",
      "59 . 연세차내과의원 . 제주특별자치도 제주시 우평로 338, 4,5층 (외도일동) . 20201209.0\n",
      "60 . 외도굿모닝이비인후과의원 . 제주특별자치도 제주시 우평로 338, 3층 (외도일동) . 20200116.0\n",
      "61 . 이엠돌담의원 . 제주특별자치도 제주시 일주동로 393, 2~3층 (삼양이동) . 20200422.0\n",
      "62 . 이종영안과의원 . 제주특별자치도 제주시 노형로 378, 4층 401호 (노형동) . 20220916.0\n",
      "63 . 이지봄안과의원 . 제주특별자치도 제주시 노형로 390, 2~6층 (노형동) . 20221122.0\n",
      "64 . 이지현의원 . 제주특별자치도 제주시 과원로 110, 4층 (연동) . 20230530.0\n",
      "65 . 인제상쾌한이비인후과의원 . 제주특별자치도 제주시 동광로 86, 2,3,4층 (이도이동) . 20231006.0\n",
      "66 . 장진근두근두근내과의원 . 제주특별자치도 제주시 도령로 64, 2층 (연동) . 20230608.0\n",
      "67 . 전원중속내과의원 . 제주특별자치도 제주시 노형로 378, 5층 (노형동) . 20210223.0\n",
      "68 . 정온정형외과 의원 . 제주특별자치도 서귀포시 표선면 표선관정로 97, 서울약국 3층 . 20210107.0\n",
      "69 . 제이뉴피부과의원 . 제주특별자치도 제주시 중앙로 337, 101, 102호 (이도이동) . 20211029.0\n",
      "70 . 제이사랑정형외과의원 . 제주특별자치도 제주시 1100로 3342, 소강빌딩 2층 (노형동) . 20220726.0\n",
      "71 . 제주연합재활의학과의원 . 제주특별자치도 제주시 서광로 294, 2,지하1층 (이도이동) . 20191226.0\n",
      "72 . 쿨맨남성의원 . 제주특별자치도 제주시 1100로 3328, 정원빌딩 4층 (노형동) . 20210713.0\n",
      "73 . 톡스앤필의원 . 제주특별자치도 제주시 노형로 378, 2층 (노형동) . 20220120.0\n",
      "74 . 하귀튼튼의원 . 제주특별자치도 제주시 애월읍 하귀9길 1, 2층 . 20200903.0\n",
      "75 . 한림본정형외과의원 . 제주특별자치도 제주시 한림읍 한림상로 116, 1층(105호)~2층 . 20210916.0\n",
      "76 . 해랑소아청소년과의원 . 제주특별자치도 서귀포시 동문로 5, 2층 (서귀동) . 20200925.0\n",
      "77 . 현비뇨의학과의원 . 제주특별자치도 서귀포시 대정읍 하모상가로 49, 4층 . 20220523.0\n",
      "78 . 현정신건강의학과의원 . 제주특별자치도 제주시 월랑로 1, 5층 (노형동) . 20220722.0\n",
      "79 . 현혜선산부인과의원 . 제주특별자치도 서귀포시 서호중앙로 55, 제주 유포리아 지식산업센터 D동 301호 (서호동) . 20230822.0\n",
      "80 . 황수란피부과의원 . 제주특별자치도 서귀포시 일주동로 8675, 5층 (서귀동) . 20230925.0\n",
      "81 . 효재의원 . 제주특별자치도 제주시 서광로 301, 4층 (이도일동) . 20230623.0\n",
      "82 . 힐리피엠씨의원 . 제주특별자치도 서귀포시 솔오름로 61, 2층 4, 5호 (동홍동) . 20221021.0\n",
      "83 . 고운이치과교정과치과의원 . 제주특별자치도 제주시 연삼로 354, 4층 (도남동) . 20220413.0\n",
      "84 . 김형욱치과의원 . 제주특별자치도 제주시 연북로 54, 2층 (노형동) . 20220628.0\n",
      "85 . 노형큐치과의원 . 제주특별자치도 제주시 연북로 34, 3층 (노형동) . 20220317.0\n",
      "86 . 대정하나로 치과의원 . 제주특별자치도 서귀포시 대정읍 일주서로 2460, () . 20210422.0\n",
      "87 . 드림치과의원 . 제주특별자치도 제주시 화삼로 19, 삼화빌딩 2층 (화북일동) . 20221213.0\n",
      "88 . 디올레치과의원 . 제주특별자치도 제주시 중앙로 266, 101호 (이도이동, 영도 갤럭시타운) . 20220426.0\n",
      "89 . 러브디바인치과의원 . 제주특별자치도 서귀포시 중앙로 94, 워너비안경 2층 (서귀동) . 20210215.0\n",
      "90 . 매일미소치과의원 . 제주특별자치도 제주시 한림읍 한림로 638, 2층 . 20211221.0\n",
      "91 . 머물고싶은치과의원 . 제주특별자치도 제주시 1100로 3323, 2,5층 (노형동) . 20230613.0\n",
      "92 . 바른손치과의원 . 제주특별자치도 서귀포시 일주동로 8621, 2층 (동홍동) . 20220113.0\n",
      "93 . 새로이치과교정과치과의원 . 제주특별자치도 제주시 연북로 30, 5층 (노형동) . 20201120.0\n",
      "94 . 서울동그라미치과의원 . 제주특별자치도 제주시 연북로 38, 4층 (노형동, 연동크리닉) . 20230627.0\n",
      "95 . 서울업치과의원 . 제주특별자치도 제주시 연북로 76, 한성빌딩 2층 (연동) . 20220727.0\n",
      "96 . 서울차앤김치과의원 . 제주특별자치도 제주시 중앙로 380, 3층 (이도이동) . 20200422.0\n",
      "97 . 센트럴치과의원 . 제주특별자치도 제주시 중앙로 61, 2층 (이도일동) . 20210818.0\n",
      "98 . 스탠다드치과의원 . 제주특별자치도 제주시 연삼로 548, 2층 (일도이동) . 20220208.0\n",
      "99 . 아이엠플란트치과의원 . 제주특별자치도 제주시 월랑로 5, 3~5층 (노형동) . 20200316.0\n",
      "100 . 애월치과의원 . 제주특별자치도 제주시 애월읍 애월로11길 6-2, 3층 . 20230913.0\n",
      "101 . 양경필치과의원 . 제주특별자치도 제주시 공항로1길 46, (용담이동) . 20220107.0\n",
      "102 . 에이플러스치과의원 . 제주특별자치도 제주시 번영로 510, 3층 (봉개동) . 20201021.0\n",
      "103 . 엘에이 치과의원 . 제주특별자치도 제주시 서광로 262-1, 2층 (삼도일동) . 20221116.0\n",
      "104 . 연세마음편한치과의원 . 제주특별자치도 제주시 연북로 46, 연합빌딩 2층 (노형동) . 20210929.0\n",
      "105 . 연세우리동네치과의원 . 제주특별자치도 제주시 애월읍 일주서로 6689, 2층 . 20210910.0\n",
      "106 . 연세중앙치과의원 . 제주특별자치도 제주시 중앙로 360, 2층 (이도이동) . 20220929.0\n",
      "107 . 온유치과의원 . 제주특별자치도 서귀포시 신서귀로97번길 51, 4층 (강정동) . 20210512.0\n",
      "108 . 율치과의원 . 제주특별자치도 제주시 연삼로 510, 2층 (일도이동) . 20220318.0\n",
      "109 . 이편한치과의원 . 제주특별자치도 서귀포시 천제연로 200, 2층 (중문동) . 20211026.0\n",
      "110 . 제라진치과의원 . 제주특별자치도 서귀포시 대정읍 글로벌에듀로 396, () . 20210517.0\n",
      "111 . 제일플란트치과의원 . 제주특별자치도 제주시 중앙로 302, 더스프링 4~5층 (이도이동) . 20210114.0\n",
      "112 . 제주아나픈치과의원 . 제주특별자치도 제주시 노형로 362, 4층 (노형동) . 20210722.0\n",
      "113 . 제주아이치과의원 . 제주특별자치도 제주시 동화로 50, 3층 (화북일동) . 20220413.0\n",
      "114 . 제주의료소비자협동조합 하늘치과의원 . 제주특별자치도 제주시 조천읍 신북로 460, () . 20200306.0\n",
      "115 . 제주탑플란트치과의원 . 제주특별자치도 제주시 중앙로 545, 5층 (아라일동) . 20220617.0\n",
      "116 . 킴스플란트치과의원 . 제주특별자치도 제주시 연북로 10, 신영빌딩 5층 (노형동) . 20220413.0\n",
      "117 . 한림산치과의원 . 제주특별자치도 제주시 한림읍 한림로 665-1, 2층 . 20211210.0\n",
      "118 . 한수풀치과의원 . 제주특별자치도 제주시 한림읍 명랑로 4, 2층 . 20220617.0\n",
      "119 . 온평보건진료소 . 제주특별자치도 서귀포시 성산읍 온평애향로23번길 6, 온평리사무소 . 20200716.0\n",
      "120 . 솔담한방병원 . 제주특별자치도 제주시 1100로 3055, (노형동) . 20201012.0\n",
      "121 . 365경희부부한의원 . 제주특별자치도 제주시 일주동로 187, 2층 (화북일동) . 20210930.0\n",
      "122 . 강한의원 . 제주특별자치도 서귀포시 서문로 2-1, (서귀동) . 20210805.0\n",
      "123 . 관자재한의원 . 제주특별자치도 제주시 월광로 140, 2층 202호 (노형동) . 20230221.0\n",
      "124 . 광양한의원 . 제주특별자치도 제주시 서광로28길 19, 1~2층 (이도이동) . 20200207.0\n",
      "125 . 광장한의원 . 제주특별자치도 서귀포시 동문로 4, 현대자동차 2층 (서귀동) . 20201214.0\n",
      "126 . 김선욱한의원 . 제주특별자치도 제주시 한림읍 한림로 645, 1층 . 20211215.0\n",
      "127 . 동가원한의원 . 제주특별자치도 서귀포시 대정읍 글로벌에듀로 382, A동 101호 . 20200925.0\n",
      "128 . 동그라미 한의원 . 제주특별자치도 제주시 일주동로 229, 동인빌딩 3층 (화북일동) . 20221206.0\n",
      "129 . 맘편한한의원 . 제주특별자치도 서귀포시 천제연로 200, 2층 (중문동) . 20230626.0\n",
      "130 . 메디컬오한의원 . 제주특별자치도 제주시 1100로 3324, 201호 (노형동) . 20220629.0\n",
      "131 . 바른몸한의원 . 제주특별자치도 제주시 일주동로 332-1, 2층 (삼양이동) . 20220527.0\n",
      "132 . 삼화수한의원 . 제주특별자치도 제주시 건주로 27, 2층 (도련일동) . 20220524.0\n",
      "133 . 생생한의원 . 제주특별자치도 서귀포시 대포중앙로 14, 2층 (대포동) . 20201021.0\n",
      "134 . 성산한의원 . 제주특별자치도 서귀포시 성산읍 일출로 14-8, 1층 . 20221130.0\n",
      "135 . 시민한의원 . 제주특별자치도 제주시 중앙로 125-1, 1층 (이도일동) . 20230620.0\n",
      "136 . 양병준한의원 . 제주특별자치도 제주시 조공포길 42, 1층 (외도일동) . 20211125.0\n",
      "137 . 예감당한의원 . 제주특별자치도 제주시 애월읍 하귀로 134, 1층 . 20210730.0\n",
      "138 . 예강한의원 . 제주특별자치도 제주시 연북로 42, 녹색도시 201호 (노형동) . 20210223.0\n",
      "139 . 웃음꽃피어나는약수당한의원 . 제주특별자치도 제주시 중앙로 545, 3층 (아라일동) . 20201202.0\n",
      "140 . 원광려한의원 . 제주특별자치도 제주시 1100로 3334, 2층 (노형동) . 20210614.0\n",
      "141 . 자연과한의원 . 제주특별자치도 제주시 1100로 3342, 소강빌딩 3층 (노형동) . 20220708.0\n",
      "142 . 저지한의원 . 제주특별자치도 제주시 한경면 녹차분재로 607-1, () . 20191202.0\n",
      "143 . 필한의원 . 제주특별자치도 서귀포시 표선면 표선동서로 236, 301호 . 20230104.0\n",
      "144 . 하나로 한의원 . 제주특별자치도 서귀포시 대정읍 일주서로 2460, 2층 . 20210805.0\n",
      "145 . 한음한방신경정신과한의원 . 제주특별자치도 제주시 도령로 20, 3층 (노형동) . 20230530.0\n",
      "146 . 현무암부부한의원 . 제주특별자치도 제주시 중앙로 360, 3층 (이도이동) . 20220428.0\n",
      "병원 : 1034\n",
      "최근1년146\n"
     ]
    }
   ],
   "source": [
    "import csv\n",
    "import pandas\n",
    "read_file = '3.병원정보서비스_filter.csv'\n",
    "with open(read_file, 'r')as f:\n",
    "    rdr = csv.reader(f)\n",
    "    count = 0\n",
    "    recent = 0\n",
    "    for line in rdr:\n",
    "        if '제주특별자치도' in line[3]:\n",
    "            count += 1\n",
    "            if(float(line[6]) > 20191201 and float(line[6]) < 20231201):\n",
    "                recent += 1\n",
    "                print(recent, line[0], line[3], line[6], sep = ' . ')\n",
    "    print('병원 : %d' %count)\n",
    "    print('최근1년{}'.format(recent))"
   ]
  },
  {
   "cell_type": "code",
   "execution_count": 80,
   "id": "5a436cd6",
   "metadata": {},
   "outputs": [
    {
     "name": "stdout",
     "output_type": "stream",
     "text": [
      "107\n"
     ]
    }
   ],
   "source": [
    "import csv\n",
    "import pandas\n",
    "read_file = '3.병원정보서비스_filter.csv'\n",
    "with open(read_file, 'r')as f:\n",
    "    rdr = csv.reader(f)\n",
    "    data_list = []\n",
    "    for line in rdr:\n",
    "        if '제주시' in line[2]:\n",
    "            count += 1\n",
    "            if(float(line[6]) > 20191201 and float(line[6]) < 20231201):\n",
    "                data_list.append(line[6])\n",
    "                \n",
    "print(len(data_list))"
   ]
  },
  {
   "cell_type": "code",
   "execution_count": 81,
   "id": "a3cb6d95",
   "metadata": {},
   "outputs": [],
   "source": [
    "import matplotlib.pyplot as plt\n",
    "import pandas as pd\n",
    "\n",
    "df = pd.DataFrame(data_list, columns = ['날짜'])\n",
    "df['년도'] = df['날짜'].str[:4].astype(int) #20220919 > 2022 > 2022\n",
    "df['월'] = df['날짜'].str[4:6].astype(int) #20220919 > 09 > 9"
   ]
  },
  {
   "cell_type": "code",
   "execution_count": 82,
   "id": "0a1c1241",
   "metadata": {},
   "outputs": [
    {
     "data": {
      "text/plain": [
       "Index(['날짜', '년도', '월'], dtype='object')"
      ]
     },
     "execution_count": 82,
     "metadata": {},
     "output_type": "execute_result"
    }
   ],
   "source": [
    "df.columns\n"
   ]
  },
  {
   "cell_type": "code",
   "execution_count": 83,
   "id": "f8f9b9a3",
   "metadata": {},
   "outputs": [
    {
     "data": {
      "text/html": [
       "<div>\n",
       "<style scoped>\n",
       "    .dataframe tbody tr th:only-of-type {\n",
       "        vertical-align: middle;\n",
       "    }\n",
       "\n",
       "    .dataframe tbody tr th {\n",
       "        vertical-align: top;\n",
       "    }\n",
       "\n",
       "    .dataframe thead th {\n",
       "        text-align: right;\n",
       "    }\n",
       "</style>\n",
       "<table border=\"1\" class=\"dataframe\">\n",
       "  <thead>\n",
       "    <tr style=\"text-align: right;\">\n",
       "      <th></th>\n",
       "      <th>날짜</th>\n",
       "      <th>년도</th>\n",
       "      <th>월</th>\n",
       "    </tr>\n",
       "  </thead>\n",
       "  <tbody>\n",
       "    <tr>\n",
       "      <th>0</th>\n",
       "      <td>20230215.0</td>\n",
       "      <td>2023</td>\n",
       "      <td>2</td>\n",
       "    </tr>\n",
       "    <tr>\n",
       "      <th>1</th>\n",
       "      <td>20220919.0</td>\n",
       "      <td>2022</td>\n",
       "      <td>9</td>\n",
       "    </tr>\n",
       "    <tr>\n",
       "      <th>2</th>\n",
       "      <td>20220328.0</td>\n",
       "      <td>2022</td>\n",
       "      <td>3</td>\n",
       "    </tr>\n",
       "    <tr>\n",
       "      <th>3</th>\n",
       "      <td>20221028.0</td>\n",
       "      <td>2022</td>\n",
       "      <td>10</td>\n",
       "    </tr>\n",
       "    <tr>\n",
       "      <th>4</th>\n",
       "      <td>20211222.0</td>\n",
       "      <td>2021</td>\n",
       "      <td>12</td>\n",
       "    </tr>\n",
       "  </tbody>\n",
       "</table>\n",
       "</div>"
      ],
      "text/plain": [
       "           날짜    년도   월\n",
       "0  20230215.0  2023   2\n",
       "1  20220919.0  2022   9\n",
       "2  20220328.0  2022   3\n",
       "3  20221028.0  2022  10\n",
       "4  20211222.0  2021  12"
      ]
     },
     "execution_count": 83,
     "metadata": {},
     "output_type": "execute_result"
    }
   ],
   "source": [
    "df.head()"
   ]
  },
  {
   "cell_type": "code",
   "execution_count": 84,
   "id": "aa87b8e8",
   "metadata": {},
   "outputs": [
    {
     "data": {
      "text/plain": [
       "날짜    object\n",
       "년도     int64\n",
       "월      int64\n",
       "dtype: object"
      ]
     },
     "execution_count": 84,
     "metadata": {},
     "output_type": "execute_result"
    }
   ],
   "source": [
    "df.dtypes\n"
   ]
  },
  {
   "cell_type": "code",
   "execution_count": 85,
   "id": "71f9de79",
   "metadata": {},
   "outputs": [
    {
     "data": {
      "image/png": "[encoded data removed]",
      "text/plain": [
       "<Figure size 1000x600 with 1 Axes>"
      ]
     },
     "metadata": {},
     "output_type": "display_data"
    }
   ],
   "source": [
    "import numpy as np\n",
    "import matplotlib.pyplot as plt\n",
    "\n",
    "import pandas as pd \n",
    "import seaborn as sns\n",
    "xx = np.arange(1, 13)#range(3)\n",
    "plt.figure(figsize = (10, 6))#인치\n",
    "\n",
    "sns.countplot(data = df, x = '월', palette = 'husl')\n",
    "\n",
    "\n",
    "#sns.histplot(data=df, x ='월', hue = '년도', bins = 12, palette = 'bright', legend = True)\n",
    "plt.hist(df['월'], bins = 12, edgecolor = 'black', alpha = 0.7)\n",
    "plt.xlabel('month')\n",
    "plt.ylabel('many')\n",
    "plt.title('month histogram')\n",
    "plt.xticks(xx)\n",
    "plt.show()"
   ]
  },
  {
   "cell_type": "code",
   "execution_count": 86,
   "id": "112b76f7",
   "metadata": {},
   "outputs": [
    {
     "name": "stdout",
     "output_type": "stream",
     "text": [
      " 1, 1720 상급종합 재단법인아산사회복지재단 서울아산병원\n",
      " 2, 1608 상급종합 서울대학교병원\n",
      " 3, 1477 상급종합 연세대학교의과대학세브란스병원\n",
      " 4, 1401 상급종합 삼성서울병원\n",
      " 5,  893 상급종합 학교법인가톨릭학원가톨릭대학교서울성모병원\n",
      " 6,  807 상급종합 분당서울대학교병원\n",
      " 7,  674 상급종합 아주대학교병원\n",
      " 8,  568 상급종합 학교법인 고려중앙학원 고려대학교의과대학부속병원(안암병원)\n",
      " 9,  562 상급종합 고려대학교의과대학부속구로병원\n",
      "10,  560 상급종합 연세대학교의과대학 강남세브란스병원\n"
     ]
    }
   ],
   "source": [
    "read_file = '3.병원정보서비스_filter.csv'\n",
    "with open(read_file, 'r')as f:\n",
    "    rdr = csv.reader(f)\n",
    "    header = next(rdr)\n",
    "    sort_index = header.index('총의사수')\n",
    "    \n",
    "  #  print(sort_index)\n",
    "\n",
    "    data = list(rdr)\n",
    "    \n",
    "    sort_data = sorted(data, key = lambda x: int(x[sort_index]), reverse = True)\n",
    "    line_num = 1\n",
    "    for row in sort_data[:10]:\n",
    "        print(\"%2d, %4s %4s %s\" %(line_num, row[7], row[1], row[0]))\n",
    "        line_num += 1\n",
    "    "
   ]
  },
  {
   "cell_type": "code",
   "execution_count": 100,
   "id": "d1028fec",
   "metadata": {},
   "outputs": [
    {
     "ename": "SyntaxError",
     "evalue": "invalid syntax (1561154071.py, line 12)",
     "output_type": "error",
     "traceback": [
      "\u001b[0;36m  Cell \u001b[0;32mIn[100], line 12\u001b[0;36m\u001b[0m\n\u001b[0;31m    dsum += in r [7]\u001b[0m\n\u001b[0m            ^\u001b[0m\n\u001b[0;31mSyntaxError\u001b[0m\u001b[0;31m:\u001b[0m invalid syntax\n"
     ]
    }
   ],
   "source": [
    "import csv\n",
    "import pandas\n",
    "read_file = '3.병원정보서비스_filter.csv'\n",
    "with open(read_file, 'r')as f:\n",
    "    rdr = csv.reader(f)\n",
    "    next(rdr)\n",
    "    num = 0\n",
    "    dsum = 0\n",
    "    for line in rdr:\n",
    "        if '삼성' in line[0] and '서울' in r[3]:\n",
    "            num += 1\n",
    "            dsum += in r [7]\n",
    "            \n",
    "    print('\\n의사수 %d 병원수 %d'% (dsum, num))"
   ]
  },
  {
   "cell_type": "code",
   "execution_count": null,
   "id": "515149e2",
   "metadata": {},
   "outputs": [],
   "source": []
  },
  {
   "cell_type": "code",
   "execution_count": null,
   "id": "f867d7ee",
   "metadata": {},
   "outputs": [],
   "source": []
  },
  {
   "cell_type": "code",
   "execution_count": null,
   "id": "2141ab3c",
   "metadata": {},
   "outputs": [],
   "source": []
  },
  {
   "cell_type": "code",
   "execution_count": null,
   "id": "2a6d6bac",
   "metadata": {},
   "outputs": [],
   "source": []
  },
  {
   "cell_type": "code",
   "execution_count": null,
   "id": "636365f8",
   "metadata": {},
   "outputs": [],
   "source": []
  },
  {
   "cell_type": "code",
   "execution_count": null,
   "id": "88014cbf",
   "metadata": {},
   "outputs": [],
   "source": []
  },
  {
   "cell_type": "code",
   "execution_count": 28,
   "id": "fdb383d9",
   "metadata": {},
   "outputs": [
    {
     "ename": "SyntaxError",
     "evalue": "incomplete input (2325069202.py, line 2)",
     "output_type": "error",
     "traceback": [
      "\u001b[0;36m  Cell \u001b[0;32mIn[28], line 2\u001b[0;36m\u001b[0m\n\u001b[0;31m    \u001b[0m\n\u001b[0m    ^\u001b[0m\n\u001b[0;31mSyntaxError\u001b[0m\u001b[0;31m:\u001b[0m incomplete input\n"
     ]
    }
   ],
   "source": [
    "with open(\"a.txt\", \"rb\")as f:\n",
    "    "
   ]
  },
  {
   "cell_type": "code",
   "execution_count": null,
   "id": "c2c037d1",
   "metadata": {},
   "outputs": [],
   "source": []
  }
 ],
 "metadata": {
  "kernelspec": {
   "display_name": "Python 3 (ipykernel)",
   "language": "python",
   "name": "python3"
  },
  "language_info": {
   "codemirror_mode": {
    "name": "ipython",
    "version": 3
   },
   "file_extension": ".py",
   "mimetype": "text/x-python",
   "name": "python",
   "nbconvert_exporter": "python",
   "pygments_lexer": "ipython3",
   "version": "3.11.5"
  }
 },
 "nbformat": 4,
 "nbformat_minor": 5
}
