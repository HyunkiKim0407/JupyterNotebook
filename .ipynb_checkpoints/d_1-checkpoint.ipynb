{
 "cells": [
  {
   "cell_type": "code",
   "execution_count": 2,
   "id": "b2d1a7f1",
   "metadata": {},
   "outputs": [
    {
     "name": "stdout",
     "output_type": "stream",
     "text": [
      "야\n"
     ]
    }
   ],
   "source": [
    "print(\"야\")"
   ]
  },
  {
   "cell_type": "code",
   "execution_count": 3,
   "id": "9562699d",
   "metadata": {},
   "outputs": [],
   "source": [
    "a = \"latte\""
   ]
  },
  {
   "cell_type": "code",
   "execution_count": 5,
   "id": "ecb47451",
   "metadata": {},
   "outputs": [],
   "source": [
    "a = 10"
   ]
  },
  {
   "cell_type": "code",
   "execution_count": 8,
   "id": "b5473f93",
   "metadata": {},
   "outputs": [
    {
     "data": {
      "text/plain": [
       "11"
      ]
     },
     "execution_count": 8,
     "metadata": {},
     "output_type": "execute_result"
    }
   ],
   "source": [
    "a + 1 "
   ]
  },
  {
   "cell_type": "code",
   "execution_count": 9,
   "id": "bdf89fbf",
   "metadata": {},
   "outputs": [],
   "source": [
    "b = 20"
   ]
  },
  {
   "cell_type": "code",
   "execution_count": 10,
   "id": "a0e2698f",
   "metadata": {},
   "outputs": [
    {
     "data": {
      "text/plain": [
       "20"
      ]
     },
     "execution_count": 10,
     "metadata": {},
     "output_type": "execute_result"
    }
   ],
   "source": [
    "b "
   ]
  },
  {
   "cell_type": "code",
   "execution_count": 12,
   "id": "adf73a23",
   "metadata": {},
   "outputs": [
    {
     "name": "stdout",
     "output_type": "stream",
     "text": [
      "10 + 20 = 200\n"
     ]
    }
   ],
   "source": [
    "print(a, '+' ,b, '=', a * b)"
   ]
  },
  {
   "cell_type": "code",
   "execution_count": 14,
   "id": "f3e09707",
   "metadata": {},
   "outputs": [
    {
     "name": "stdout",
     "output_type": "stream",
     "text": [
      "10 + 20 = 30\n"
     ]
    }
   ],
   "source": [
    "print(\"{} + {} = %d\" .format(a,b)%(a+b))"
   ]
  },
  {
   "cell_type": "code",
   "execution_count": 15,
   "id": "a5634551",
   "metadata": {},
   "outputs": [
    {
     "name": "stdout",
     "output_type": "stream",
     "text": [
      "10 + 20 = 30\n"
     ]
    }
   ],
   "source": [
    "print(\"{1} + {0} = %d\" .format(b,a)%(a+b))"
   ]
  },
  {
   "cell_type": "code",
   "execution_count": 17,
   "id": "05b7b1d0",
   "metadata": {},
   "outputs": [
    {
     "name": "stdout",
     "output_type": "stream",
     "text": [
      "10 + 20 = 30\n"
     ]
    }
   ],
   "source": [
    "print(\"{} + %d = {}\" .format(a, a+b) % (b))"
   ]
  },
  {
   "cell_type": "code",
   "execution_count": 20,
   "id": "16e1272d",
   "metadata": {},
   "outputs": [
    {
     "data": {
      "text/plain": [
       "int"
      ]
     },
     "execution_count": 20,
     "metadata": {},
     "output_type": "execute_result"
    }
   ],
   "source": [
    "a = 10\n",
    "type(a)\n"
   ]
  },
  {
   "cell_type": "code",
   "execution_count": 39,
   "id": "c4cbb4ef",
   "metadata": {},
   "outputs": [
    {
     "name": "stdout",
     "output_type": "stream",
     "text": [
      "2\n",
      "3\n"
     ]
    }
   ],
   "source": [
    "a = int(input())\n",
    "b = int(input())"
   ]
  },
  {
   "cell_type": "code",
   "execution_count": null,
   "id": "1fa3c327",
   "metadata": {},
   "outputs": [],
   "source": [
    "a = input('a : ')\n",
    "\n",
    "b = input('b : ')"
   ]
  },
  {
   "cell_type": "code",
   "execution_count": 42,
   "id": "4a8aeee4",
   "metadata": {},
   "outputs": [
    {
     "name": "stdout",
     "output_type": "stream",
     "text": [
      "1 2\n"
     ]
    }
   ],
   "source": [
    "print(a, b)\n"
   ]
  },
  {
   "cell_type": "code",
   "execution_count": 44,
   "id": "63b4bdfd",
   "metadata": {},
   "outputs": [
    {
     "data": {
      "text/plain": [
       "'12'"
      ]
     },
     "execution_count": 44,
     "metadata": {},
     "output_type": "execute_result"
    }
   ],
   "source": [
    "a + b"
   ]
  },
  {
   "cell_type": "code",
   "execution_count": 43,
   "id": "e17456ae",
   "metadata": {
    "scrolled": false
   },
   "outputs": [
    {
     "data": {
      "text/plain": [
       "'12'"
      ]
     },
     "execution_count": 43,
     "metadata": {},
     "output_type": "execute_result"
    }
   ],
   "source": [
    "### 설명글은 명령모드 M\n",
    "### 코드는 y\n",
    "### 셀분리 ctr shift -\n",
    "### 셀 머지 shift m"
   ]
  },
  {
   "cell_type": "code",
   "execution_count": 1,
   "id": "da1cc3e3",
   "metadata": {},
   "outputs": [
    {
     "name": "stdout",
     "output_type": "stream",
     "text": [
      "a b c : 1 2 3\n"
     ]
    }
   ],
   "source": [
    "c = input('a b c : ')\n",
    "c = c.split()"
   ]
  },
  {
   "cell_type": "code",
   "execution_count": 7,
   "id": "02354fe5",
   "metadata": {},
   "outputs": [
    {
     "data": {
      "text/plain": [
       "['1', '2', '3']"
      ]
     },
     "execution_count": 7,
     "metadata": {},
     "output_type": "execute_result"
    }
   ],
   "source": [
    "c"
   ]
  },
  {
   "cell_type": "code",
   "execution_count": 8,
   "id": "4b9b2996",
   "metadata": {},
   "outputs": [
    {
     "data": {
      "text/plain": [
       "'1'"
      ]
     },
     "execution_count": 8,
     "metadata": {},
     "output_type": "execute_result"
    }
   ],
   "source": [
    "x, y, z = c\n",
    "x"
   ]
  },
  {
   "cell_type": "code",
   "execution_count": 10,
   "id": "750cf3bd",
   "metadata": {},
   "outputs": [],
   "source": [
    "x = int(x)\n",
    "y = int(y)\n",
    "z = int(z)"
   ]
  },
  {
   "cell_type": "code",
   "execution_count": 13,
   "id": "de8f3b2c",
   "metadata": {
    "scrolled": true
   },
   "outputs": [
    {
     "name": "stdout",
     "output_type": "stream",
     "text": [
      "1 2 3\n"
     ]
    }
   ],
   "source": [
    "print(x, y, z)"
   ]
  },
  {
   "cell_type": "code",
   "execution_count": 16,
   "id": "6c25faf0",
   "metadata": {},
   "outputs": [
    {
     "name": "stdout",
     "output_type": "stream",
     "text": [
      "6\n"
     ]
    }
   ],
   "source": [
    "print(x + y + z)"
   ]
  },
  {
   "cell_type": "markdown",
   "id": "e45219ac",
   "metadata": {},
   "source": [
    "input() > str > 여러개 > split(): 공백나누기 > int > 덧샘\n",
    "\n",
    "\n",
    "\n",
    "\n",
    "\n"
   ]
  },
  {
   "cell_type": "code",
   "execution_count": 18,
   "id": "d7c9e9d4",
   "metadata": {},
   "outputs": [
    {
     "name": "stdout",
     "output_type": "stream",
     "text": [
      "x, y, z :5 6 7\n"
     ]
    },
    {
     "data": {
      "text/plain": [
       "18"
      ]
     },
     "execution_count": 18,
     "metadata": {},
     "output_type": "execute_result"
    }
   ],
   "source": [
    "x, y, z = map(int, input('x, y, z :').split())\n",
    "x + y + z"
   ]
  },
  {
   "cell_type": "markdown",
   "id": "21008a02",
   "metadata": {},
   "source": [
    "a + b 윗칸 설명글\n",
    "map(함수, 반복데이터) : 반복데이터를 하나씩 함수에 적용"
   ]
  },
  {
   "cell_type": "code",
   "execution_count": 28,
   "id": "403ac3f2",
   "metadata": {},
   "outputs": [],
   "source": [
    "a = 10 \n",
    "b = 20\n",
    "\n",
    "temp = a\n",
    "\n",
    "a = b\n",
    "\n",
    "b = temp"
   ]
  },
  {
   "cell_type": "code",
   "execution_count": 29,
   "id": "d5659a4b",
   "metadata": {},
   "outputs": [
    {
     "name": "stdout",
     "output_type": "stream",
     "text": [
      "20 10\n"
     ]
    }
   ],
   "source": [
    "print(a, b)"
   ]
  },
  {
   "cell_type": "code",
   "execution_count": 36,
   "id": "f8bf8bc8",
   "metadata": {},
   "outputs": [
    {
     "name": "stdout",
     "output_type": "stream",
     "text": [
      "10\n",
      "20\n"
     ]
    }
   ],
   "source": [
    "a = int(input())\n",
    "b = int(input())"
   ]
  },
  {
   "cell_type": "code",
   "execution_count": 25,
   "id": "22f4e314",
   "metadata": {},
   "outputs": [
    {
     "name": "stdout",
     "output_type": "stream",
     "text": [
      "10\n",
      "20\n"
     ]
    }
   ],
   "source": [
    "a = input()\n",
    "b = input()"
   ]
  },
  {
   "cell_type": "code",
   "execution_count": 10,
   "id": "4592981f",
   "metadata": {},
   "outputs": [
    {
     "data": {
      "text/plain": [
       "int"
      ]
     },
     "execution_count": 10,
     "metadata": {},
     "output_type": "execute_result"
    }
   ],
   "source": [
    "type(a)"
   ]
  },
  {
   "cell_type": "code",
   "execution_count": 19,
   "id": "ba74c500",
   "metadata": {},
   "outputs": [
    {
     "name": "stdout",
     "output_type": "stream",
     "text": [
      "10 더하기 20 은 30 입니다.\n"
     ]
    }
   ],
   "source": [
    "c = a + b\n",
    "print(a, '더하기', b, '은', c, '입니다.')"
   ]
  },
  {
   "cell_type": "code",
   "execution_count": 42,
   "id": "db36f623",
   "metadata": {},
   "outputs": [
    {
     "name": "stdout",
     "output_type": "stream",
     "text": [
      "10 더하기 20은 30입니다\n"
     ]
    }
   ],
   "source": [
    "c = \"{} 더하기 {}은 {}입니다\".format(a, b, a + b)\n",
    "print(c)"
   ]
  },
  {
   "cell_type": "code",
   "execution_count": 38,
   "id": "6407d3dc",
   "metadata": {},
   "outputs": [
    {
     "name": "stdout",
     "output_type": "stream",
     "text": [
      "10 더하기 20는 30 입니다.\n"
     ]
    }
   ],
   "source": [
    "c = a + b\n",
    "print(\"%d 더하기 %d는 %d 입니다.\" %(a,b,c))"
   ]
  },
  {
   "cell_type": "code",
   "execution_count": 22,
   "id": "8533b2aa",
   "metadata": {},
   "outputs": [
    {
     "data": {
      "text/plain": [
       "12345890"
      ]
     },
     "execution_count": 22,
     "metadata": {},
     "output_type": "execute_result"
    }
   ],
   "source": [
    "a = 12345678\n",
    "a = a ^ 876\n",
    "a\n"
   ]
  },
  {
   "cell_type": "code",
   "execution_count": 23,
   "id": "7366cfd3",
   "metadata": {},
   "outputs": [
    {
     "data": {
      "text/plain": [
       "12345678"
      ]
     },
     "execution_count": 23,
     "metadata": {},
     "output_type": "execute_result"
    }
   ],
   "source": [
    "a = 12345890\n",
    "a = a^ 876\n",
    "a\n"
   ]
  },
  {
   "cell_type": "markdown",
   "id": "dfdbf0cc",
   "metadata": {},
   "source": [
    "비트연산자 공부"
   ]
  },
  {
   "cell_type": "code",
   "execution_count": 43,
   "id": "fc6eddb7",
   "metadata": {},
   "outputs": [],
   "source": [
    "a = 'my name is hong'.split()"
   ]
  },
  {
   "cell_type": "code",
   "execution_count": 44,
   "id": "6cb330ee",
   "metadata": {},
   "outputs": [
    {
     "name": "stdout",
     "output_type": "stream",
     "text": [
      "['my', 'name', 'is', 'hong']\n"
     ]
    }
   ],
   "source": [
    "print(a)"
   ]
  },
  {
   "cell_type": "code",
   "execution_count": 46,
   "id": "a10603ae",
   "metadata": {},
   "outputs": [
    {
     "name": "stdout",
     "output_type": "stream",
     "text": [
      "my:name:is:hong\n"
     ]
    },
    {
     "data": {
      "text/plain": [
       "'my:name:is:hong'"
      ]
     },
     "execution_count": 46,
     "metadata": {},
     "output_type": "execute_result"
    }
   ],
   "source": [
    "b = \":\".join(a)\n",
    "print(b)\n",
    "b"
   ]
  },
  {
   "cell_type": "code",
   "execution_count": 47,
   "id": "ba1604c5",
   "metadata": {},
   "outputs": [
    {
     "name": "stdout",
     "output_type": "stream",
     "text": [
      "33\n",
      "34\n"
     ]
    }
   ],
   "source": [
    "a = 33.3\n",
    "print(round(a))\n",
    "print(round(33.6))"
   ]
  },
  {
   "cell_type": "code",
   "execution_count": null,
   "id": "7c223431",
   "metadata": {},
   "outputs": [],
   "source": []
  }
 ],
 "metadata": {
  "kernelspec": {
   "display_name": "Python 3 (ipykernel)",
   "language": "python",
   "name": "python3"
  },
  "language_info": {
   "codemirror_mode": {
    "name": "ipython",
    "version": 3
   },
   "file_extension": ".py",
   "mimetype": "text/x-python",
   "name": "python",
   "nbconvert_exporter": "python",
   "pygments_lexer": "ipython3",
   "version": "3.11.5"
  }
 },
 "nbformat": 4,
 "nbformat_minor": 5
}
