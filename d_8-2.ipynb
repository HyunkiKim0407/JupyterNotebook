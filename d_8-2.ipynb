{
 "cells": [
  {
   "cell_type": "markdown",
   "id": "f36e7648",
   "metadata": {},
   "source": [
    "#클라이언트 > 요청(request : url) > 경로(DNS) > 서버\n",
    "\n"
   ]
  },
  {
   "cell_type": "code",
   "execution_count": null,
   "id": "3c710b2f",
   "metadata": {},
   "outputs": [],
   "source": [
    "url = \"https://m.stock.naver.com/api/index/KOSPI/basic\""
   ]
  },
  {
   "cell_type": "code",
   "execution_count": null,
   "id": "01e059ff",
   "metadata": {},
   "outputs": [],
   "source": [
    "url = \"https://m.stock.naver.com/api/index/KOSPI/price?pageSize=10&page=1\""
   ]
  },
  {
   "cell_type": "code",
   "execution_count": 4,
   "id": "cfe66bbb",
   "metadata": {},
   "outputs": [
    {
     "name": "stdout",
     "output_type": "stream",
     "text": [
      "Requirement already satisfied: requests in /Users/ruben/anaconda3/lib/python3.11/site-packages (2.31.0)\n",
      "Requirement already satisfied: charset-normalizer<4,>=2 in /Users/ruben/anaconda3/lib/python3.11/site-packages (from requests) (2.0.4)\n",
      "Requirement already satisfied: idna<4,>=2.5 in /Users/ruben/anaconda3/lib/python3.11/site-packages (from requests) (3.4)\n",
      "Requirement already satisfied: urllib3<3,>=1.21.1 in /Users/ruben/anaconda3/lib/python3.11/site-packages (from requests) (1.26.16)\n",
      "Requirement already satisfied: certifi>=2017.4.17 in /Users/ruben/anaconda3/lib/python3.11/site-packages (from requests) (2023.11.17)\n",
      "Note: you may need to restart the kernel to use updated packages.\n"
     ]
    }
   ],
   "source": [
    "pip install requests"
   ]
  },
  {
   "cell_type": "code",
   "execution_count": 8,
   "id": "2a9b1c86",
   "metadata": {},
   "outputs": [
    {
     "data": {
      "text/plain": [
       "<Response [200]>"
      ]
     },
     "execution_count": 8,
     "metadata": {},
     "output_type": "execute_result"
    }
   ],
   "source": [
    "import requests\n",
    "url = \"https://m.stock.naver.com/api/index/KOSPI/price?pageSize=10&page=1\"\n",
    "res = requests.get(url)\n",
    "res"
   ]
  },
  {
   "cell_type": "code",
   "execution_count": 10,
   "id": "6ef33d98",
   "metadata": {},
   "outputs": [
    {
     "data": {
      "text/plain": [
       "'[{\"localTradedAt\":\"2024-01-09\",\"closePrice\":\"2,561.24\",\"compareToPreviousClosePrice\":\"-6.58\",\"compareToPreviousPrice\":{\"code\":\"5\",\"text\":\"하락\",\"name\":\"FALLING\"},\"fluctuationsRatio\":\"-0.26\",\"openPrice\":\"2,598.31\",\"highPrice\":\"2,599.37\",\"lowPrice\":\"2,556.00\"},{\"localTradedAt\":\"2024-01-08\",\"closePrice\":\"2,567.82\",\"compareToPreviousClosePrice\":\"-10.26\",\"compareToPreviousPrice\":{\"code\":\"5\",\"text\":\"하락\",\"name\":\"FALLING\"},\"fluctuationsRatio\":\"-0.40\",\"openPrice\":\"2,584.23\",\"highPrice\":\"2,591.68\",\"lowPrice\":\"2,566.34\"},{\"localTradedAt\":\"2024-01-05\",\"closePrice\":\"2,578.08\",\"compareToPreviousClosePrice\":\"-8.94\",\"compareToPreviousPrice\":{\"code\":\"5\",\"text\":\"하락\",\"name\":\"FALLING\"},\"fluctuationsRatio\":\"-0.35\",\"openPrice\":\"2,586.89\",\"highPrice\":\"2,592.29\",\"lowPrice\":\"2,572.60\"},{\"localTradedAt\":\"2024-01-04\",\"closePrice\":\"2,587.02\",\"compareToPreviousClosePrice\":\"-20.29\",\"compareToPreviousPrice\":{\"code\":\"5\",\"text\":\"하락\",\"name\":\"FALLING\"},\"fluctuationsRatio\":\"-0.78\",\"openPrice\":\"2,592.44\",\"highPrice\":\"2,602.64\",\"lowPrice\":\"2,580.09\"},{\"localTradedAt\":\"2024-01-03\",\"closePrice\":\"2,607.31\",\"compareToPreviousClosePrice\":\"-62.50\",\"compareToPreviousPrice\":{\"code\":\"5\",\"text\":\"하락\",\"name\":\"FALLING\"},\"fluctuationsRatio\":\"-2.34\",\"openPrice\":\"2,643.54\",\"highPrice\":\"2,643.72\",\"lowPrice\":\"2,607.31\"},{\"localTradedAt\":\"2024-01-02\",\"closePrice\":\"2,669.81\",\"compareToPreviousClosePrice\":\"14.53\",\"compareToPreviousPrice\":{\"code\":\"2\",\"text\":\"상승\",\"name\":\"RISING\"},\"fluctuationsRatio\":\"0.55\",\"openPrice\":\"2,645.47\",\"highPrice\":\"2,675.80\",\"lowPrice\":\"2,641.88\"},{\"localTradedAt\":\"2023-12-28\",\"closePrice\":\"2,655.28\",\"compareToPreviousClosePrice\":\"41.78\",\"compareToPreviousPrice\":{\"code\":\"2\",\"text\":\"상승\",\"name\":\"RISING\"},\"fluctuationsRatio\":\"1.60\",\"openPrice\":\"2,616.27\",\"highPrice\":\"2,655.28\",\"lowPrice\":\"2,611.72\"},{\"localTradedAt\":\"2023-12-27\",\"closePrice\":\"2,613.50\",\"compareToPreviousClosePrice\":\"10.91\",\"compareToPreviousPrice\":{\"code\":\"2\",\"text\":\"상승\",\"name\":\"RISING\"},\"fluctuationsRatio\":\"0.42\",\"openPrice\":\"2,599.35\",\"highPrice\":\"2,613.50\",\"lowPrice\":\"2,590.08\"},{\"localTradedAt\":\"2023-12-26\",\"closePrice\":\"2,602.59\",\"compareToPreviousClosePrice\":\"3.08\",\"compareToPreviousPrice\":{\"code\":\"2\",\"text\":\"상승\",\"name\":\"RISING\"},\"fluctuationsRatio\":\"0.12\",\"openPrice\":\"2,609.44\",\"highPrice\":\"2,612.14\",\"lowPrice\":\"2,594.65\"},{\"localTradedAt\":\"2023-12-22\",\"closePrice\":\"2,599.51\",\"compareToPreviousClosePrice\":\"-0.51\",\"compareToPreviousPrice\":{\"code\":\"5\",\"text\":\"하락\",\"name\":\"FALLING\"},\"fluctuationsRatio\":\"-0.02\",\"openPrice\":\"2,617.72\",\"highPrice\":\"2,621.37\",\"lowPrice\":\"2,599.51\"}]'"
      ]
     },
     "execution_count": 10,
     "metadata": {},
     "output_type": "execute_result"
    }
   ],
   "source": [
    "res.content #바이너리\n",
    "res.text"
   ]
  },
  {
   "cell_type": "code",
   "execution_count": null,
   "id": "a429b80d",
   "metadata": {},
   "outputs": [],
   "source": []
  }
 ],
 "metadata": {
  "kernelspec": {
   "display_name": "Python 3 (ipykernel)",
   "language": "python",
   "name": "python3"
  },
  "language_info": {
   "codemirror_mode": {
    "name": "ipython",
    "version": 3
   },
   "file_extension": ".py",
   "mimetype": "text/x-python",
   "name": "python",
   "nbconvert_exporter": "python",
   "pygments_lexer": "ipython3",
   "version": "3.11.5"
  }
 },
 "nbformat": 4,
 "nbformat_minor": 5
}
