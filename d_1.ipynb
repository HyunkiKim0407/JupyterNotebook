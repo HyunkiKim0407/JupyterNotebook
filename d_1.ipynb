{
 "cells": [
  {
   "cell_type": "code",
   "execution_count": 2,
   "id": "ccf78032",
   "metadata": {},
   "outputs": [
    {
     "name": "stdout",
     "output_type": "stream",
     "text": [
      "야\n"
     ]
    }
   ],
   "source": [
    "print(\"야\")"
   ]
  },
  {
   "cell_type": "code",
   "execution_count": 3,
   "id": "e02737ec",
   "metadata": {},
   "outputs": [],
   "source": [
    "a = \"latte\""
   ]
  },
  {
   "cell_type": "code",
   "execution_count": 5,
   "id": "1133302f",
   "metadata": {},
   "outputs": [],
   "source": [
    "a = 10"
   ]
  },
  {
   "cell_type": "code",
   "execution_count": 8,
   "id": "270c8eaa",
   "metadata": {},
   "outputs": [
    {
     "data": {
      "text/plain": [
       "11"
      ]
     },
     "execution_count": 8,
     "metadata": {},
     "output_type": "execute_result"
    }
   ],
   "source": [
    "a + 1 "
   ]
  },
  {
   "cell_type": "code",
   "execution_count": 9,
   "id": "68e4d954",
   "metadata": {},
   "outputs": [],
   "source": [
    "b = 20"
   ]
  },
  {
   "cell_type": "code",
   "execution_count": 10,
   "id": "0974c708",
   "metadata": {},
   "outputs": [
    {
     "data": {
      "text/plain": [
       "20"
      ]
     },
     "execution_count": 10,
     "metadata": {},
     "output_type": "execute_result"
    }
   ],
   "source": [
    "b "
   ]
  },
  {
   "cell_type": "code",
   "execution_count": 12,
   "id": "a8a35c81",
   "metadata": {},
   "outputs": [
    {
     "name": "stdout",
     "output_type": "stream",
     "text": [
      "10 + 20 = 200\n"
     ]
    }
   ],
   "source": [
    "print(a, '+' ,b, '=', a * b)"
   ]
  },
  {
   "cell_type": "code",
   "execution_count": 14,
   "id": "7ebd92ea",
   "metadata": {},
   "outputs": [
    {
     "name": "stdout",
     "output_type": "stream",
     "text": [
      "10 + 20 = 30\n"
     ]
    }
   ],
   "source": [
    "print(\"{} + {} = %d\" .format(a,b)%(a+b))"
   ]
  },
  {
   "cell_type": "code",
   "execution_count": 15,
   "id": "49894600",
   "metadata": {},
   "outputs": [
    {
     "name": "stdout",
     "output_type": "stream",
     "text": [
      "10 + 20 = 30\n"
     ]
    }
   ],
   "source": [
    "print(\"{1} + {0} = %d\" .format(b,a)%(a+b))"
   ]
  },
  {
   "cell_type": "code",
   "execution_count": 17,
   "id": "72dbf379",
   "metadata": {},
   "outputs": [
    {
     "name": "stdout",
     "output_type": "stream",
     "text": [
      "10 + 20 = 30\n"
     ]
    }
   ],
   "source": [
    "print(\"{} + %d = {}\" .format(a, a+b) % (b))"
   ]
  },
  {
   "cell_type": "code",
   "execution_count": 20,
   "id": "87727cf5",
   "metadata": {},
   "outputs": [
    {
     "data": {
      "text/plain": [
       "int"
      ]
     },
     "execution_count": 20,
     "metadata": {},
     "output_type": "execute_result"
    }
   ],
   "source": [
    "a = 10\n",
    "type(a)\n"
   ]
  },
  {
   "cell_type": "code",
   "execution_count": 39,
   "id": "eda015ff",
   "metadata": {},
   "outputs": [
    {
     "name": "stdout",
     "output_type": "stream",
     "text": [
      "2\n",
      "3\n"
     ]
    }
   ],
   "source": [
    "a = int(input())\n",
    "b = int(input())"
   ]
  },
  {
   "cell_type": "code",
   "execution_count": null,
   "id": "78bec0bc",
   "metadata": {},
   "outputs": [],
   "source": [
    "a = input('a : ')\n",
    "\n",
    "b = input('b : ')"
   ]
  },
  {
   "cell_type": "code",
   "execution_count": 42,
   "id": "00438ae1",
   "metadata": {},
   "outputs": [
    {
     "name": "stdout",
     "output_type": "stream",
     "text": [
      "1 2\n"
     ]
    }
   ],
   "source": [
    "print(a, b)\n"
   ]
  },
  {
   "cell_type": "code",
   "execution_count": 44,
   "id": "a8c3df09",
   "metadata": {},
   "outputs": [
    {
     "data": {
      "text/plain": [
       "'12'"
      ]
     },
     "execution_count": 44,
     "metadata": {},
     "output_type": "execute_result"
    }
   ],
   "source": [
    "a + b"
   ]
  },
  {
   "cell_type": "code",
   "execution_count": 43,
   "id": "a6eb5dfe",
   "metadata": {
    "scrolled": false
   },
   "outputs": [
    {
     "data": {
      "text/plain": [
       "'12'"
      ]
     },
     "execution_count": 43,
     "metadata": {},
     "output_type": "execute_result"
    }
   ],
   "source": [
    "### 설명글은 명령모드 M\n",
    "### 코드는 y\n",
    "### 셀분리 ctr shift -\n",
    "### 셀 머지 shift m"
   ]
  },
  {
   "cell_type": "code",
   "execution_count": 1,
   "id": "3c7d1306",
   "metadata": {},
   "outputs": [
    {
     "name": "stdout",
     "output_type": "stream",
     "text": [
      "a b c : 1 2 3\n"
     ]
    }
   ],
   "source": [
    "c = input('a b c : ')\n",
    "c = c.split()"
   ]
  },
  {
   "cell_type": "code",
   "execution_count": 7,
   "id": "e1b83b29",
   "metadata": {},
   "outputs": [
    {
     "data": {
      "text/plain": [
       "['1', '2', '3']"
      ]
     },
     "execution_count": 7,
     "metadata": {},
     "output_type": "execute_result"
    }
   ],
   "source": [
    "c"
   ]
  },
  {
   "cell_type": "code",
   "execution_count": 8,
   "id": "b1707d9a",
   "metadata": {},
   "outputs": [
    {
     "data": {
      "text/plain": [
       "'1'"
      ]
     },
     "execution_count": 8,
     "metadata": {},
     "output_type": "execute_result"
    }
   ],
   "source": [
    "x, y, z = c\n",
    "x"
   ]
  },
  {
   "cell_type": "code",
   "execution_count": 10,
   "id": "bb3a7297",
   "metadata": {},
   "outputs": [],
   "source": [
    "x = int(x)\n",
    "y = int(y)\n",
    "z = int(z)"
   ]
  },
  {
   "cell_type": "code",
   "execution_count": 13,
   "id": "a9bd23ef",
   "metadata": {
    "scrolled": true
   },
   "outputs": [
    {
     "name": "stdout",
     "output_type": "stream",
     "text": [
      "1 2 3\n"
     ]
    }
   ],
   "source": [
    "print(x, y, z)"
   ]
  },
  {
   "cell_type": "code",
   "execution_count": 16,
   "id": "9ff31475",
   "metadata": {},
   "outputs": [
    {
     "name": "stdout",
     "output_type": "stream",
     "text": [
      "6\n"
     ]
    }
   ],
   "source": [
    "print(x + y + z)"
   ]
  },
  {
   "cell_type": "markdown",
   "id": "27d21789",
   "metadata": {},
   "source": [
    "input() > str > 여러개 > split(): 공백나누기 > int > 덧샘\n",
    "\n",
    "\n",
    "\n",
    "\n",
    "\n"
   ]
  },
  {
   "cell_type": "code",
   "execution_count": 18,
   "id": "c91720c9",
   "metadata": {},
   "outputs": [
    {
     "name": "stdout",
     "output_type": "stream",
     "text": [
      "x, y, z :5 6 7\n"
     ]
    },
    {
     "data": {
      "text/plain": [
       "18"
      ]
     },
     "execution_count": 18,
     "metadata": {},
     "output_type": "execute_result"
    }
   ],
   "source": [
    "x, y, z = map(int, input('x, y, z :').split())\n",
    "x + y + z"
   ]
  },
  {
   "cell_type": "markdown",
   "id": "e5172b54",
   "metadata": {},
   "source": [
    "a + b 윗칸 설명글\n",
    "map(함수, 반복데이터) : 반복데이터를 하나씩 함수에 적용"
   ]
  },
  {
   "cell_type": "code",
   "execution_count": 28,
   "id": "aa4e4506",
   "metadata": {},
   "outputs": [],
   "source": [
    "a = 10 \n",
    "b = 20\n",
    "\n",
    "temp = a\n",
    "\n",
    "a = b\n",
    "\n",
    "b = temp"
   ]
  },
  {
   "cell_type": "code",
   "execution_count": 29,
   "id": "efe0f85b",
   "metadata": {},
   "outputs": [
    {
     "name": "stdout",
     "output_type": "stream",
     "text": [
      "20 10\n"
     ]
    }
   ],
   "source": [
    "print(a, b)"
   ]
  },
  {
   "cell_type": "code",
   "execution_count": 36,
   "id": "7a2cc6ac",
   "metadata": {},
   "outputs": [
    {
     "name": "stdout",
     "output_type": "stream",
     "text": [
      "10\n",
      "20\n"
     ]
    }
   ],
   "source": [
    "a = int(input())\n",
    "b = int(input())"
   ]
  },
  {
   "cell_type": "code",
   "execution_count": 25,
   "id": "60aa27bd",
   "metadata": {},
   "outputs": [
    {
     "name": "stdout",
     "output_type": "stream",
     "text": [
      "10\n",
      "20\n"
     ]
    }
   ],
   "source": [
    "a = input()\n",
    "b = input()"
   ]
  },
  {
   "cell_type": "code",
   "execution_count": 10,
   "id": "093d197c",
   "metadata": {},
   "outputs": [
    {
     "data": {
      "text/plain": [
       "int"
      ]
     },
     "execution_count": 10,
     "metadata": {},
     "output_type": "execute_result"
    }
   ],
   "source": [
    "type(a)"
   ]
  },
  {
   "cell_type": "code",
   "execution_count": 19,
   "id": "80c2acdb",
   "metadata": {},
   "outputs": [
    {
     "name": "stdout",
     "output_type": "stream",
     "text": [
      "10 더하기 20 은 30 입니다.\n"
     ]
    }
   ],
   "source": [
    "c = a + b\n",
    "print(a, '더하기', b, '은', c, '입니다.')"
   ]
  },
  {
   "cell_type": "code",
   "execution_count": 42,
   "id": "327df840",
   "metadata": {},
   "outputs": [
    {
     "name": "stdout",
     "output_type": "stream",
     "text": [
      "10 더하기 20은 30입니다\n"
     ]
    }
   ],
   "source": [
    "c = \"{} 더하기 {}은 {}입니다\".format(a, b, a + b)\n",
    "print(c)"
   ]
  },
  {
   "cell_type": "code",
   "execution_count": 38,
   "id": "9581ddc2",
   "metadata": {},
   "outputs": [
    {
     "name": "stdout",
     "output_type": "stream",
     "text": [
      "10 더하기 20는 30 입니다.\n"
     ]
    }
   ],
   "source": [
    "c = a + b\n",
    "print(\"%d 더하기 %d는 %d 입니다.\" %(a,b,c))"
   ]
  },
  {
   "cell_type": "code",
   "execution_count": 22,
   "id": "90a4dbd1",
   "metadata": {},
   "outputs": [
    {
     "data": {
      "text/plain": [
       "12345890"
      ]
     },
     "execution_count": 22,
     "metadata": {},
     "output_type": "execute_result"
    }
   ],
   "source": [
    "a = 12345678\n",
    "a = a ^ 876\n",
    "a\n"
   ]
  },
  {
   "cell_type": "code",
   "execution_count": 23,
   "id": "83e8de75",
   "metadata": {},
   "outputs": [
    {
     "data": {
      "text/plain": [
       "12345678"
      ]
     },
     "execution_count": 23,
     "metadata": {},
     "output_type": "execute_result"
    }
   ],
   "source": [
    "a = 12345890\n",
    "a = a^ 876\n",
    "a\n"
   ]
  },
  {
   "cell_type": "markdown",
   "id": "b35c17ff",
   "metadata": {},
   "source": [
    "비트연산자 공부"
   ]
  },
  {
   "cell_type": "code",
   "execution_count": 43,
   "id": "8204e1b4",
   "metadata": {},
   "outputs": [],
   "source": [
    "a = 'my name is hong'.split()"
   ]
  },
  {
   "cell_type": "code",
   "execution_count": 44,
   "id": "07c76c43",
   "metadata": {},
   "outputs": [
    {
     "name": "stdout",
     "output_type": "stream",
     "text": [
      "['my', 'name', 'is', 'hong']\n"
     ]
    }
   ],
   "source": [
    "print(a)"
   ]
  },
  {
   "cell_type": "code",
   "execution_count": 46,
   "id": "020f769f",
   "metadata": {},
   "outputs": [
    {
     "name": "stdout",
     "output_type": "stream",
     "text": [
      "my:name:is:hong\n"
     ]
    },
    {
     "data": {
      "text/plain": [
       "'my:name:is:hong'"
      ]
     },
     "execution_count": 46,
     "metadata": {},
     "output_type": "execute_result"
    }
   ],
   "source": [
    "b = \":\".join(a)\n",
    "print(b)\n",
    "b"
   ]
  },
  {
   "cell_type": "code",
   "execution_count": 47,
   "id": "084a88ac",
   "metadata": {},
   "outputs": [
    {
     "name": "stdout",
     "output_type": "stream",
     "text": [
      "33\n",
      "34\n"
     ]
    }
   ],
   "source": [
    "a = 33.3\n",
    "print(round(a))\n",
    "print(round(33.6))"
   ]
  },
  {
   "cell_type": "code",
   "execution_count": null,
   "id": "ec4e3dfd",
   "metadata": {},
   "outputs": [],
   "source": []
  },
  {
   "cell_type": "code",
   "execution_count": 3,
   "id": "ad0cbac4",
   "metadata": {},
   "outputs": [
    {
     "name": "stdout",
     "output_type": "stream",
     "text": [
      "알파벳 입력: 3\n",
      "숫자\n"
     ]
    }
   ],
   "source": [
    "text = input(\"알파벳 입력: \")\n",
    "if text.isupper():\n",
    "    print(\"대문자\")\n",
    "elif text.islower():\n",
    "    print(\"소문자\")\n",
    "elif text.isdigit():\n",
    "    print(\"숫자\")\n",
    "else:\n",
    "    print(\"구분불가\")"
   ]
  },
  {
   "cell_type": "code",
   "execution_count": 7,
   "id": "11e3fdfe",
   "metadata": {},
   "outputs": [
    {
     "data": {
      "text/plain": [
       "'a'"
      ]
     },
     "execution_count": 7,
     "metadata": {},
     "output_type": "execute_result"
    }
   ],
   "source": [
    "ch = 'A'\n",
    "ch = ord(ch) ^ 32 #0010 0000\n",
    "chr(ch)"
   ]
  },
  {
   "cell_type": "code",
   "execution_count": null,
   "id": "04bf0c20",
   "metadata": {},
   "outputs": [],
   "source": []
  }
 ],
 "metadata": {
  "kernelspec": {
   "display_name": "Python 3 (ipykernel)",
   "language": "python",
   "name": "python3"
  },
  "language_info": {
   "codemirror_mode": {
    "name": "ipython",
    "version": 3
   },
   "file_extension": ".py",
   "mimetype": "text/x-python",
   "name": "python",
   "nbconvert_exporter": "python",
   "pygments_lexer": "ipython3",
   "version": "3.11.5"
  }
 },
 "nbformat": 4,
 "nbformat_minor": 5
}
