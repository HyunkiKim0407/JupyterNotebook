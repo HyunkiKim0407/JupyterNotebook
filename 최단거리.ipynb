{
 "cells": [
  {
   "cell_type": "code",
   "execution_count": 2,
   "id": "48b030f7-2ddf-40f6-95a8-01b7e77e1eab",
   "metadata": {},
   "outputs": [
    {
     "name": "stdout",
     "output_type": "stream",
     "text": [
      "(2, array([0, 0, 1, 1], dtype=int32))\n"
     ]
    }
   ],
   "source": [
    "import numpy as np \n",
    "from scipy.sparse.csgraph import connected_components\n",
    "\n",
    "from scipy.sparse import csr_matrix\n",
    "\n",
    "arr = np.array([\n",
    "                [0,1,0,0],[1,0,0,0],[0,0,0,2],[0,0,2,0]\n",
    "                ])\n",
    "\n",
    "new_arr = csr_matrix(arr)\n",
    "\n",
    "print(connected_components(new_arr))"
   ]
  },
  {
   "cell_type": "code",
   "execution_count": 1,
   "id": "1f85e91c-003b-450a-956d-274c8d693e5e",
   "metadata": {},
   "outputs": [
    {
     "name": "stdout",
     "output_type": "stream",
     "text": [
      "(array([0., 1., 2.]), array([-9999,     0,     0], dtype=int32))\n"
     ]
    }
   ],
   "source": [
    "import numpy as np \n",
    "from scipy.sparse.csgraph import dijkstra\n",
    "from scipy.sparse import csr_matrix\n",
    "\n",
    "arr = np.array([\n",
    "    [0,1,2],[1,0,0],[2,0,0]\n",
    "                ])\n",
    "newarr = csr_matrix(arr)\n",
    "print(dijkstra(newarr, return_predecessors=True, indices=0))\n"
   ]
  },
  {
   "cell_type": "code",
   "execution_count": 3,
   "id": "2e922915-a2d8-414d-a6cc-ebba6cf31be3",
   "metadata": {},
   "outputs": [
    {
     "name": "stdout",
     "output_type": "stream",
     "text": [
      "(array([ 0.,  1.,  2.,  3.,  7.,  8.,  9.,  5., 16., 20., 29.]), array([-9999,     0,     0,     0,     2,     2,     2,     1,     4,\n",
      "           6,     8], dtype=int32))\n"
     ]
    }
   ],
   "source": [
    "import numpy as np \n",
    "from scipy.sparse.csgraph import dijkstra\n",
    "from scipy.sparse import csr_matrix\n",
    "\n",
    "arr = np.array([\n",
    "    [0,1,2,3,0,0,0,0,0,0,0],\n",
    "    [1,0,0,0,0,0,0,4,0,0,0],\n",
    "    [2,0,0,0,5,6,7,0,0,0,0],\n",
    "    [3,0,0,0,0,0,8,0,0,0,0],\n",
    "    [0,0,5,0,0,0,0,0,9,0,0],\n",
    "    [0,0,6,0,0,0,0,0,10,0,0],\n",
    "    [0,0,7,8,0,0,0,0,0,11,0],\n",
    "    [0,4,0,0,0,0,0,0,0,0,0],\n",
    "    [0,0,0,0,9,10,0,0,0,12,13],\n",
    "    [0,0,0,0,0,0,11,0,12,0,0],\n",
    "    [0,0,0,0,0,0,0,0,13,0,0]\n",
    "                ])\n",
    "newarr = csr_matrix(arr)\n",
    "print(dijkstra(newarr, return_predecessors=True, indices=0))\n"
   ]
  },
  {
   "cell_type": "code",
   "execution_count": 6,
   "id": "dc1f2931-c58c-4337-ac28-f2abf8cbf4d1",
   "metadata": {},
   "outputs": [
    {
     "name": "stdout",
     "output_type": "stream",
     "text": [
      "남은 돈: 4\n"
     ]
    }
   ],
   "source": []
  },
  {
   "cell_type": "code",
   "execution_count": null,
   "id": "8e141ba1-4da1-4571-bf17-062db65b226c",
   "metadata": {},
   "outputs": [],
   "source": []
  },
  {
   "cell_type": "code",
   "execution_count": null,
   "id": "92d9c84c-1bd2-4e05-b857-76dbc5b7538a",
   "metadata": {},
   "outputs": [],
   "source": []
  }
 ],
 "metadata": {
  "kernelspec": {
   "display_name": "Python 3 (ipykernel)",
   "language": "python",
   "name": "python3"
  },
  "language_info": {
   "codemirror_mode": {
    "name": "ipython",
    "version": 3
   },
   "file_extension": ".py",
   "mimetype": "text/x-python",
   "name": "python",
   "nbconvert_exporter": "python",
   "pygments_lexer": "ipython3",
   "version": "3.11.5"
  }
 },
 "nbformat": 4,
 "nbformat_minor": 5
}
